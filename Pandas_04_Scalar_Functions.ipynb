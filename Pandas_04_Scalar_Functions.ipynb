{
 "cells": [
  {
   "cell_type": "markdown",
   "id": "0e0a8d05",
   "metadata": {},
   "source": [
    "# Functions"
   ]
  },
  {
   "cell_type": "code",
   "execution_count": 1,
   "id": "d79ae431",
   "metadata": {},
   "outputs": [],
   "source": [
    "import pandas as pd\n",
    "import seaborn as sb"
   ]
  },
  {
   "cell_type": "code",
   "execution_count": 8,
   "id": "89094248",
   "metadata": {},
   "outputs": [
    {
     "name": "stdout",
     "output_type": "stream",
     "text": [
      "['anagrams', 'anscombe', 'attention', 'brain_networks', 'car_crashes', 'diamonds', 'dots', 'dowjones', 'exercise', 'flights', 'fmri', 'geyser', 'glue', 'healthexp', 'iris', 'mpg', 'penguins', 'planets', 'seaice', 'taxis', 'tips', 'titanic']\n"
     ]
    }
   ],
   "source": [
    "print(sb.get_dataset_names())"
   ]
  },
  {
   "cell_type": "code",
   "execution_count": 2,
   "id": "afcef6b0",
   "metadata": {},
   "outputs": [],
   "source": [
    "df = sb.load_dataset(\"tips\")\n",
    "titanic=sb.load_dataset(\"titanic\")\n",
    "products=pd.read_csv(\"data/products.csv\")"
   ]
  },
  {
   "cell_type": "code",
   "execution_count": 3,
   "id": "f0c6ee4a",
   "metadata": {},
   "outputs": [
    {
     "data": {
      "text/html": [
       "<div>\n",
       "<style scoped>\n",
       "    .dataframe tbody tr th:only-of-type {\n",
       "        vertical-align: middle;\n",
       "    }\n",
       "\n",
       "    .dataframe tbody tr th {\n",
       "        vertical-align: top;\n",
       "    }\n",
       "\n",
       "    .dataframe thead th {\n",
       "        text-align: right;\n",
       "    }\n",
       "</style>\n",
       "<table border=\"1\" class=\"dataframe\">\n",
       "  <thead>\n",
       "    <tr style=\"text-align: right;\">\n",
       "      <th></th>\n",
       "      <th>total_bill</th>\n",
       "      <th>tip</th>\n",
       "      <th>sex</th>\n",
       "      <th>smoker</th>\n",
       "      <th>day</th>\n",
       "      <th>time</th>\n",
       "      <th>size</th>\n",
       "    </tr>\n",
       "  </thead>\n",
       "  <tbody>\n",
       "    <tr>\n",
       "      <th>0</th>\n",
       "      <td>16.99</td>\n",
       "      <td>1.01</td>\n",
       "      <td>Female</td>\n",
       "      <td>No</td>\n",
       "      <td>Sun</td>\n",
       "      <td>Dinner</td>\n",
       "      <td>2</td>\n",
       "    </tr>\n",
       "    <tr>\n",
       "      <th>1</th>\n",
       "      <td>10.34</td>\n",
       "      <td>1.66</td>\n",
       "      <td>Male</td>\n",
       "      <td>No</td>\n",
       "      <td>Sun</td>\n",
       "      <td>Dinner</td>\n",
       "      <td>3</td>\n",
       "    </tr>\n",
       "    <tr>\n",
       "      <th>2</th>\n",
       "      <td>21.01</td>\n",
       "      <td>3.50</td>\n",
       "      <td>Male</td>\n",
       "      <td>No</td>\n",
       "      <td>Sun</td>\n",
       "      <td>Dinner</td>\n",
       "      <td>3</td>\n",
       "    </tr>\n",
       "    <tr>\n",
       "      <th>3</th>\n",
       "      <td>23.68</td>\n",
       "      <td>3.31</td>\n",
       "      <td>Male</td>\n",
       "      <td>No</td>\n",
       "      <td>Sun</td>\n",
       "      <td>Dinner</td>\n",
       "      <td>2</td>\n",
       "    </tr>\n",
       "    <tr>\n",
       "      <th>4</th>\n",
       "      <td>24.59</td>\n",
       "      <td>3.61</td>\n",
       "      <td>Female</td>\n",
       "      <td>No</td>\n",
       "      <td>Sun</td>\n",
       "      <td>Dinner</td>\n",
       "      <td>4</td>\n",
       "    </tr>\n",
       "  </tbody>\n",
       "</table>\n",
       "</div>"
      ],
      "text/plain": [
       "   total_bill   tip     sex smoker  day    time  size\n",
       "0       16.99  1.01  Female     No  Sun  Dinner     2\n",
       "1       10.34  1.66    Male     No  Sun  Dinner     3\n",
       "2       21.01  3.50    Male     No  Sun  Dinner     3\n",
       "3       23.68  3.31    Male     No  Sun  Dinner     2\n",
       "4       24.59  3.61  Female     No  Sun  Dinner     4"
      ]
     },
     "execution_count": 3,
     "metadata": {},
     "output_type": "execute_result"
    }
   ],
   "source": [
    "df.head()"
   ]
  },
  {
   "cell_type": "code",
   "execution_count": 5,
   "id": "6a184cbf",
   "metadata": {},
   "outputs": [],
   "source": [
    "pup = pd.read_csv('data/Pupils.csv')"
   ]
  },
  {
   "cell_type": "code",
   "execution_count": 6,
   "id": "fa67509a",
   "metadata": {},
   "outputs": [
    {
     "data": {
      "text/html": [
       "<div>\n",
       "<style scoped>\n",
       "    .dataframe tbody tr th:only-of-type {\n",
       "        vertical-align: middle;\n",
       "    }\n",
       "\n",
       "    .dataframe tbody tr th {\n",
       "        vertical-align: top;\n",
       "    }\n",
       "\n",
       "    .dataframe thead th {\n",
       "        text-align: right;\n",
       "    }\n",
       "</style>\n",
       "<table border=\"1\" class=\"dataframe\">\n",
       "  <thead>\n",
       "    <tr style=\"text-align: right;\">\n",
       "      <th></th>\n",
       "      <th>Name</th>\n",
       "      <th>Age</th>\n",
       "      <th>Country</th>\n",
       "      <th>Height</th>\n",
       "      <th>Weight</th>\n",
       "      <th>avg</th>\n",
       "      <th>income</th>\n",
       "      <th>rooms</th>\n",
       "      <th>family</th>\n",
       "      <th>type</th>\n",
       "      <th>gen</th>\n",
       "    </tr>\n",
       "  </thead>\n",
       "  <tbody>\n",
       "    <tr>\n",
       "      <th>0</th>\n",
       "      <td>adar</td>\n",
       "      <td>6</td>\n",
       "      <td>SP</td>\n",
       "      <td>113</td>\n",
       "      <td>30</td>\n",
       "      <td>70</td>\n",
       "      <td>16700</td>\n",
       "      <td>7</td>\n",
       "      <td>6</td>\n",
       "      <td>1</td>\n",
       "      <td>M</td>\n",
       "    </tr>\n",
       "    <tr>\n",
       "      <th>1</th>\n",
       "      <td>agam</td>\n",
       "      <td>6</td>\n",
       "      <td>GR</td>\n",
       "      <td>172</td>\n",
       "      <td>71</td>\n",
       "      <td>92</td>\n",
       "      <td>9200</td>\n",
       "      <td>5</td>\n",
       "      <td>4</td>\n",
       "      <td>2</td>\n",
       "      <td>F</td>\n",
       "    </tr>\n",
       "    <tr>\n",
       "      <th>2</th>\n",
       "      <td>avi</td>\n",
       "      <td>7</td>\n",
       "      <td>ISR</td>\n",
       "      <td>143</td>\n",
       "      <td>58</td>\n",
       "      <td>82</td>\n",
       "      <td>12000</td>\n",
       "      <td>3</td>\n",
       "      <td>7</td>\n",
       "      <td>1</td>\n",
       "      <td>M</td>\n",
       "    </tr>\n",
       "    <tr>\n",
       "      <th>3</th>\n",
       "      <td>dani</td>\n",
       "      <td>7</td>\n",
       "      <td>US</td>\n",
       "      <td>160</td>\n",
       "      <td>70</td>\n",
       "      <td>90</td>\n",
       "      <td>15000</td>\n",
       "      <td>4</td>\n",
       "      <td>4</td>\n",
       "      <td>2</td>\n",
       "      <td>M</td>\n",
       "    </tr>\n",
       "    <tr>\n",
       "      <th>4</th>\n",
       "      <td>dina</td>\n",
       "      <td>7</td>\n",
       "      <td>ISR</td>\n",
       "      <td>110</td>\n",
       "      <td>26</td>\n",
       "      <td>64</td>\n",
       "      <td>10000</td>\n",
       "      <td>6</td>\n",
       "      <td>8</td>\n",
       "      <td>1</td>\n",
       "      <td>F</td>\n",
       "    </tr>\n",
       "  </tbody>\n",
       "</table>\n",
       "</div>"
      ],
      "text/plain": [
       "   Name  Age Country  Height  Weight  avg  income  rooms  family  type gen\n",
       "0  adar    6      SP     113      30   70   16700      7       6     1   M\n",
       "1  agam    6      GR     172      71   92    9200      5       4     2   F\n",
       "2   avi    7     ISR     143      58   82   12000      3       7     1   M\n",
       "3  dani    7      US     160      70   90   15000      4       4     2   M\n",
       "4  dina    7     ISR     110      26   64   10000      6       8     1   F"
      ]
     },
     "execution_count": 6,
     "metadata": {},
     "output_type": "execute_result"
    }
   ],
   "source": [
    "pup.head()"
   ]
  },
  {
   "cell_type": "code",
   "execution_count": 9,
   "id": "c83d2426-0052-4967-a28b-77b33a47f90c",
   "metadata": {},
   "outputs": [
    {
     "name": "stdout",
     "output_type": "stream",
     "text": [
      "<class 'pandas.core.frame.DataFrame'>\n",
      "RangeIndex: 30 entries, 0 to 29\n",
      "Data columns (total 11 columns):\n",
      " #   Column   Non-Null Count  Dtype \n",
      "---  ------   --------------  ----- \n",
      " 0   Name     30 non-null     object\n",
      " 1   Age      30 non-null     int64 \n",
      " 2   Country  30 non-null     object\n",
      " 3   Height   30 non-null     int64 \n",
      " 4   Weight   30 non-null     int64 \n",
      " 5   avg      30 non-null     int64 \n",
      " 6   income   30 non-null     int64 \n",
      " 7   rooms    30 non-null     int64 \n",
      " 8   family   30 non-null     int64 \n",
      " 9   type     30 non-null     int64 \n",
      " 10  gen      30 non-null     object\n",
      "dtypes: int64(8), object(3)\n",
      "memory usage: 2.7+ KB\n"
     ]
    }
   ],
   "source": [
    "pup.info()"
   ]
  },
  {
   "cell_type": "markdown",
   "id": "e8af1d24",
   "metadata": {},
   "source": [
    "# String Functions"
   ]
  },
  {
   "cell_type": "code",
   "execution_count": 12,
   "id": "19f60b6a-57fe-4085-a4b4-c75721fabcd7",
   "metadata": {},
   "outputs": [
    {
     "data": {
      "text/plain": [
       "0        adar\n",
       "1        agam\n",
       "2         avi\n",
       "3        dani\n",
       "4        dina\n",
       "5       efrat\n",
       "6        ehud\n",
       "7         eli\n",
       "8       ester\n",
       "9     evyatar\n",
       "10     itamar\n",
       "11       liel\n",
       "12     lilach\n",
       "13        mia\n",
       "14     michal\n",
       "15      moshe\n",
       "16       noya\n",
       "17       ofer\n",
       "18       ohad\n",
       "19       omer\n",
       "20       orit\n",
       "21       orit\n",
       "22       rina\n",
       "23      shely\n",
       "24      talya\n",
       "25      tomer\n",
       "26        udi\n",
       "27      yafit\n",
       "28       yoav\n",
       "29       yosi\n",
       "Name: Name, dtype: object"
      ]
     },
     "execution_count": 12,
     "metadata": {},
     "output_type": "execute_result"
    }
   ],
   "source": [
    "pup[\"Name\"]"
   ]
  },
  {
   "cell_type": "code",
   "execution_count": 11,
   "id": "5214db2d",
   "metadata": {},
   "outputs": [
    {
     "data": {
      "text/plain": [
       "'adar'"
      ]
     },
     "execution_count": 11,
     "metadata": {},
     "output_type": "execute_result"
    }
   ],
   "source": [
    "#Get the first row\n",
    "pup[\"Name\"][0]"
   ]
  },
  {
   "cell_type": "code",
   "execution_count": 14,
   "id": "6c3b44a1-c4fe-4f88-95d6-8a81fdeffb8b",
   "metadata": {},
   "outputs": [
    {
     "ename": "KeyError",
     "evalue": "0",
     "output_type": "error",
     "traceback": [
      "\u001b[1;31m---------------------------------------------------------------------------\u001b[0m",
      "\u001b[1;31mKeyError\u001b[0m                                  Traceback (most recent call last)",
      "File \u001b[1;32mC:\\Python\\Python312\\Lib\\site-packages\\pandas\\core\\indexes\\base.py:3805\u001b[0m, in \u001b[0;36mIndex.get_loc\u001b[1;34m(self, key)\u001b[0m\n\u001b[0;32m   3804\u001b[0m \u001b[38;5;28;01mtry\u001b[39;00m:\n\u001b[1;32m-> 3805\u001b[0m     \u001b[38;5;28;01mreturn\u001b[39;00m \u001b[38;5;28;43mself\u001b[39;49m\u001b[38;5;241;43m.\u001b[39;49m\u001b[43m_engine\u001b[49m\u001b[38;5;241;43m.\u001b[39;49m\u001b[43mget_loc\u001b[49m\u001b[43m(\u001b[49m\u001b[43mcasted_key\u001b[49m\u001b[43m)\u001b[49m\n\u001b[0;32m   3806\u001b[0m \u001b[38;5;28;01mexcept\u001b[39;00m \u001b[38;5;167;01mKeyError\u001b[39;00m \u001b[38;5;28;01mas\u001b[39;00m err:\n",
      "File \u001b[1;32mindex.pyx:167\u001b[0m, in \u001b[0;36mpandas._libs.index.IndexEngine.get_loc\u001b[1;34m()\u001b[0m\n",
      "File \u001b[1;32mindex.pyx:196\u001b[0m, in \u001b[0;36mpandas._libs.index.IndexEngine.get_loc\u001b[1;34m()\u001b[0m\n",
      "File \u001b[1;32mpandas\\\\_libs\\\\hashtable_class_helper.pxi:7081\u001b[0m, in \u001b[0;36mpandas._libs.hashtable.PyObjectHashTable.get_item\u001b[1;34m()\u001b[0m\n",
      "File \u001b[1;32mpandas\\\\_libs\\\\hashtable_class_helper.pxi:7089\u001b[0m, in \u001b[0;36mpandas._libs.hashtable.PyObjectHashTable.get_item\u001b[1;34m()\u001b[0m\n",
      "\u001b[1;31mKeyError\u001b[0m: 0",
      "\nThe above exception was the direct cause of the following exception:\n",
      "\u001b[1;31mKeyError\u001b[0m                                  Traceback (most recent call last)",
      "Cell \u001b[1;32mIn[14], line 1\u001b[0m\n\u001b[1;32m----> 1\u001b[0m \u001b[43mpup\u001b[49m\u001b[43m[\u001b[49m\u001b[43m[\u001b[49m\u001b[38;5;124;43m\"\u001b[39;49m\u001b[38;5;124;43mName\u001b[39;49m\u001b[38;5;124;43m\"\u001b[39;49m\u001b[43m,\u001b[49m\u001b[38;5;124;43m\"\u001b[39;49m\u001b[38;5;124;43mAge\u001b[39;49m\u001b[38;5;124;43m\"\u001b[39;49m\u001b[43m]\u001b[49m\u001b[43m]\u001b[49m\u001b[43m[\u001b[49m\u001b[38;5;241;43m0\u001b[39;49m\u001b[43m]\u001b[49m\n",
      "File \u001b[1;32mC:\\Python\\Python312\\Lib\\site-packages\\pandas\\core\\frame.py:4102\u001b[0m, in \u001b[0;36mDataFrame.__getitem__\u001b[1;34m(self, key)\u001b[0m\n\u001b[0;32m   4100\u001b[0m \u001b[38;5;28;01mif\u001b[39;00m \u001b[38;5;28mself\u001b[39m\u001b[38;5;241m.\u001b[39mcolumns\u001b[38;5;241m.\u001b[39mnlevels \u001b[38;5;241m>\u001b[39m \u001b[38;5;241m1\u001b[39m:\n\u001b[0;32m   4101\u001b[0m     \u001b[38;5;28;01mreturn\u001b[39;00m \u001b[38;5;28mself\u001b[39m\u001b[38;5;241m.\u001b[39m_getitem_multilevel(key)\n\u001b[1;32m-> 4102\u001b[0m indexer \u001b[38;5;241m=\u001b[39m \u001b[38;5;28;43mself\u001b[39;49m\u001b[38;5;241;43m.\u001b[39;49m\u001b[43mcolumns\u001b[49m\u001b[38;5;241;43m.\u001b[39;49m\u001b[43mget_loc\u001b[49m\u001b[43m(\u001b[49m\u001b[43mkey\u001b[49m\u001b[43m)\u001b[49m\n\u001b[0;32m   4103\u001b[0m \u001b[38;5;28;01mif\u001b[39;00m is_integer(indexer):\n\u001b[0;32m   4104\u001b[0m     indexer \u001b[38;5;241m=\u001b[39m [indexer]\n",
      "File \u001b[1;32mC:\\Python\\Python312\\Lib\\site-packages\\pandas\\core\\indexes\\base.py:3812\u001b[0m, in \u001b[0;36mIndex.get_loc\u001b[1;34m(self, key)\u001b[0m\n\u001b[0;32m   3807\u001b[0m     \u001b[38;5;28;01mif\u001b[39;00m \u001b[38;5;28misinstance\u001b[39m(casted_key, \u001b[38;5;28mslice\u001b[39m) \u001b[38;5;129;01mor\u001b[39;00m (\n\u001b[0;32m   3808\u001b[0m         \u001b[38;5;28misinstance\u001b[39m(casted_key, abc\u001b[38;5;241m.\u001b[39mIterable)\n\u001b[0;32m   3809\u001b[0m         \u001b[38;5;129;01mand\u001b[39;00m \u001b[38;5;28many\u001b[39m(\u001b[38;5;28misinstance\u001b[39m(x, \u001b[38;5;28mslice\u001b[39m) \u001b[38;5;28;01mfor\u001b[39;00m x \u001b[38;5;129;01min\u001b[39;00m casted_key)\n\u001b[0;32m   3810\u001b[0m     ):\n\u001b[0;32m   3811\u001b[0m         \u001b[38;5;28;01mraise\u001b[39;00m InvalidIndexError(key)\n\u001b[1;32m-> 3812\u001b[0m     \u001b[38;5;28;01mraise\u001b[39;00m \u001b[38;5;167;01mKeyError\u001b[39;00m(key) \u001b[38;5;28;01mfrom\u001b[39;00m \u001b[38;5;21;01merr\u001b[39;00m\n\u001b[0;32m   3813\u001b[0m \u001b[38;5;28;01mexcept\u001b[39;00m \u001b[38;5;167;01mTypeError\u001b[39;00m:\n\u001b[0;32m   3814\u001b[0m     \u001b[38;5;66;03m# If we have a listlike key, _check_indexing_error will raise\u001b[39;00m\n\u001b[0;32m   3815\u001b[0m     \u001b[38;5;66;03m#  InvalidIndexError. Otherwise we fall through and re-raise\u001b[39;00m\n\u001b[0;32m   3816\u001b[0m     \u001b[38;5;66;03m#  the TypeError.\u001b[39;00m\n\u001b[0;32m   3817\u001b[0m     \u001b[38;5;28mself\u001b[39m\u001b[38;5;241m.\u001b[39m_check_indexing_error(key)\n",
      "\u001b[1;31mKeyError\u001b[0m: 0"
     ]
    }
   ],
   "source": [
    "#pup[[\"Name\",\"Age\"]][0]--Return error"
   ]
  },
  {
   "cell_type": "code",
   "execution_count": 15,
   "id": "c575fa10",
   "metadata": {},
   "outputs": [
    {
     "data": {
      "text/plain": [
       "0    a\n",
       "1    a\n",
       "2    a\n",
       "3    d\n",
       "4    d\n",
       "Name: Name, dtype: object"
      ]
     },
     "execution_count": 15,
     "metadata": {},
     "output_type": "execute_result"
    }
   ],
   "source": [
    "pup[\"Name\"].str[0].head()"
   ]
  },
  {
   "cell_type": "code",
   "execution_count": 16,
   "id": "dc6f0183-d8bf-4866-9b05-054d6bb905c7",
   "metadata": {},
   "outputs": [
    {
     "data": {
      "text/plain": [
       "0    ada\n",
       "1    aga\n",
       "2    avi\n",
       "3    dan\n",
       "4    din\n",
       "Name: Name, dtype: object"
      ]
     },
     "execution_count": 16,
     "metadata": {},
     "output_type": "execute_result"
    }
   ],
   "source": [
    "pup[\"Name\"].str[0:3].head()"
   ]
  },
  {
   "cell_type": "code",
   "execution_count": null,
   "id": "437fc39f",
   "metadata": {},
   "outputs": [],
   "source": [
    "#slice() - Slice substrings from each element in the Series or Index."
   ]
  },
  {
   "cell_type": "code",
   "execution_count": 17,
   "id": "c7ea9a32",
   "metadata": {},
   "outputs": [
    {
     "data": {
      "text/plain": [
       "0    ada\n",
       "1    aga\n",
       "2    avi\n",
       "3    dan\n",
       "4    din\n",
       "Name: Name, dtype: object"
      ]
     },
     "execution_count": 17,
     "metadata": {},
     "output_type": "execute_result"
    }
   ],
   "source": [
    "pup[\"Name\"].str.slice(0,3).head()"
   ]
  },
  {
   "cell_type": "code",
   "execution_count": 18,
   "id": "82626aa2",
   "metadata": {},
   "outputs": [
    {
     "data": {
      "text/plain": [
       "0    da\n",
       "1    ga\n",
       "2    vi\n",
       "3    an\n",
       "4    in\n",
       "Name: Name, dtype: object"
      ]
     },
     "execution_count": 18,
     "metadata": {},
     "output_type": "execute_result"
    }
   ],
   "source": [
    "pup[\"Name\"].str.slice(1,3).head()"
   ]
  },
  {
   "cell_type": "code",
   "execution_count": 19,
   "id": "8df351ea",
   "metadata": {},
   "outputs": [
    {
     "data": {
      "text/plain": [
       "0    aa\n",
       "1    aa\n",
       "2    ai\n",
       "3    dn\n",
       "4    dn\n",
       "Name: Name, dtype: object"
      ]
     },
     "execution_count": 19,
     "metadata": {},
     "output_type": "execute_result"
    }
   ],
   "source": [
    "pup[\"Name\"].str.slice(0,6,2).head()"
   ]
  },
  {
   "cell_type": "code",
   "execution_count": 20,
   "id": "c4b6cfef",
   "metadata": {},
   "outputs": [
    {
     "data": {
      "text/plain": [
       "0    rad\n",
       "1    mag\n",
       "2     iv\n",
       "3    ina\n",
       "4    ani\n",
       "Name: Name, dtype: object"
      ]
     },
     "execution_count": 20,
     "metadata": {},
     "output_type": "execute_result"
    }
   ],
   "source": [
    "pup[\"Name\"].str.slice(4,0,-1).head()"
   ]
  },
  {
   "cell_type": "code",
   "execution_count": 23,
   "id": "e3b36e99",
   "metadata": {},
   "outputs": [
    {
     "data": {
      "text/html": [
       "<div>\n",
       "<style scoped>\n",
       "    .dataframe tbody tr th:only-of-type {\n",
       "        vertical-align: middle;\n",
       "    }\n",
       "\n",
       "    .dataframe tbody tr th {\n",
       "        vertical-align: top;\n",
       "    }\n",
       "\n",
       "    .dataframe thead th {\n",
       "        text-align: right;\n",
       "    }\n",
       "</style>\n",
       "<table border=\"1\" class=\"dataframe\">\n",
       "  <thead>\n",
       "    <tr style=\"text-align: right;\">\n",
       "      <th></th>\n",
       "      <th>Name</th>\n",
       "      <th>First_char</th>\n",
       "    </tr>\n",
       "  </thead>\n",
       "  <tbody>\n",
       "    <tr>\n",
       "      <th>0</th>\n",
       "      <td>adar</td>\n",
       "      <td>ad</td>\n",
       "    </tr>\n",
       "    <tr>\n",
       "      <th>1</th>\n",
       "      <td>agam</td>\n",
       "      <td>ag</td>\n",
       "    </tr>\n",
       "    <tr>\n",
       "      <th>2</th>\n",
       "      <td>avi</td>\n",
       "      <td>av</td>\n",
       "    </tr>\n",
       "    <tr>\n",
       "      <th>3</th>\n",
       "      <td>dani</td>\n",
       "      <td>da</td>\n",
       "    </tr>\n",
       "    <tr>\n",
       "      <th>4</th>\n",
       "      <td>dina</td>\n",
       "      <td>di</td>\n",
       "    </tr>\n",
       "  </tbody>\n",
       "</table>\n",
       "</div>"
      ],
      "text/plain": [
       "   Name First_char\n",
       "0  adar         ad\n",
       "1  agam         ag\n",
       "2   avi         av\n",
       "3  dani         da\n",
       "4  dina         di"
      ]
     },
     "execution_count": 23,
     "metadata": {},
     "output_type": "execute_result"
    }
   ],
   "source": [
    "pup[\"Name\"].to_frame().assign(First_char= pup[\"Name\"].str.slice(0,2)).head()"
   ]
  },
  {
   "cell_type": "code",
   "execution_count": 24,
   "id": "567e8e69-6728-4814-9ffd-04a36f6da90c",
   "metadata": {},
   "outputs": [
    {
     "data": {
      "text/html": [
       "<div>\n",
       "<style scoped>\n",
       "    .dataframe tbody tr th:only-of-type {\n",
       "        vertical-align: middle;\n",
       "    }\n",
       "\n",
       "    .dataframe tbody tr th {\n",
       "        vertical-align: top;\n",
       "    }\n",
       "\n",
       "    .dataframe thead th {\n",
       "        text-align: right;\n",
       "    }\n",
       "</style>\n",
       "<table border=\"1\" class=\"dataframe\">\n",
       "  <thead>\n",
       "    <tr style=\"text-align: right;\">\n",
       "      <th></th>\n",
       "      <th>Name</th>\n",
       "      <th>Age</th>\n",
       "      <th>Country</th>\n",
       "      <th>Height</th>\n",
       "      <th>Weight</th>\n",
       "      <th>avg</th>\n",
       "      <th>income</th>\n",
       "      <th>rooms</th>\n",
       "      <th>family</th>\n",
       "      <th>type</th>\n",
       "      <th>gen</th>\n",
       "    </tr>\n",
       "  </thead>\n",
       "  <tbody>\n",
       "    <tr>\n",
       "      <th>0</th>\n",
       "      <td>adar</td>\n",
       "      <td>6</td>\n",
       "      <td>SP</td>\n",
       "      <td>113</td>\n",
       "      <td>30</td>\n",
       "      <td>70</td>\n",
       "      <td>16700</td>\n",
       "      <td>7</td>\n",
       "      <td>6</td>\n",
       "      <td>1</td>\n",
       "      <td>M</td>\n",
       "    </tr>\n",
       "    <tr>\n",
       "      <th>1</th>\n",
       "      <td>agam</td>\n",
       "      <td>6</td>\n",
       "      <td>GR</td>\n",
       "      <td>172</td>\n",
       "      <td>71</td>\n",
       "      <td>92</td>\n",
       "      <td>9200</td>\n",
       "      <td>5</td>\n",
       "      <td>4</td>\n",
       "      <td>2</td>\n",
       "      <td>F</td>\n",
       "    </tr>\n",
       "    <tr>\n",
       "      <th>2</th>\n",
       "      <td>avi</td>\n",
       "      <td>7</td>\n",
       "      <td>ISR</td>\n",
       "      <td>143</td>\n",
       "      <td>58</td>\n",
       "      <td>82</td>\n",
       "      <td>12000</td>\n",
       "      <td>3</td>\n",
       "      <td>7</td>\n",
       "      <td>1</td>\n",
       "      <td>M</td>\n",
       "    </tr>\n",
       "    <tr>\n",
       "      <th>3</th>\n",
       "      <td>dani</td>\n",
       "      <td>7</td>\n",
       "      <td>US</td>\n",
       "      <td>160</td>\n",
       "      <td>70</td>\n",
       "      <td>90</td>\n",
       "      <td>15000</td>\n",
       "      <td>4</td>\n",
       "      <td>4</td>\n",
       "      <td>2</td>\n",
       "      <td>M</td>\n",
       "    </tr>\n",
       "    <tr>\n",
       "      <th>4</th>\n",
       "      <td>dina</td>\n",
       "      <td>7</td>\n",
       "      <td>ISR</td>\n",
       "      <td>110</td>\n",
       "      <td>26</td>\n",
       "      <td>64</td>\n",
       "      <td>10000</td>\n",
       "      <td>6</td>\n",
       "      <td>8</td>\n",
       "      <td>1</td>\n",
       "      <td>F</td>\n",
       "    </tr>\n",
       "    <tr>\n",
       "      <th>5</th>\n",
       "      <td>efrat</td>\n",
       "      <td>7</td>\n",
       "      <td>EN</td>\n",
       "      <td>115</td>\n",
       "      <td>33</td>\n",
       "      <td>75</td>\n",
       "      <td>8000</td>\n",
       "      <td>5</td>\n",
       "      <td>5</td>\n",
       "      <td>3</td>\n",
       "      <td>F</td>\n",
       "    </tr>\n",
       "    <tr>\n",
       "      <th>6</th>\n",
       "      <td>ehud</td>\n",
       "      <td>8</td>\n",
       "      <td>ISR</td>\n",
       "      <td>155</td>\n",
       "      <td>66</td>\n",
       "      <td>85</td>\n",
       "      <td>18000</td>\n",
       "      <td>2</td>\n",
       "      <td>7</td>\n",
       "      <td>1</td>\n",
       "      <td>M</td>\n",
       "    </tr>\n",
       "    <tr>\n",
       "      <th>7</th>\n",
       "      <td>eli</td>\n",
       "      <td>8</td>\n",
       "      <td>GR</td>\n",
       "      <td>155</td>\n",
       "      <td>61</td>\n",
       "      <td>84</td>\n",
       "      <td>8900</td>\n",
       "      <td>7</td>\n",
       "      <td>10</td>\n",
       "      <td>2</td>\n",
       "      <td>M</td>\n",
       "    </tr>\n",
       "    <tr>\n",
       "      <th>8</th>\n",
       "      <td>ester</td>\n",
       "      <td>8</td>\n",
       "      <td>ISR</td>\n",
       "      <td>130</td>\n",
       "      <td>48</td>\n",
       "      <td>79</td>\n",
       "      <td>19600</td>\n",
       "      <td>2</td>\n",
       "      <td>4</td>\n",
       "      <td>1</td>\n",
       "      <td>F</td>\n",
       "    </tr>\n",
       "    <tr>\n",
       "      <th>9</th>\n",
       "      <td>evyatar</td>\n",
       "      <td>8</td>\n",
       "      <td>ISR</td>\n",
       "      <td>110</td>\n",
       "      <td>34</td>\n",
       "      <td>72</td>\n",
       "      <td>7600</td>\n",
       "      <td>3</td>\n",
       "      <td>4</td>\n",
       "      <td>1</td>\n",
       "      <td>M</td>\n",
       "    </tr>\n",
       "    <tr>\n",
       "      <th>10</th>\n",
       "      <td>itamar</td>\n",
       "      <td>8</td>\n",
       "      <td>EN</td>\n",
       "      <td>110</td>\n",
       "      <td>30</td>\n",
       "      <td>71</td>\n",
       "      <td>27000</td>\n",
       "      <td>2</td>\n",
       "      <td>5</td>\n",
       "      <td>2</td>\n",
       "      <td>M</td>\n",
       "    </tr>\n",
       "    <tr>\n",
       "      <th>11</th>\n",
       "      <td>liel</td>\n",
       "      <td>8</td>\n",
       "      <td>ISR</td>\n",
       "      <td>142</td>\n",
       "      <td>55</td>\n",
       "      <td>84</td>\n",
       "      <td>24000</td>\n",
       "      <td>2</td>\n",
       "      <td>7</td>\n",
       "      <td>1</td>\n",
       "      <td>M</td>\n",
       "    </tr>\n",
       "    <tr>\n",
       "      <th>12</th>\n",
       "      <td>lilach</td>\n",
       "      <td>9</td>\n",
       "      <td>ISR</td>\n",
       "      <td>192</td>\n",
       "      <td>88</td>\n",
       "      <td>94</td>\n",
       "      <td>23000</td>\n",
       "      <td>5</td>\n",
       "      <td>6</td>\n",
       "      <td>2</td>\n",
       "      <td>F</td>\n",
       "    </tr>\n",
       "    <tr>\n",
       "      <th>13</th>\n",
       "      <td>mia</td>\n",
       "      <td>9</td>\n",
       "      <td>GR</td>\n",
       "      <td>132</td>\n",
       "      <td>49</td>\n",
       "      <td>82</td>\n",
       "      <td>12800</td>\n",
       "      <td>4</td>\n",
       "      <td>5</td>\n",
       "      <td>3</td>\n",
       "      <td>F</td>\n",
       "    </tr>\n",
       "    <tr>\n",
       "      <th>14</th>\n",
       "      <td>michal</td>\n",
       "      <td>9</td>\n",
       "      <td>US</td>\n",
       "      <td>132</td>\n",
       "      <td>53</td>\n",
       "      <td>79</td>\n",
       "      <td>20400</td>\n",
       "      <td>5</td>\n",
       "      <td>7</td>\n",
       "      <td>3</td>\n",
       "      <td>F</td>\n",
       "    </tr>\n",
       "    <tr>\n",
       "      <th>15</th>\n",
       "      <td>moshe</td>\n",
       "      <td>9</td>\n",
       "      <td>GR</td>\n",
       "      <td>128</td>\n",
       "      <td>43</td>\n",
       "      <td>80</td>\n",
       "      <td>42000</td>\n",
       "      <td>6</td>\n",
       "      <td>5</td>\n",
       "      <td>3</td>\n",
       "      <td>M</td>\n",
       "    </tr>\n",
       "    <tr>\n",
       "      <th>16</th>\n",
       "      <td>noya</td>\n",
       "      <td>9</td>\n",
       "      <td>SP</td>\n",
       "      <td>90</td>\n",
       "      <td>27</td>\n",
       "      <td>68</td>\n",
       "      <td>18200</td>\n",
       "      <td>6</td>\n",
       "      <td>5</td>\n",
       "      <td>1</td>\n",
       "      <td>F</td>\n",
       "    </tr>\n",
       "    <tr>\n",
       "      <th>17</th>\n",
       "      <td>ofer</td>\n",
       "      <td>10</td>\n",
       "      <td>SP</td>\n",
       "      <td>110</td>\n",
       "      <td>34</td>\n",
       "      <td>71</td>\n",
       "      <td>9300</td>\n",
       "      <td>4</td>\n",
       "      <td>8</td>\n",
       "      <td>1</td>\n",
       "      <td>M</td>\n",
       "    </tr>\n",
       "    <tr>\n",
       "      <th>18</th>\n",
       "      <td>ohad</td>\n",
       "      <td>10</td>\n",
       "      <td>ISR</td>\n",
       "      <td>159</td>\n",
       "      <td>64</td>\n",
       "      <td>83</td>\n",
       "      <td>12700</td>\n",
       "      <td>4</td>\n",
       "      <td>8</td>\n",
       "      <td>1</td>\n",
       "      <td>M</td>\n",
       "    </tr>\n",
       "    <tr>\n",
       "      <th>19</th>\n",
       "      <td>omer</td>\n",
       "      <td>10</td>\n",
       "      <td>US</td>\n",
       "      <td>162</td>\n",
       "      <td>68</td>\n",
       "      <td>87</td>\n",
       "      <td>34500</td>\n",
       "      <td>6</td>\n",
       "      <td>8</td>\n",
       "      <td>2</td>\n",
       "      <td>F</td>\n",
       "    </tr>\n",
       "    <tr>\n",
       "      <th>20</th>\n",
       "      <td>orit</td>\n",
       "      <td>10</td>\n",
       "      <td>US</td>\n",
       "      <td>123</td>\n",
       "      <td>40</td>\n",
       "      <td>78</td>\n",
       "      <td>18900</td>\n",
       "      <td>3</td>\n",
       "      <td>7</td>\n",
       "      <td>3</td>\n",
       "      <td>F</td>\n",
       "    </tr>\n",
       "    <tr>\n",
       "      <th>21</th>\n",
       "      <td>orit</td>\n",
       "      <td>11</td>\n",
       "      <td>ISR</td>\n",
       "      <td>175</td>\n",
       "      <td>73</td>\n",
       "      <td>89</td>\n",
       "      <td>54100</td>\n",
       "      <td>4</td>\n",
       "      <td>3</td>\n",
       "      <td>2</td>\n",
       "      <td>F</td>\n",
       "    </tr>\n",
       "    <tr>\n",
       "      <th>22</th>\n",
       "      <td>rina</td>\n",
       "      <td>11</td>\n",
       "      <td>EN</td>\n",
       "      <td>100</td>\n",
       "      <td>31</td>\n",
       "      <td>73</td>\n",
       "      <td>30000</td>\n",
       "      <td>2</td>\n",
       "      <td>5</td>\n",
       "      <td>3</td>\n",
       "      <td>F</td>\n",
       "    </tr>\n",
       "    <tr>\n",
       "      <th>23</th>\n",
       "      <td>shely</td>\n",
       "      <td>11</td>\n",
       "      <td>ISR</td>\n",
       "      <td>148</td>\n",
       "      <td>60</td>\n",
       "      <td>86</td>\n",
       "      <td>8000</td>\n",
       "      <td>4</td>\n",
       "      <td>3</td>\n",
       "      <td>1</td>\n",
       "      <td>F</td>\n",
       "    </tr>\n",
       "    <tr>\n",
       "      <th>24</th>\n",
       "      <td>talya</td>\n",
       "      <td>12</td>\n",
       "      <td>FR</td>\n",
       "      <td>167</td>\n",
       "      <td>67</td>\n",
       "      <td>89</td>\n",
       "      <td>10900</td>\n",
       "      <td>6</td>\n",
       "      <td>6</td>\n",
       "      <td>2</td>\n",
       "      <td>F</td>\n",
       "    </tr>\n",
       "    <tr>\n",
       "      <th>25</th>\n",
       "      <td>tomer</td>\n",
       "      <td>12</td>\n",
       "      <td>FR</td>\n",
       "      <td>128</td>\n",
       "      <td>53</td>\n",
       "      <td>82</td>\n",
       "      <td>45000</td>\n",
       "      <td>5</td>\n",
       "      <td>4</td>\n",
       "      <td>3</td>\n",
       "      <td>M</td>\n",
       "    </tr>\n",
       "    <tr>\n",
       "      <th>26</th>\n",
       "      <td>udi</td>\n",
       "      <td>13</td>\n",
       "      <td>FR</td>\n",
       "      <td>147</td>\n",
       "      <td>55</td>\n",
       "      <td>85</td>\n",
       "      <td>35000</td>\n",
       "      <td>7</td>\n",
       "      <td>6</td>\n",
       "      <td>2</td>\n",
       "      <td>M</td>\n",
       "    </tr>\n",
       "    <tr>\n",
       "      <th>27</th>\n",
       "      <td>yafit</td>\n",
       "      <td>13</td>\n",
       "      <td>FR</td>\n",
       "      <td>180</td>\n",
       "      <td>90</td>\n",
       "      <td>93</td>\n",
       "      <td>12800</td>\n",
       "      <td>2</td>\n",
       "      <td>4</td>\n",
       "      <td>1</td>\n",
       "      <td>F</td>\n",
       "    </tr>\n",
       "    <tr>\n",
       "      <th>28</th>\n",
       "      <td>yoav</td>\n",
       "      <td>13</td>\n",
       "      <td>EN</td>\n",
       "      <td>120</td>\n",
       "      <td>36</td>\n",
       "      <td>74</td>\n",
       "      <td>17300</td>\n",
       "      <td>5</td>\n",
       "      <td>8</td>\n",
       "      <td>3</td>\n",
       "      <td>M</td>\n",
       "    </tr>\n",
       "    <tr>\n",
       "      <th>29</th>\n",
       "      <td>yosi</td>\n",
       "      <td>14</td>\n",
       "      <td>SP</td>\n",
       "      <td>110</td>\n",
       "      <td>32</td>\n",
       "      <td>74</td>\n",
       "      <td>22000</td>\n",
       "      <td>5</td>\n",
       "      <td>6</td>\n",
       "      <td>1</td>\n",
       "      <td>M</td>\n",
       "    </tr>\n",
       "  </tbody>\n",
       "</table>\n",
       "</div>"
      ],
      "text/plain": [
       "       Name  Age Country  Height  Weight  avg  income  rooms  family  type gen\n",
       "0      adar    6      SP     113      30   70   16700      7       6     1   M\n",
       "1      agam    6      GR     172      71   92    9200      5       4     2   F\n",
       "2       avi    7     ISR     143      58   82   12000      3       7     1   M\n",
       "3      dani    7      US     160      70   90   15000      4       4     2   M\n",
       "4      dina    7     ISR     110      26   64   10000      6       8     1   F\n",
       "5     efrat    7      EN     115      33   75    8000      5       5     3   F\n",
       "6      ehud    8     ISR     155      66   85   18000      2       7     1   M\n",
       "7       eli    8      GR     155      61   84    8900      7      10     2   M\n",
       "8     ester    8     ISR     130      48   79   19600      2       4     1   F\n",
       "9   evyatar    8     ISR     110      34   72    7600      3       4     1   M\n",
       "10   itamar    8      EN     110      30   71   27000      2       5     2   M\n",
       "11     liel    8     ISR     142      55   84   24000      2       7     1   M\n",
       "12   lilach    9     ISR     192      88   94   23000      5       6     2   F\n",
       "13      mia    9      GR     132      49   82   12800      4       5     3   F\n",
       "14   michal    9      US     132      53   79   20400      5       7     3   F\n",
       "15    moshe    9      GR     128      43   80   42000      6       5     3   M\n",
       "16     noya    9      SP      90      27   68   18200      6       5     1   F\n",
       "17     ofer   10      SP     110      34   71    9300      4       8     1   M\n",
       "18     ohad   10     ISR     159      64   83   12700      4       8     1   M\n",
       "19     omer   10      US     162      68   87   34500      6       8     2   F\n",
       "20     orit   10      US     123      40   78   18900      3       7     3   F\n",
       "21     orit   11     ISR     175      73   89   54100      4       3     2   F\n",
       "22     rina   11      EN     100      31   73   30000      2       5     3   F\n",
       "23    shely   11     ISR     148      60   86    8000      4       3     1   F\n",
       "24    talya   12      FR     167      67   89   10900      6       6     2   F\n",
       "25    tomer   12      FR     128      53   82   45000      5       4     3   M\n",
       "26      udi   13      FR     147      55   85   35000      7       6     2   M\n",
       "27    yafit   13      FR     180      90   93   12800      2       4     1   F\n",
       "28     yoav   13      EN     120      36   74   17300      5       8     3   M\n",
       "29     yosi   14      SP     110      32   74   22000      5       6     1   M"
      ]
     },
     "execution_count": 24,
     "metadata": {},
     "output_type": "execute_result"
    }
   ],
   "source": [
    "pup"
   ]
  },
  {
   "cell_type": "code",
   "execution_count": 25,
   "id": "243503a1",
   "metadata": {},
   "outputs": [
    {
     "data": {
      "text/html": [
       "<div>\n",
       "<style scoped>\n",
       "    .dataframe tbody tr th:only-of-type {\n",
       "        vertical-align: middle;\n",
       "    }\n",
       "\n",
       "    .dataframe tbody tr th {\n",
       "        vertical-align: top;\n",
       "    }\n",
       "\n",
       "    .dataframe thead th {\n",
       "        text-align: right;\n",
       "    }\n",
       "</style>\n",
       "<table border=\"1\" class=\"dataframe\">\n",
       "  <thead>\n",
       "    <tr style=\"text-align: right;\">\n",
       "      <th></th>\n",
       "      <th>Name</th>\n",
       "      <th>First_char</th>\n",
       "    </tr>\n",
       "  </thead>\n",
       "  <tbody>\n",
       "    <tr>\n",
       "      <th>0</th>\n",
       "      <td>adar</td>\n",
       "      <td>ad</td>\n",
       "    </tr>\n",
       "    <tr>\n",
       "      <th>1</th>\n",
       "      <td>agam</td>\n",
       "      <td>ag</td>\n",
       "    </tr>\n",
       "    <tr>\n",
       "      <th>2</th>\n",
       "      <td>avi</td>\n",
       "      <td>av</td>\n",
       "    </tr>\n",
       "    <tr>\n",
       "      <th>3</th>\n",
       "      <td>dani</td>\n",
       "      <td>da</td>\n",
       "    </tr>\n",
       "    <tr>\n",
       "      <th>4</th>\n",
       "      <td>dina</td>\n",
       "      <td>di</td>\n",
       "    </tr>\n",
       "  </tbody>\n",
       "</table>\n",
       "</div>"
      ],
      "text/plain": [
       "   Name First_char\n",
       "0  adar         ad\n",
       "1  agam         ag\n",
       "2   avi         av\n",
       "3  dani         da\n",
       "4  dina         di"
      ]
     },
     "execution_count": 25,
     "metadata": {},
     "output_type": "execute_result"
    }
   ],
   "source": [
    "pup[\"Name\"].head().to_frame().assign(First_char= pup[\"Name\"].str.slice(0,2))"
   ]
  },
  {
   "cell_type": "code",
   "execution_count": 26,
   "id": "efe23797-8e25-4b49-a16f-50afd065cf52",
   "metadata": {},
   "outputs": [
    {
     "ename": "AttributeError",
     "evalue": "'Series' object has no attribute 'assign'",
     "output_type": "error",
     "traceback": [
      "\u001b[1;31m---------------------------------------------------------------------------\u001b[0m",
      "\u001b[1;31mAttributeError\u001b[0m                            Traceback (most recent call last)",
      "\u001b[1;32m~\\AppData\\Local\\Temp\\ipykernel_13660\\3344988557.py\u001b[0m in \u001b[0;36m?\u001b[1;34m()\u001b[0m\n\u001b[1;32m----> 1\u001b[1;33m \u001b[0mpup\u001b[0m\u001b[1;33m[\u001b[0m\u001b[1;34m\"Name\"\u001b[0m\u001b[1;33m]\u001b[0m\u001b[1;33m.\u001b[0m\u001b[0massign\u001b[0m\u001b[1;33m(\u001b[0m\u001b[0mFirst_char\u001b[0m\u001b[1;33m=\u001b[0m \u001b[0mpup\u001b[0m\u001b[1;33m[\u001b[0m\u001b[1;34m\"Name\"\u001b[0m\u001b[1;33m]\u001b[0m\u001b[1;33m.\u001b[0m\u001b[0mstr\u001b[0m\u001b[1;33m.\u001b[0m\u001b[0mslice\u001b[0m\u001b[1;33m(\u001b[0m\u001b[1;36m0\u001b[0m\u001b[1;33m,\u001b[0m\u001b[1;36m2\u001b[0m\u001b[1;33m)\u001b[0m\u001b[1;33m)\u001b[0m\u001b[1;33m.\u001b[0m\u001b[0mhead\u001b[0m\u001b[1;33m(\u001b[0m\u001b[1;33m)\u001b[0m\u001b[1;33m.\u001b[0m\u001b[0mto_frame\u001b[0m\u001b[1;33m(\u001b[0m\u001b[1;33m)\u001b[0m\u001b[1;33m\u001b[0m\u001b[1;33m\u001b[0m\u001b[0m\n\u001b[0m",
      "\u001b[1;32mC:\\Python\\Python312\\Lib\\site-packages\\pandas\\core\\generic.py\u001b[0m in \u001b[0;36m?\u001b[1;34m(self, name)\u001b[0m\n\u001b[0;32m   6295\u001b[0m             \u001b[1;32mand\u001b[0m \u001b[0mname\u001b[0m \u001b[1;32mnot\u001b[0m \u001b[1;32min\u001b[0m \u001b[0mself\u001b[0m\u001b[1;33m.\u001b[0m\u001b[0m_accessors\u001b[0m\u001b[1;33m\u001b[0m\u001b[1;33m\u001b[0m\u001b[0m\n\u001b[0;32m   6296\u001b[0m             \u001b[1;32mand\u001b[0m \u001b[0mself\u001b[0m\u001b[1;33m.\u001b[0m\u001b[0m_info_axis\u001b[0m\u001b[1;33m.\u001b[0m\u001b[0m_can_hold_identifiers_and_holds_name\u001b[0m\u001b[1;33m(\u001b[0m\u001b[0mname\u001b[0m\u001b[1;33m)\u001b[0m\u001b[1;33m\u001b[0m\u001b[1;33m\u001b[0m\u001b[0m\n\u001b[0;32m   6297\u001b[0m         \u001b[1;33m)\u001b[0m\u001b[1;33m:\u001b[0m\u001b[1;33m\u001b[0m\u001b[1;33m\u001b[0m\u001b[0m\n\u001b[0;32m   6298\u001b[0m             \u001b[1;32mreturn\u001b[0m \u001b[0mself\u001b[0m\u001b[1;33m[\u001b[0m\u001b[0mname\u001b[0m\u001b[1;33m]\u001b[0m\u001b[1;33m\u001b[0m\u001b[1;33m\u001b[0m\u001b[0m\n\u001b[1;32m-> 6299\u001b[1;33m         \u001b[1;32mreturn\u001b[0m \u001b[0mobject\u001b[0m\u001b[1;33m.\u001b[0m\u001b[0m__getattribute__\u001b[0m\u001b[1;33m(\u001b[0m\u001b[0mself\u001b[0m\u001b[1;33m,\u001b[0m \u001b[0mname\u001b[0m\u001b[1;33m)\u001b[0m\u001b[1;33m\u001b[0m\u001b[1;33m\u001b[0m\u001b[0m\n\u001b[0m",
      "\u001b[1;31mAttributeError\u001b[0m: 'Series' object has no attribute 'assign'"
     ]
    }
   ],
   "source": [
    "pup[\"Name\"].assign(First_char= pup[\"Name\"].str.slice(0,2)).head().to_frame()"
   ]
  },
  {
   "cell_type": "code",
   "execution_count": 27,
   "id": "9c6042b4-b991-4da3-86a3-1a3851912fab",
   "metadata": {},
   "outputs": [
    {
     "data": {
      "text/html": [
       "<div>\n",
       "<style scoped>\n",
       "    .dataframe tbody tr th:only-of-type {\n",
       "        vertical-align: middle;\n",
       "    }\n",
       "\n",
       "    .dataframe tbody tr th {\n",
       "        vertical-align: top;\n",
       "    }\n",
       "\n",
       "    .dataframe thead th {\n",
       "        text-align: right;\n",
       "    }\n",
       "</style>\n",
       "<table border=\"1\" class=\"dataframe\">\n",
       "  <thead>\n",
       "    <tr style=\"text-align: right;\">\n",
       "      <th></th>\n",
       "      <th>Name</th>\n",
       "      <th>First_char</th>\n",
       "    </tr>\n",
       "  </thead>\n",
       "  <tbody>\n",
       "    <tr>\n",
       "      <th>0</th>\n",
       "      <td>adar</td>\n",
       "      <td>ad</td>\n",
       "    </tr>\n",
       "    <tr>\n",
       "      <th>1</th>\n",
       "      <td>agam</td>\n",
       "      <td>ag</td>\n",
       "    </tr>\n",
       "    <tr>\n",
       "      <th>2</th>\n",
       "      <td>avi</td>\n",
       "      <td>av</td>\n",
       "    </tr>\n",
       "    <tr>\n",
       "      <th>3</th>\n",
       "      <td>dani</td>\n",
       "      <td>da</td>\n",
       "    </tr>\n",
       "    <tr>\n",
       "      <th>4</th>\n",
       "      <td>dina</td>\n",
       "      <td>di</td>\n",
       "    </tr>\n",
       "  </tbody>\n",
       "</table>\n",
       "</div>"
      ],
      "text/plain": [
       "   Name First_char\n",
       "0  adar         ad\n",
       "1  agam         ag\n",
       "2   avi         av\n",
       "3  dani         da\n",
       "4  dina         di"
      ]
     },
     "execution_count": 27,
     "metadata": {},
     "output_type": "execute_result"
    }
   ],
   "source": [
    "pup[[\"Name\"]].assign(First_char= pup[\"Name\"].str.slice(0,2)).head()"
   ]
  },
  {
   "cell_type": "code",
   "execution_count": 28,
   "id": "c40290ac",
   "metadata": {},
   "outputs": [
    {
     "data": {
      "text/plain": [
       "0    4\n",
       "1    4\n",
       "2    3\n",
       "3    4\n",
       "4    4\n",
       "Name: Name, dtype: int64"
      ]
     },
     "execution_count": 28,
     "metadata": {},
     "output_type": "execute_result"
    }
   ],
   "source": [
    "pup[\"Name\"].str.len().head()"
   ]
  },
  {
   "cell_type": "code",
   "execution_count": 29,
   "id": "40ba2675",
   "metadata": {},
   "outputs": [
    {
     "data": {
      "text/html": [
       "<div>\n",
       "<style scoped>\n",
       "    .dataframe tbody tr th:only-of-type {\n",
       "        vertical-align: middle;\n",
       "    }\n",
       "\n",
       "    .dataframe tbody tr th {\n",
       "        vertical-align: top;\n",
       "    }\n",
       "\n",
       "    .dataframe thead th {\n",
       "        text-align: right;\n",
       "    }\n",
       "</style>\n",
       "<table border=\"1\" class=\"dataframe\">\n",
       "  <thead>\n",
       "    <tr style=\"text-align: right;\">\n",
       "      <th></th>\n",
       "      <th>Name</th>\n",
       "      <th>len</th>\n",
       "    </tr>\n",
       "  </thead>\n",
       "  <tbody>\n",
       "    <tr>\n",
       "      <th>0</th>\n",
       "      <td>adar</td>\n",
       "      <td>4</td>\n",
       "    </tr>\n",
       "    <tr>\n",
       "      <th>1</th>\n",
       "      <td>agam</td>\n",
       "      <td>4</td>\n",
       "    </tr>\n",
       "    <tr>\n",
       "      <th>2</th>\n",
       "      <td>avi</td>\n",
       "      <td>3</td>\n",
       "    </tr>\n",
       "    <tr>\n",
       "      <th>3</th>\n",
       "      <td>dani</td>\n",
       "      <td>4</td>\n",
       "    </tr>\n",
       "    <tr>\n",
       "      <th>4</th>\n",
       "      <td>dina</td>\n",
       "      <td>4</td>\n",
       "    </tr>\n",
       "  </tbody>\n",
       "</table>\n",
       "</div>"
      ],
      "text/plain": [
       "   Name  len\n",
       "0  adar    4\n",
       "1  agam    4\n",
       "2   avi    3\n",
       "3  dani    4\n",
       "4  dina    4"
      ]
     },
     "execution_count": 29,
     "metadata": {},
     "output_type": "execute_result"
    }
   ],
   "source": [
    "pup[\"Name\"].to_frame().assign(len=pup[\"Name\"].str.len()).head()"
   ]
  },
  {
   "cell_type": "code",
   "execution_count": 30,
   "id": "aa7ff196",
   "metadata": {},
   "outputs": [],
   "source": [
    "s =pd.Series(['1.  Hello    ','2.  World!\\n ','3.  python.\\t' ])"
   ]
  },
  {
   "cell_type": "code",
   "execution_count": 31,
   "id": "f7e648dd",
   "metadata": {},
   "outputs": [
    {
     "data": {
      "text/plain": [
       "0    1.  Hello    \n",
       "1    2.  World!\\n \n",
       "2    3.  python.\\t\n",
       "dtype: object"
      ]
     },
     "execution_count": 31,
     "metadata": {},
     "output_type": "execute_result"
    }
   ],
   "source": [
    "s.head()"
   ]
  },
  {
   "cell_type": "code",
   "execution_count": 32,
   "id": "904434fa",
   "metadata": {},
   "outputs": [
    {
     "data": {
      "text/plain": [
       "0      1.  Hello\n",
       "1     2.  World!\n",
       "2    3.  python.\n",
       "dtype: object"
      ]
     },
     "execution_count": 32,
     "metadata": {},
     "output_type": "execute_result"
    }
   ],
   "source": [
    "s.str.strip() # trim in sql"
   ]
  },
  {
   "cell_type": "code",
   "execution_count": 33,
   "id": "cb27c1a2",
   "metadata": {},
   "outputs": [
    {
     "data": {
      "text/plain": [
       "0    Hello    \n",
       "1    World!\\n \n",
       "2    python.\\t\n",
       "dtype: object"
      ]
     },
     "execution_count": 33,
     "metadata": {},
     "output_type": "execute_result"
    }
   ],
   "source": [
    "s.str.lstrip('123. ')"
   ]
  },
  {
   "cell_type": "code",
   "execution_count": 34,
   "id": "1619830b",
   "metadata": {},
   "outputs": [
    {
     "data": {
      "text/plain": [
       "0     1.  Hello\n",
       "1     2.  World\n",
       "2    3.  python\n",
       "dtype: object"
      ]
     },
     "execution_count": 34,
     "metadata": {},
     "output_type": "execute_result"
    }
   ],
   "source": [
    "s.str.rstrip('!.\\n\\t ')"
   ]
  },
  {
   "cell_type": "code",
   "execution_count": 37,
   "id": "6408d0a1",
   "metadata": {},
   "outputs": [
    {
     "data": {
      "text/plain": [
       "0     Hello\n",
       "1     World\n",
       "2    python\n",
       "dtype: object"
      ]
     },
     "execution_count": 37,
     "metadata": {},
     "output_type": "execute_result"
    }
   ],
   "source": [
    "s.str.strip('123!.\\n\\t ')"
   ]
  },
  {
   "cell_type": "code",
   "execution_count": 39,
   "id": "74dc6a56",
   "metadata": {},
   "outputs": [
    {
     "data": {
      "text/plain": [
       "0     v1-Hello-v2\n",
       "1     v1-World-v2\n",
       "2    v1-python-v2\n",
       "dtype: object"
      ]
     },
     "execution_count": 39,
     "metadata": {},
     "output_type": "execute_result"
    }
   ],
   "source": [
    "\"v1-\"+s.str.strip(\" !123.\\n\\t\")+\"-v2\""
   ]
  },
  {
   "cell_type": "code",
   "execution_count": 40,
   "id": "fe035feb",
   "metadata": {},
   "outputs": [
    {
     "data": {
      "text/plain": [
       "0        adar\n",
       "1        agam\n",
       "2         avi\n",
       "3        dani\n",
       "4        dina\n",
       "5       efrat\n",
       "6        ehud\n",
       "7         eli\n",
       "8       ester\n",
       "9     evyatar\n",
       "10     itamar\n",
       "11       liel\n",
       "12     lilach\n",
       "13        mia\n",
       "14     michal\n",
       "15      moshe\n",
       "16       noya\n",
       "17       ofer\n",
       "18       ohad\n",
       "19       omer\n",
       "Name: Name, dtype: object"
      ]
     },
     "execution_count": 40,
     "metadata": {},
     "output_type": "execute_result"
    }
   ],
   "source": [
    "pup[\"Name\"].head(20)"
   ]
  },
  {
   "cell_type": "code",
   "execution_count": 41,
   "id": "0d23cd50",
   "metadata": {},
   "outputs": [
    {
     "data": {
      "text/plain": [
       "0       dar\n",
       "1       gam\n",
       "2        vi\n",
       "3      dani\n",
       "4       din\n",
       "5      frat\n",
       "6       hud\n",
       "7        li\n",
       "8      ster\n",
       "9    vyatar\n",
       "Name: Name, dtype: object"
      ]
     },
     "execution_count": 41,
     "metadata": {},
     "output_type": "execute_result"
    }
   ],
   "source": [
    "pup[\"Name\"].str.strip('ae').head(10)"
   ]
  },
  {
   "cell_type": "code",
   "execution_count": null,
   "id": "6fd1e9ff",
   "metadata": {},
   "outputs": [],
   "source": [
    "#replace"
   ]
  },
  {
   "cell_type": "code",
   "execution_count": 42,
   "id": "0f78dd95",
   "metadata": {},
   "outputs": [
    {
     "data": {
      "text/plain": [
       "0    _d_r\n",
       "1    _g_m\n",
       "2     _vi\n",
       "3    d_ni\n",
       "4    din_\n",
       "Name: Name, dtype: object"
      ]
     },
     "execution_count": 42,
     "metadata": {},
     "output_type": "execute_result"
    }
   ],
   "source": [
    "pup[\"Name\"].str.replace('a','_').head()"
   ]
  },
  {
   "cell_type": "code",
   "execution_count": null,
   "id": "491bc6f2",
   "metadata": {},
   "outputs": [],
   "source": [
    "#upper() , lower() , title()"
   ]
  },
  {
   "cell_type": "code",
   "execution_count": 43,
   "id": "839e04af",
   "metadata": {},
   "outputs": [
    {
     "data": {
      "text/plain": [
       "0    ADAR\n",
       "1    AGAM\n",
       "2     AVI\n",
       "3    DANI\n",
       "4    DINA\n",
       "Name: Name, dtype: object"
      ]
     },
     "execution_count": 43,
     "metadata": {},
     "output_type": "execute_result"
    }
   ],
   "source": [
    "pup[\"Name\"].str.upper().head()"
   ]
  },
  {
   "cell_type": "code",
   "execution_count": 44,
   "id": "06a7d933",
   "metadata": {},
   "outputs": [
    {
     "data": {
      "text/plain": [
       "0    adar\n",
       "1    agam\n",
       "2     avi\n",
       "3    dani\n",
       "4    dina\n",
       "Name: Name, dtype: object"
      ]
     },
     "execution_count": 44,
     "metadata": {},
     "output_type": "execute_result"
    }
   ],
   "source": [
    "pup[\"Name\"].str.lower().head()"
   ]
  },
  {
   "cell_type": "code",
   "execution_count": 45,
   "id": "7cb916b6",
   "metadata": {},
   "outputs": [
    {
     "data": {
      "text/plain": [
       "0    Adar\n",
       "1    Agam\n",
       "2     Avi\n",
       "3    Dani\n",
       "4    Dina\n",
       "Name: Name, dtype: object"
      ]
     },
     "execution_count": 45,
     "metadata": {},
     "output_type": "execute_result"
    }
   ],
   "source": [
    "pup[\"Name\"].str.title().head()"
   ]
  },
  {
   "cell_type": "code",
   "execution_count": 46,
   "id": "45d72a78",
   "metadata": {},
   "outputs": [
    {
     "data": {
      "text/html": [
       "<div>\n",
       "<style scoped>\n",
       "    .dataframe tbody tr th:only-of-type {\n",
       "        vertical-align: middle;\n",
       "    }\n",
       "\n",
       "    .dataframe tbody tr th {\n",
       "        vertical-align: top;\n",
       "    }\n",
       "\n",
       "    .dataframe thead th {\n",
       "        text-align: right;\n",
       "    }\n",
       "</style>\n",
       "<table border=\"1\" class=\"dataframe\">\n",
       "  <thead>\n",
       "    <tr style=\"text-align: right;\">\n",
       "      <th></th>\n",
       "      <th>Name</th>\n",
       "      <th>initcap</th>\n",
       "    </tr>\n",
       "  </thead>\n",
       "  <tbody>\n",
       "    <tr>\n",
       "      <th>0</th>\n",
       "      <td>adar</td>\n",
       "      <td>Adar</td>\n",
       "    </tr>\n",
       "    <tr>\n",
       "      <th>1</th>\n",
       "      <td>agam</td>\n",
       "      <td>Agam</td>\n",
       "    </tr>\n",
       "    <tr>\n",
       "      <th>2</th>\n",
       "      <td>avi</td>\n",
       "      <td>Avi</td>\n",
       "    </tr>\n",
       "    <tr>\n",
       "      <th>3</th>\n",
       "      <td>dani</td>\n",
       "      <td>Dani</td>\n",
       "    </tr>\n",
       "    <tr>\n",
       "      <th>4</th>\n",
       "      <td>dina</td>\n",
       "      <td>Dina</td>\n",
       "    </tr>\n",
       "  </tbody>\n",
       "</table>\n",
       "</div>"
      ],
      "text/plain": [
       "   Name initcap\n",
       "0  adar    Adar\n",
       "1  agam    Agam\n",
       "2   avi     Avi\n",
       "3  dani    Dani\n",
       "4  dina    Dina"
      ]
     },
     "execution_count": 46,
     "metadata": {},
     "output_type": "execute_result"
    }
   ],
   "source": [
    "pup[\"Name\"].to_frame().assign(initcap=pup[\"Name\"].str.title()).head()"
   ]
  },
  {
   "cell_type": "code",
   "execution_count": 47,
   "id": "2046a338-8882-4c4f-a15f-357e5b58051e",
   "metadata": {},
   "outputs": [],
   "source": [
    "pupc=pup[\"Name\"].to_frame()#.assign(initcap=pup[\"Name\"].str.title()).head()"
   ]
  },
  {
   "cell_type": "code",
   "execution_count": 48,
   "id": "4d01c8aa-8f55-47e8-afd3-75458bf66342",
   "metadata": {},
   "outputs": [
    {
     "data": {
      "text/html": [
       "<div>\n",
       "<style scoped>\n",
       "    .dataframe tbody tr th:only-of-type {\n",
       "        vertical-align: middle;\n",
       "    }\n",
       "\n",
       "    .dataframe tbody tr th {\n",
       "        vertical-align: top;\n",
       "    }\n",
       "\n",
       "    .dataframe thead th {\n",
       "        text-align: right;\n",
       "    }\n",
       "</style>\n",
       "<table border=\"1\" class=\"dataframe\">\n",
       "  <thead>\n",
       "    <tr style=\"text-align: right;\">\n",
       "      <th></th>\n",
       "      <th>Name</th>\n",
       "    </tr>\n",
       "  </thead>\n",
       "  <tbody>\n",
       "    <tr>\n",
       "      <th>0</th>\n",
       "      <td>adar</td>\n",
       "    </tr>\n",
       "    <tr>\n",
       "      <th>1</th>\n",
       "      <td>agam</td>\n",
       "    </tr>\n",
       "    <tr>\n",
       "      <th>2</th>\n",
       "      <td>avi</td>\n",
       "    </tr>\n",
       "    <tr>\n",
       "      <th>3</th>\n",
       "      <td>dani</td>\n",
       "    </tr>\n",
       "    <tr>\n",
       "      <th>4</th>\n",
       "      <td>dina</td>\n",
       "    </tr>\n",
       "    <tr>\n",
       "      <th>5</th>\n",
       "      <td>efrat</td>\n",
       "    </tr>\n",
       "    <tr>\n",
       "      <th>6</th>\n",
       "      <td>ehud</td>\n",
       "    </tr>\n",
       "    <tr>\n",
       "      <th>7</th>\n",
       "      <td>eli</td>\n",
       "    </tr>\n",
       "    <tr>\n",
       "      <th>8</th>\n",
       "      <td>ester</td>\n",
       "    </tr>\n",
       "    <tr>\n",
       "      <th>9</th>\n",
       "      <td>evyatar</td>\n",
       "    </tr>\n",
       "    <tr>\n",
       "      <th>10</th>\n",
       "      <td>itamar</td>\n",
       "    </tr>\n",
       "    <tr>\n",
       "      <th>11</th>\n",
       "      <td>liel</td>\n",
       "    </tr>\n",
       "    <tr>\n",
       "      <th>12</th>\n",
       "      <td>lilach</td>\n",
       "    </tr>\n",
       "    <tr>\n",
       "      <th>13</th>\n",
       "      <td>mia</td>\n",
       "    </tr>\n",
       "    <tr>\n",
       "      <th>14</th>\n",
       "      <td>michal</td>\n",
       "    </tr>\n",
       "    <tr>\n",
       "      <th>15</th>\n",
       "      <td>moshe</td>\n",
       "    </tr>\n",
       "    <tr>\n",
       "      <th>16</th>\n",
       "      <td>noya</td>\n",
       "    </tr>\n",
       "    <tr>\n",
       "      <th>17</th>\n",
       "      <td>ofer</td>\n",
       "    </tr>\n",
       "    <tr>\n",
       "      <th>18</th>\n",
       "      <td>ohad</td>\n",
       "    </tr>\n",
       "    <tr>\n",
       "      <th>19</th>\n",
       "      <td>omer</td>\n",
       "    </tr>\n",
       "    <tr>\n",
       "      <th>20</th>\n",
       "      <td>orit</td>\n",
       "    </tr>\n",
       "    <tr>\n",
       "      <th>21</th>\n",
       "      <td>orit</td>\n",
       "    </tr>\n",
       "    <tr>\n",
       "      <th>22</th>\n",
       "      <td>rina</td>\n",
       "    </tr>\n",
       "    <tr>\n",
       "      <th>23</th>\n",
       "      <td>shely</td>\n",
       "    </tr>\n",
       "    <tr>\n",
       "      <th>24</th>\n",
       "      <td>talya</td>\n",
       "    </tr>\n",
       "    <tr>\n",
       "      <th>25</th>\n",
       "      <td>tomer</td>\n",
       "    </tr>\n",
       "    <tr>\n",
       "      <th>26</th>\n",
       "      <td>udi</td>\n",
       "    </tr>\n",
       "    <tr>\n",
       "      <th>27</th>\n",
       "      <td>yafit</td>\n",
       "    </tr>\n",
       "    <tr>\n",
       "      <th>28</th>\n",
       "      <td>yoav</td>\n",
       "    </tr>\n",
       "    <tr>\n",
       "      <th>29</th>\n",
       "      <td>yosi</td>\n",
       "    </tr>\n",
       "  </tbody>\n",
       "</table>\n",
       "</div>"
      ],
      "text/plain": [
       "       Name\n",
       "0      adar\n",
       "1      agam\n",
       "2       avi\n",
       "3      dani\n",
       "4      dina\n",
       "5     efrat\n",
       "6      ehud\n",
       "7       eli\n",
       "8     ester\n",
       "9   evyatar\n",
       "10   itamar\n",
       "11     liel\n",
       "12   lilach\n",
       "13      mia\n",
       "14   michal\n",
       "15    moshe\n",
       "16     noya\n",
       "17     ofer\n",
       "18     ohad\n",
       "19     omer\n",
       "20     orit\n",
       "21     orit\n",
       "22     rina\n",
       "23    shely\n",
       "24    talya\n",
       "25    tomer\n",
       "26      udi\n",
       "27    yafit\n",
       "28     yoav\n",
       "29     yosi"
      ]
     },
     "execution_count": 48,
     "metadata": {},
     "output_type": "execute_result"
    }
   ],
   "source": [
    "pupc"
   ]
  },
  {
   "cell_type": "code",
   "execution_count": 51,
   "id": "12475a70-e97f-4a2b-bece-cbde76d1f495",
   "metadata": {},
   "outputs": [],
   "source": [
    "pupc[\"Name1\"]=pupc[\"Name\"].str.lower()"
   ]
  },
  {
   "cell_type": "code",
   "execution_count": 52,
   "id": "82ce781b-70da-47ff-a753-9b1d31e21fd2",
   "metadata": {},
   "outputs": [
    {
     "data": {
      "text/html": [
       "<div>\n",
       "<style scoped>\n",
       "    .dataframe tbody tr th:only-of-type {\n",
       "        vertical-align: middle;\n",
       "    }\n",
       "\n",
       "    .dataframe tbody tr th {\n",
       "        vertical-align: top;\n",
       "    }\n",
       "\n",
       "    .dataframe thead th {\n",
       "        text-align: right;\n",
       "    }\n",
       "</style>\n",
       "<table border=\"1\" class=\"dataframe\">\n",
       "  <thead>\n",
       "    <tr style=\"text-align: right;\">\n",
       "      <th></th>\n",
       "      <th>Name</th>\n",
       "      <th>Name1</th>\n",
       "    </tr>\n",
       "  </thead>\n",
       "  <tbody>\n",
       "    <tr>\n",
       "      <th>0</th>\n",
       "      <td>Adar</td>\n",
       "      <td>adar</td>\n",
       "    </tr>\n",
       "    <tr>\n",
       "      <th>1</th>\n",
       "      <td>Agam</td>\n",
       "      <td>agam</td>\n",
       "    </tr>\n",
       "    <tr>\n",
       "      <th>2</th>\n",
       "      <td>Avi</td>\n",
       "      <td>avi</td>\n",
       "    </tr>\n",
       "    <tr>\n",
       "      <th>3</th>\n",
       "      <td>Dani</td>\n",
       "      <td>dani</td>\n",
       "    </tr>\n",
       "    <tr>\n",
       "      <th>4</th>\n",
       "      <td>Dina</td>\n",
       "      <td>dina</td>\n",
       "    </tr>\n",
       "    <tr>\n",
       "      <th>5</th>\n",
       "      <td>Efrat</td>\n",
       "      <td>efrat</td>\n",
       "    </tr>\n",
       "    <tr>\n",
       "      <th>6</th>\n",
       "      <td>Ehud</td>\n",
       "      <td>ehud</td>\n",
       "    </tr>\n",
       "    <tr>\n",
       "      <th>7</th>\n",
       "      <td>Eli</td>\n",
       "      <td>eli</td>\n",
       "    </tr>\n",
       "    <tr>\n",
       "      <th>8</th>\n",
       "      <td>Ester</td>\n",
       "      <td>ester</td>\n",
       "    </tr>\n",
       "    <tr>\n",
       "      <th>9</th>\n",
       "      <td>Evyatar</td>\n",
       "      <td>evyatar</td>\n",
       "    </tr>\n",
       "    <tr>\n",
       "      <th>10</th>\n",
       "      <td>Itamar</td>\n",
       "      <td>itamar</td>\n",
       "    </tr>\n",
       "    <tr>\n",
       "      <th>11</th>\n",
       "      <td>Liel</td>\n",
       "      <td>liel</td>\n",
       "    </tr>\n",
       "    <tr>\n",
       "      <th>12</th>\n",
       "      <td>Lilach</td>\n",
       "      <td>lilach</td>\n",
       "    </tr>\n",
       "    <tr>\n",
       "      <th>13</th>\n",
       "      <td>Mia</td>\n",
       "      <td>mia</td>\n",
       "    </tr>\n",
       "    <tr>\n",
       "      <th>14</th>\n",
       "      <td>Michal</td>\n",
       "      <td>michal</td>\n",
       "    </tr>\n",
       "    <tr>\n",
       "      <th>15</th>\n",
       "      <td>Moshe</td>\n",
       "      <td>moshe</td>\n",
       "    </tr>\n",
       "    <tr>\n",
       "      <th>16</th>\n",
       "      <td>Noya</td>\n",
       "      <td>noya</td>\n",
       "    </tr>\n",
       "    <tr>\n",
       "      <th>17</th>\n",
       "      <td>Ofer</td>\n",
       "      <td>ofer</td>\n",
       "    </tr>\n",
       "    <tr>\n",
       "      <th>18</th>\n",
       "      <td>Ohad</td>\n",
       "      <td>ohad</td>\n",
       "    </tr>\n",
       "    <tr>\n",
       "      <th>19</th>\n",
       "      <td>Omer</td>\n",
       "      <td>omer</td>\n",
       "    </tr>\n",
       "    <tr>\n",
       "      <th>20</th>\n",
       "      <td>Orit</td>\n",
       "      <td>orit</td>\n",
       "    </tr>\n",
       "    <tr>\n",
       "      <th>21</th>\n",
       "      <td>Orit</td>\n",
       "      <td>orit</td>\n",
       "    </tr>\n",
       "    <tr>\n",
       "      <th>22</th>\n",
       "      <td>Rina</td>\n",
       "      <td>rina</td>\n",
       "    </tr>\n",
       "    <tr>\n",
       "      <th>23</th>\n",
       "      <td>Shely</td>\n",
       "      <td>shely</td>\n",
       "    </tr>\n",
       "    <tr>\n",
       "      <th>24</th>\n",
       "      <td>Talya</td>\n",
       "      <td>talya</td>\n",
       "    </tr>\n",
       "    <tr>\n",
       "      <th>25</th>\n",
       "      <td>Tomer</td>\n",
       "      <td>tomer</td>\n",
       "    </tr>\n",
       "    <tr>\n",
       "      <th>26</th>\n",
       "      <td>Udi</td>\n",
       "      <td>udi</td>\n",
       "    </tr>\n",
       "    <tr>\n",
       "      <th>27</th>\n",
       "      <td>Yafit</td>\n",
       "      <td>yafit</td>\n",
       "    </tr>\n",
       "    <tr>\n",
       "      <th>28</th>\n",
       "      <td>Yoav</td>\n",
       "      <td>yoav</td>\n",
       "    </tr>\n",
       "    <tr>\n",
       "      <th>29</th>\n",
       "      <td>Yosi</td>\n",
       "      <td>yosi</td>\n",
       "    </tr>\n",
       "  </tbody>\n",
       "</table>\n",
       "</div>"
      ],
      "text/plain": [
       "       Name    Name1\n",
       "0      Adar     adar\n",
       "1      Agam     agam\n",
       "2       Avi      avi\n",
       "3      Dani     dani\n",
       "4      Dina     dina\n",
       "5     Efrat    efrat\n",
       "6      Ehud     ehud\n",
       "7       Eli      eli\n",
       "8     Ester    ester\n",
       "9   Evyatar  evyatar\n",
       "10   Itamar   itamar\n",
       "11     Liel     liel\n",
       "12   Lilach   lilach\n",
       "13      Mia      mia\n",
       "14   Michal   michal\n",
       "15    Moshe    moshe\n",
       "16     Noya     noya\n",
       "17     Ofer     ofer\n",
       "18     Ohad     ohad\n",
       "19     Omer     omer\n",
       "20     Orit     orit\n",
       "21     Orit     orit\n",
       "22     Rina     rina\n",
       "23    Shely    shely\n",
       "24    Talya    talya\n",
       "25    Tomer    tomer\n",
       "26      Udi      udi\n",
       "27    Yafit    yafit\n",
       "28     Yoav     yoav\n",
       "29     Yosi     yosi"
      ]
     },
     "execution_count": 52,
     "metadata": {},
     "output_type": "execute_result"
    }
   ],
   "source": [
    "pupc"
   ]
  },
  {
   "cell_type": "code",
   "execution_count": 53,
   "id": "52432e44",
   "metadata": {},
   "outputs": [],
   "source": [
    "mask = pup[\"Name\"].str.lower()=='agam'"
   ]
  },
  {
   "cell_type": "code",
   "execution_count": 54,
   "id": "7b16fe1b",
   "metadata": {},
   "outputs": [
    {
     "data": {
      "text/html": [
       "<div>\n",
       "<style scoped>\n",
       "    .dataframe tbody tr th:only-of-type {\n",
       "        vertical-align: middle;\n",
       "    }\n",
       "\n",
       "    .dataframe tbody tr th {\n",
       "        vertical-align: top;\n",
       "    }\n",
       "\n",
       "    .dataframe thead th {\n",
       "        text-align: right;\n",
       "    }\n",
       "</style>\n",
       "<table border=\"1\" class=\"dataframe\">\n",
       "  <thead>\n",
       "    <tr style=\"text-align: right;\">\n",
       "      <th></th>\n",
       "      <th>Name</th>\n",
       "      <th>Age</th>\n",
       "      <th>Country</th>\n",
       "      <th>Height</th>\n",
       "      <th>Weight</th>\n",
       "      <th>avg</th>\n",
       "      <th>income</th>\n",
       "      <th>rooms</th>\n",
       "      <th>family</th>\n",
       "      <th>type</th>\n",
       "      <th>gen</th>\n",
       "    </tr>\n",
       "  </thead>\n",
       "  <tbody>\n",
       "    <tr>\n",
       "      <th>1</th>\n",
       "      <td>agam</td>\n",
       "      <td>6</td>\n",
       "      <td>GR</td>\n",
       "      <td>172</td>\n",
       "      <td>71</td>\n",
       "      <td>92</td>\n",
       "      <td>9200</td>\n",
       "      <td>5</td>\n",
       "      <td>4</td>\n",
       "      <td>2</td>\n",
       "      <td>F</td>\n",
       "    </tr>\n",
       "  </tbody>\n",
       "</table>\n",
       "</div>"
      ],
      "text/plain": [
       "   Name  Age Country  Height  Weight  avg  income  rooms  family  type gen\n",
       "1  agam    6      GR     172      71   92    9200      5       4     2   F"
      ]
     },
     "execution_count": 54,
     "metadata": {},
     "output_type": "execute_result"
    }
   ],
   "source": [
    "pup[mask]"
   ]
  },
  {
   "cell_type": "code",
   "execution_count": 55,
   "id": "90b0c36b",
   "metadata": {},
   "outputs": [
    {
     "data": {
      "text/plain": [
       "0    1.  Hello    \n",
       "1    2.  World!\\n \n",
       "2    3.  python.\\t\n",
       "dtype: object"
      ]
     },
     "execution_count": 55,
     "metadata": {},
     "output_type": "execute_result"
    }
   ],
   "source": [
    "s"
   ]
  },
  {
   "cell_type": "code",
   "execution_count": 56,
   "id": "7bc13b64",
   "metadata": {},
   "outputs": [],
   "source": [
    "s =pd.Series(['Hello World', \"Hi Python\"])"
   ]
  },
  {
   "cell_type": "code",
   "execution_count": 57,
   "id": "67cf4b3b",
   "metadata": {},
   "outputs": [
    {
     "data": {
      "text/plain": [
       "0    Hello World\n",
       "1      Hi Python\n",
       "dtype: object"
      ]
     },
     "execution_count": 57,
     "metadata": {},
     "output_type": "execute_result"
    }
   ],
   "source": [
    "s"
   ]
  },
  {
   "cell_type": "code",
   "execution_count": 58,
   "id": "1308cf66",
   "metadata": {},
   "outputs": [
    {
     "data": {
      "text/plain": [
       "0    [Hello, World]\n",
       "1      [Hi, Python]\n",
       "dtype: object"
      ]
     },
     "execution_count": 58,
     "metadata": {},
     "output_type": "execute_result"
    }
   ],
   "source": [
    "s.str.split(' ')"
   ]
  },
  {
   "cell_type": "code",
   "execution_count": 60,
   "id": "ba23a75e",
   "metadata": {},
   "outputs": [
    {
     "data": {
      "text/html": [
       "<div>\n",
       "<style scoped>\n",
       "    .dataframe tbody tr th:only-of-type {\n",
       "        vertical-align: middle;\n",
       "    }\n",
       "\n",
       "    .dataframe tbody tr th {\n",
       "        vertical-align: top;\n",
       "    }\n",
       "\n",
       "    .dataframe thead th {\n",
       "        text-align: right;\n",
       "    }\n",
       "</style>\n",
       "<table border=\"1\" class=\"dataframe\">\n",
       "  <thead>\n",
       "    <tr style=\"text-align: right;\">\n",
       "      <th></th>\n",
       "      <th>0</th>\n",
       "      <th>a</th>\n",
       "      <th>b</th>\n",
       "    </tr>\n",
       "  </thead>\n",
       "  <tbody>\n",
       "    <tr>\n",
       "      <th>0</th>\n",
       "      <td>Hello World</td>\n",
       "      <td>Hello</td>\n",
       "      <td>World</td>\n",
       "    </tr>\n",
       "    <tr>\n",
       "      <th>1</th>\n",
       "      <td>Hi Python</td>\n",
       "      <td>Hi</td>\n",
       "      <td>Python</td>\n",
       "    </tr>\n",
       "  </tbody>\n",
       "</table>\n",
       "</div>"
      ],
      "text/plain": [
       "             0      a       b\n",
       "0  Hello World  Hello   World\n",
       "1    Hi Python     Hi  Python"
      ]
     },
     "execution_count": 60,
     "metadata": {},
     "output_type": "execute_result"
    }
   ],
   "source": [
    "s.to_frame().assign(a =s.str.split(' ').str[0],\n",
    "                    b=s.str.split(' ').str[-1])"
   ]
  },
  {
   "cell_type": "code",
   "execution_count": 61,
   "id": "4648617e",
   "metadata": {},
   "outputs": [
    {
     "data": {
      "text/html": [
       "<div>\n",
       "<style scoped>\n",
       "    .dataframe tbody tr th:only-of-type {\n",
       "        vertical-align: middle;\n",
       "    }\n",
       "\n",
       "    .dataframe tbody tr th {\n",
       "        vertical-align: top;\n",
       "    }\n",
       "\n",
       "    .dataframe thead th {\n",
       "        text-align: right;\n",
       "    }\n",
       "</style>\n",
       "<table border=\"1\" class=\"dataframe\">\n",
       "  <thead>\n",
       "    <tr style=\"text-align: right;\">\n",
       "      <th></th>\n",
       "      <th>Name</th>\n",
       "      <th>Age</th>\n",
       "      <th>Country</th>\n",
       "      <th>Height</th>\n",
       "      <th>Weight</th>\n",
       "      <th>avg</th>\n",
       "      <th>income</th>\n",
       "      <th>rooms</th>\n",
       "      <th>family</th>\n",
       "      <th>type</th>\n",
       "      <th>gen</th>\n",
       "    </tr>\n",
       "  </thead>\n",
       "  <tbody>\n",
       "    <tr>\n",
       "      <th>0</th>\n",
       "      <td>adar</td>\n",
       "      <td>6</td>\n",
       "      <td>SP</td>\n",
       "      <td>113</td>\n",
       "      <td>30</td>\n",
       "      <td>70</td>\n",
       "      <td>16700</td>\n",
       "      <td>7</td>\n",
       "      <td>6</td>\n",
       "      <td>1</td>\n",
       "      <td>M</td>\n",
       "    </tr>\n",
       "    <tr>\n",
       "      <th>1</th>\n",
       "      <td>agam</td>\n",
       "      <td>6</td>\n",
       "      <td>GR</td>\n",
       "      <td>172</td>\n",
       "      <td>71</td>\n",
       "      <td>92</td>\n",
       "      <td>9200</td>\n",
       "      <td>5</td>\n",
       "      <td>4</td>\n",
       "      <td>2</td>\n",
       "      <td>F</td>\n",
       "    </tr>\n",
       "    <tr>\n",
       "      <th>2</th>\n",
       "      <td>avi</td>\n",
       "      <td>7</td>\n",
       "      <td>ISR</td>\n",
       "      <td>143</td>\n",
       "      <td>58</td>\n",
       "      <td>82</td>\n",
       "      <td>12000</td>\n",
       "      <td>3</td>\n",
       "      <td>7</td>\n",
       "      <td>1</td>\n",
       "      <td>M</td>\n",
       "    </tr>\n",
       "    <tr>\n",
       "      <th>3</th>\n",
       "      <td>dani</td>\n",
       "      <td>7</td>\n",
       "      <td>US</td>\n",
       "      <td>160</td>\n",
       "      <td>70</td>\n",
       "      <td>90</td>\n",
       "      <td>15000</td>\n",
       "      <td>4</td>\n",
       "      <td>4</td>\n",
       "      <td>2</td>\n",
       "      <td>M</td>\n",
       "    </tr>\n",
       "    <tr>\n",
       "      <th>4</th>\n",
       "      <td>dina</td>\n",
       "      <td>7</td>\n",
       "      <td>ISR</td>\n",
       "      <td>110</td>\n",
       "      <td>26</td>\n",
       "      <td>64</td>\n",
       "      <td>10000</td>\n",
       "      <td>6</td>\n",
       "      <td>8</td>\n",
       "      <td>1</td>\n",
       "      <td>F</td>\n",
       "    </tr>\n",
       "  </tbody>\n",
       "</table>\n",
       "</div>"
      ],
      "text/plain": [
       "   Name  Age Country  Height  Weight  avg  income  rooms  family  type gen\n",
       "0  adar    6      SP     113      30   70   16700      7       6     1   M\n",
       "1  agam    6      GR     172      71   92    9200      5       4     2   F\n",
       "2   avi    7     ISR     143      58   82   12000      3       7     1   M\n",
       "3  dani    7      US     160      70   90   15000      4       4     2   M\n",
       "4  dina    7     ISR     110      26   64   10000      6       8     1   F"
      ]
     },
     "execution_count": 61,
     "metadata": {},
     "output_type": "execute_result"
    }
   ],
   "source": [
    "pup.head()"
   ]
  },
  {
   "cell_type": "code",
   "execution_count": 62,
   "id": "a9ee3721",
   "metadata": {},
   "outputs": [
    {
     "data": {
      "text/html": [
       "<div>\n",
       "<style scoped>\n",
       "    .dataframe tbody tr th:only-of-type {\n",
       "        vertical-align: middle;\n",
       "    }\n",
       "\n",
       "    .dataframe tbody tr th {\n",
       "        vertical-align: top;\n",
       "    }\n",
       "\n",
       "    .dataframe thead th {\n",
       "        text-align: right;\n",
       "    }\n",
       "</style>\n",
       "<table border=\"1\" class=\"dataframe\">\n",
       "  <thead>\n",
       "    <tr style=\"text-align: right;\">\n",
       "      <th></th>\n",
       "      <th>ProductID</th>\n",
       "      <th>ProductName</th>\n",
       "      <th>UnitPrice</th>\n",
       "      <th>CategoryID</th>\n",
       "      <th>Date1</th>\n",
       "      <th>Date2</th>\n",
       "    </tr>\n",
       "  </thead>\n",
       "  <tbody>\n",
       "    <tr>\n",
       "      <th>0</th>\n",
       "      <td>1</td>\n",
       "      <td>Chai</td>\n",
       "      <td>18.00</td>\n",
       "      <td>1</td>\n",
       "      <td>05/12/2022</td>\n",
       "      <td>15/12/2022</td>\n",
       "    </tr>\n",
       "    <tr>\n",
       "      <th>1</th>\n",
       "      <td>2</td>\n",
       "      <td>Chang</td>\n",
       "      <td>19.00</td>\n",
       "      <td>1</td>\n",
       "      <td>06/12/2022</td>\n",
       "      <td>16/12/2022</td>\n",
       "    </tr>\n",
       "    <tr>\n",
       "      <th>2</th>\n",
       "      <td>3</td>\n",
       "      <td>Aniseed Syrup</td>\n",
       "      <td>10.00</td>\n",
       "      <td>2</td>\n",
       "      <td>07/12/2022</td>\n",
       "      <td>17/12/2022</td>\n",
       "    </tr>\n",
       "    <tr>\n",
       "      <th>3</th>\n",
       "      <td>4</td>\n",
       "      <td>Chef Anton's Cajun Seasoning</td>\n",
       "      <td>22.00</td>\n",
       "      <td>2</td>\n",
       "      <td>08/12/2022</td>\n",
       "      <td>18/12/2022</td>\n",
       "    </tr>\n",
       "    <tr>\n",
       "      <th>4</th>\n",
       "      <td>5</td>\n",
       "      <td>Chef Anton's Gumbo Mix</td>\n",
       "      <td>21.35</td>\n",
       "      <td>2</td>\n",
       "      <td>09/12/2022</td>\n",
       "      <td>19/12/2022</td>\n",
       "    </tr>\n",
       "  </tbody>\n",
       "</table>\n",
       "</div>"
      ],
      "text/plain": [
       "   ProductID                   ProductName  UnitPrice  CategoryID       Date1  \\\n",
       "0          1                          Chai      18.00           1  05/12/2022   \n",
       "1          2                         Chang      19.00           1  06/12/2022   \n",
       "2          3                 Aniseed Syrup      10.00           2  07/12/2022   \n",
       "3          4  Chef Anton's Cajun Seasoning      22.00           2  08/12/2022   \n",
       "4          5        Chef Anton's Gumbo Mix      21.35           2  09/12/2022   \n",
       "\n",
       "        Date2  \n",
       "0  15/12/2022  \n",
       "1  16/12/2022  \n",
       "2  17/12/2022  \n",
       "3  18/12/2022  \n",
       "4  19/12/2022  "
      ]
     },
     "execution_count": 62,
     "metadata": {},
     "output_type": "execute_result"
    }
   ],
   "source": [
    "products.head()"
   ]
  },
  {
   "cell_type": "code",
   "execution_count": 63,
   "id": "771ab2bc-749e-4c10-8b2a-e0817576fd3e",
   "metadata": {},
   "outputs": [
    {
     "name": "stdout",
     "output_type": "stream",
     "text": [
      "<class 'pandas.core.frame.DataFrame'>\n",
      "RangeIndex: 77 entries, 0 to 76\n",
      "Data columns (total 6 columns):\n",
      " #   Column       Non-Null Count  Dtype  \n",
      "---  ------       --------------  -----  \n",
      " 0   ProductID    77 non-null     int64  \n",
      " 1   ProductName  77 non-null     object \n",
      " 2   UnitPrice    77 non-null     float64\n",
      " 3   CategoryID   77 non-null     int64  \n",
      " 4   Date1        77 non-null     object \n",
      " 5   Date2        77 non-null     object \n",
      "dtypes: float64(1), int64(2), object(3)\n",
      "memory usage: 3.7+ KB\n"
     ]
    }
   ],
   "source": [
    "products.info()"
   ]
  },
  {
   "cell_type": "code",
   "execution_count": 71,
   "id": "ded6c81d",
   "metadata": {},
   "outputs": [
    {
     "data": {
      "text/plain": [
       "0                                   [Chai]\n",
       "1                                  [Chang]\n",
       "2                         [Aniseed, Syrup]\n",
       "3        [Chef, Anton's, Cajun, Seasoning]\n",
       "4              [Chef, Anton's, Gumbo, Mix]\n",
       "5         [Grandma's, Boysenberry, Spread]\n",
       "6    [Uncle, Bob's, Organic, Dried, Pears]\n",
       "7           [Northwoods, Cranberry, Sauce]\n",
       "8                      [Mishi, Kobe, Niku]\n",
       "9                                  [Ikura]\n",
       "Name: ProductName, dtype: object"
      ]
     },
     "execution_count": 71,
     "metadata": {},
     "output_type": "execute_result"
    }
   ],
   "source": [
    "products[\"ProductName\"].str.split().head(10)"
   ]
  },
  {
   "cell_type": "code",
   "execution_count": 66,
   "id": "ee5c22ef",
   "metadata": {},
   "outputs": [
    {
     "data": {
      "text/html": [
       "<div>\n",
       "<style scoped>\n",
       "    .dataframe tbody tr th:only-of-type {\n",
       "        vertical-align: middle;\n",
       "    }\n",
       "\n",
       "    .dataframe tbody tr th {\n",
       "        vertical-align: top;\n",
       "    }\n",
       "\n",
       "    .dataframe thead th {\n",
       "        text-align: right;\n",
       "    }\n",
       "</style>\n",
       "<table border=\"1\" class=\"dataframe\">\n",
       "  <thead>\n",
       "    <tr style=\"text-align: right;\">\n",
       "      <th></th>\n",
       "      <th>0</th>\n",
       "      <th>1</th>\n",
       "      <th>2</th>\n",
       "      <th>3</th>\n",
       "      <th>4</th>\n",
       "    </tr>\n",
       "  </thead>\n",
       "  <tbody>\n",
       "    <tr>\n",
       "      <th>0</th>\n",
       "      <td>Chai</td>\n",
       "      <td>None</td>\n",
       "      <td>None</td>\n",
       "      <td>None</td>\n",
       "      <td>None</td>\n",
       "    </tr>\n",
       "    <tr>\n",
       "      <th>1</th>\n",
       "      <td>Chang</td>\n",
       "      <td>None</td>\n",
       "      <td>None</td>\n",
       "      <td>None</td>\n",
       "      <td>None</td>\n",
       "    </tr>\n",
       "    <tr>\n",
       "      <th>2</th>\n",
       "      <td>Aniseed</td>\n",
       "      <td>Syrup</td>\n",
       "      <td>None</td>\n",
       "      <td>None</td>\n",
       "      <td>None</td>\n",
       "    </tr>\n",
       "    <tr>\n",
       "      <th>3</th>\n",
       "      <td>Chef</td>\n",
       "      <td>Anton's</td>\n",
       "      <td>Cajun</td>\n",
       "      <td>Seasoning</td>\n",
       "      <td>None</td>\n",
       "    </tr>\n",
       "    <tr>\n",
       "      <th>4</th>\n",
       "      <td>Chef</td>\n",
       "      <td>Anton's</td>\n",
       "      <td>Gumbo</td>\n",
       "      <td>Mix</td>\n",
       "      <td>None</td>\n",
       "    </tr>\n",
       "    <tr>\n",
       "      <th>...</th>\n",
       "      <td>...</td>\n",
       "      <td>...</td>\n",
       "      <td>...</td>\n",
       "      <td>...</td>\n",
       "      <td>...</td>\n",
       "    </tr>\n",
       "    <tr>\n",
       "      <th>72</th>\n",
       "      <td>Rad</td>\n",
       "      <td>Kaviar</td>\n",
       "      <td>None</td>\n",
       "      <td>None</td>\n",
       "      <td>None</td>\n",
       "    </tr>\n",
       "    <tr>\n",
       "      <th>73</th>\n",
       "      <td>Longlife</td>\n",
       "      <td>Tofu</td>\n",
       "      <td>None</td>\n",
       "      <td>None</td>\n",
       "      <td>None</td>\n",
       "    </tr>\n",
       "    <tr>\n",
       "      <th>74</th>\n",
       "      <td>Rhanbrau</td>\n",
       "      <td>Klosterbier</td>\n",
       "      <td>None</td>\n",
       "      <td>None</td>\n",
       "      <td>None</td>\n",
       "    </tr>\n",
       "    <tr>\n",
       "      <th>75</th>\n",
       "      <td>Lakkalikaari</td>\n",
       "      <td>None</td>\n",
       "      <td>None</td>\n",
       "      <td>None</td>\n",
       "      <td>None</td>\n",
       "    </tr>\n",
       "    <tr>\n",
       "      <th>76</th>\n",
       "      <td>Original</td>\n",
       "      <td>Frankfurter</td>\n",
       "      <td>grane</td>\n",
       "      <td>Soae</td>\n",
       "      <td>None</td>\n",
       "    </tr>\n",
       "  </tbody>\n",
       "</table>\n",
       "<p>77 rows × 5 columns</p>\n",
       "</div>"
      ],
      "text/plain": [
       "               0            1      2          3     4\n",
       "0           Chai         None   None       None  None\n",
       "1          Chang         None   None       None  None\n",
       "2        Aniseed        Syrup   None       None  None\n",
       "3           Chef      Anton's  Cajun  Seasoning  None\n",
       "4           Chef      Anton's  Gumbo        Mix  None\n",
       "..           ...          ...    ...        ...   ...\n",
       "72           Rad       Kaviar   None       None  None\n",
       "73      Longlife         Tofu   None       None  None\n",
       "74      Rhanbrau  Klosterbier   None       None  None\n",
       "75  Lakkalikaari         None   None       None  None\n",
       "76      Original  Frankfurter  grane       Soae  None\n",
       "\n",
       "[77 rows x 5 columns]"
      ]
     },
     "execution_count": 66,
     "metadata": {},
     "output_type": "execute_result"
    }
   ],
   "source": [
    "products[\"ProductName\"].str.split(expand=True)"
   ]
  },
  {
   "cell_type": "code",
   "execution_count": 67,
   "id": "d4066a8c",
   "metadata": {},
   "outputs": [
    {
     "data": {
      "text/plain": [
       "0             Chai\n",
       "1            Chang\n",
       "2          Aniseed\n",
       "3             Chef\n",
       "4             Chef\n",
       "          ...     \n",
       "72             Rad\n",
       "73        Longlife\n",
       "74        Rhanbrau\n",
       "75    Lakkalikaari\n",
       "76        Original\n",
       "Name: 0, Length: 77, dtype: object"
      ]
     },
     "execution_count": 67,
     "metadata": {},
     "output_type": "execute_result"
    }
   ],
   "source": [
    "products[\"ProductName\"].str.split(expand=True)[0]"
   ]
  },
  {
   "cell_type": "code",
   "execution_count": 69,
   "id": "bce33454-b3f5-4e15-9713-aa17e0875b6c",
   "metadata": {},
   "outputs": [
    {
     "data": {
      "text/plain": [
       "0        None\n",
       "1        None\n",
       "2        None\n",
       "3        None\n",
       "4        None\n",
       "5        None\n",
       "6       Pears\n",
       "7        None\n",
       "8        None\n",
       "9        None\n",
       "10       None\n",
       "11       None\n",
       "12       None\n",
       "13       None\n",
       "14       None\n",
       "15       None\n",
       "16       None\n",
       "17       None\n",
       "18       None\n",
       "19       None\n",
       "20       None\n",
       "21       None\n",
       "22       None\n",
       "23       None\n",
       "24       None\n",
       "25       None\n",
       "26       None\n",
       "27       None\n",
       "28       None\n",
       "29       None\n",
       "30       None\n",
       "31       None\n",
       "32       None\n",
       "33       None\n",
       "34       None\n",
       "35       None\n",
       "36       None\n",
       "37       None\n",
       "38       None\n",
       "39       None\n",
       "40    Chowder\n",
       "41       None\n",
       "42       None\n",
       "43       None\n",
       "44       None\n",
       "45       None\n",
       "46       None\n",
       "47       None\n",
       "48       None\n",
       "49       None\n",
       "Name: 4, dtype: object"
      ]
     },
     "execution_count": 69,
     "metadata": {},
     "output_type": "execute_result"
    }
   ],
   "source": [
    "products[\"ProductName\"].str.split(expand=True)[4].head(50)"
   ]
  },
  {
   "cell_type": "code",
   "execution_count": 72,
   "id": "af0222a1",
   "metadata": {},
   "outputs": [],
   "source": [
    "products[\"start name\"]=products[\"ProductName\"].str.split(expand=True)[0]"
   ]
  },
  {
   "cell_type": "code",
   "execution_count": 73,
   "id": "58b8860d",
   "metadata": {},
   "outputs": [
    {
     "data": {
      "text/html": [
       "<div>\n",
       "<style scoped>\n",
       "    .dataframe tbody tr th:only-of-type {\n",
       "        vertical-align: middle;\n",
       "    }\n",
       "\n",
       "    .dataframe tbody tr th {\n",
       "        vertical-align: top;\n",
       "    }\n",
       "\n",
       "    .dataframe thead th {\n",
       "        text-align: right;\n",
       "    }\n",
       "</style>\n",
       "<table border=\"1\" class=\"dataframe\">\n",
       "  <thead>\n",
       "    <tr style=\"text-align: right;\">\n",
       "      <th></th>\n",
       "      <th>ProductID</th>\n",
       "      <th>ProductName</th>\n",
       "      <th>UnitPrice</th>\n",
       "      <th>CategoryID</th>\n",
       "      <th>Date1</th>\n",
       "      <th>Date2</th>\n",
       "      <th>start name</th>\n",
       "    </tr>\n",
       "  </thead>\n",
       "  <tbody>\n",
       "    <tr>\n",
       "      <th>0</th>\n",
       "      <td>1</td>\n",
       "      <td>Chai</td>\n",
       "      <td>18.00</td>\n",
       "      <td>1</td>\n",
       "      <td>05/12/2022</td>\n",
       "      <td>15/12/2022</td>\n",
       "      <td>Chai</td>\n",
       "    </tr>\n",
       "    <tr>\n",
       "      <th>1</th>\n",
       "      <td>2</td>\n",
       "      <td>Chang</td>\n",
       "      <td>19.00</td>\n",
       "      <td>1</td>\n",
       "      <td>06/12/2022</td>\n",
       "      <td>16/12/2022</td>\n",
       "      <td>Chang</td>\n",
       "    </tr>\n",
       "    <tr>\n",
       "      <th>2</th>\n",
       "      <td>3</td>\n",
       "      <td>Aniseed Syrup</td>\n",
       "      <td>10.00</td>\n",
       "      <td>2</td>\n",
       "      <td>07/12/2022</td>\n",
       "      <td>17/12/2022</td>\n",
       "      <td>Aniseed</td>\n",
       "    </tr>\n",
       "    <tr>\n",
       "      <th>3</th>\n",
       "      <td>4</td>\n",
       "      <td>Chef Anton's Cajun Seasoning</td>\n",
       "      <td>22.00</td>\n",
       "      <td>2</td>\n",
       "      <td>08/12/2022</td>\n",
       "      <td>18/12/2022</td>\n",
       "      <td>Chef</td>\n",
       "    </tr>\n",
       "    <tr>\n",
       "      <th>4</th>\n",
       "      <td>5</td>\n",
       "      <td>Chef Anton's Gumbo Mix</td>\n",
       "      <td>21.35</td>\n",
       "      <td>2</td>\n",
       "      <td>09/12/2022</td>\n",
       "      <td>19/12/2022</td>\n",
       "      <td>Chef</td>\n",
       "    </tr>\n",
       "  </tbody>\n",
       "</table>\n",
       "</div>"
      ],
      "text/plain": [
       "   ProductID                   ProductName  UnitPrice  CategoryID       Date1  \\\n",
       "0          1                          Chai      18.00           1  05/12/2022   \n",
       "1          2                         Chang      19.00           1  06/12/2022   \n",
       "2          3                 Aniseed Syrup      10.00           2  07/12/2022   \n",
       "3          4  Chef Anton's Cajun Seasoning      22.00           2  08/12/2022   \n",
       "4          5        Chef Anton's Gumbo Mix      21.35           2  09/12/2022   \n",
       "\n",
       "        Date2 start name  \n",
       "0  15/12/2022       Chai  \n",
       "1  16/12/2022      Chang  \n",
       "2  17/12/2022    Aniseed  \n",
       "3  18/12/2022       Chef  \n",
       "4  19/12/2022       Chef  "
      ]
     },
     "execution_count": 73,
     "metadata": {},
     "output_type": "execute_result"
    }
   ],
   "source": [
    "products.head()"
   ]
  },
  {
   "cell_type": "markdown",
   "id": "a701f371",
   "metadata": {},
   "source": [
    "# Numeric Functions"
   ]
  },
  {
   "cell_type": "code",
   "execution_count": null,
   "id": "0318d626",
   "metadata": {},
   "outputs": [],
   "source": [
    "#round()"
   ]
  },
  {
   "cell_type": "code",
   "execution_count": 74,
   "id": "30359661",
   "metadata": {},
   "outputs": [
    {
     "data": {
      "text/html": [
       "<div>\n",
       "<style scoped>\n",
       "    .dataframe tbody tr th:only-of-type {\n",
       "        vertical-align: middle;\n",
       "    }\n",
       "\n",
       "    .dataframe tbody tr th {\n",
       "        vertical-align: top;\n",
       "    }\n",
       "\n",
       "    .dataframe thead th {\n",
       "        text-align: right;\n",
       "    }\n",
       "</style>\n",
       "<table border=\"1\" class=\"dataframe\">\n",
       "  <thead>\n",
       "    <tr style=\"text-align: right;\">\n",
       "      <th></th>\n",
       "      <th>Name</th>\n",
       "      <th>Age</th>\n",
       "      <th>Country</th>\n",
       "      <th>Height</th>\n",
       "      <th>Weight</th>\n",
       "      <th>avg</th>\n",
       "      <th>income</th>\n",
       "      <th>rooms</th>\n",
       "      <th>family</th>\n",
       "      <th>type</th>\n",
       "      <th>gen</th>\n",
       "    </tr>\n",
       "  </thead>\n",
       "  <tbody>\n",
       "    <tr>\n",
       "      <th>0</th>\n",
       "      <td>adar</td>\n",
       "      <td>6</td>\n",
       "      <td>SP</td>\n",
       "      <td>113</td>\n",
       "      <td>30</td>\n",
       "      <td>70</td>\n",
       "      <td>16700</td>\n",
       "      <td>7</td>\n",
       "      <td>6</td>\n",
       "      <td>1</td>\n",
       "      <td>M</td>\n",
       "    </tr>\n",
       "    <tr>\n",
       "      <th>1</th>\n",
       "      <td>agam</td>\n",
       "      <td>6</td>\n",
       "      <td>GR</td>\n",
       "      <td>172</td>\n",
       "      <td>71</td>\n",
       "      <td>92</td>\n",
       "      <td>9200</td>\n",
       "      <td>5</td>\n",
       "      <td>4</td>\n",
       "      <td>2</td>\n",
       "      <td>F</td>\n",
       "    </tr>\n",
       "    <tr>\n",
       "      <th>2</th>\n",
       "      <td>avi</td>\n",
       "      <td>7</td>\n",
       "      <td>ISR</td>\n",
       "      <td>143</td>\n",
       "      <td>58</td>\n",
       "      <td>82</td>\n",
       "      <td>12000</td>\n",
       "      <td>3</td>\n",
       "      <td>7</td>\n",
       "      <td>1</td>\n",
       "      <td>M</td>\n",
       "    </tr>\n",
       "    <tr>\n",
       "      <th>3</th>\n",
       "      <td>dani</td>\n",
       "      <td>7</td>\n",
       "      <td>US</td>\n",
       "      <td>160</td>\n",
       "      <td>70</td>\n",
       "      <td>90</td>\n",
       "      <td>15000</td>\n",
       "      <td>4</td>\n",
       "      <td>4</td>\n",
       "      <td>2</td>\n",
       "      <td>M</td>\n",
       "    </tr>\n",
       "    <tr>\n",
       "      <th>4</th>\n",
       "      <td>dina</td>\n",
       "      <td>7</td>\n",
       "      <td>ISR</td>\n",
       "      <td>110</td>\n",
       "      <td>26</td>\n",
       "      <td>64</td>\n",
       "      <td>10000</td>\n",
       "      <td>6</td>\n",
       "      <td>8</td>\n",
       "      <td>1</td>\n",
       "      <td>F</td>\n",
       "    </tr>\n",
       "  </tbody>\n",
       "</table>\n",
       "</div>"
      ],
      "text/plain": [
       "   Name  Age Country  Height  Weight  avg  income  rooms  family  type gen\n",
       "0  adar    6      SP     113      30   70   16700      7       6     1   M\n",
       "1  agam    6      GR     172      71   92    9200      5       4     2   F\n",
       "2   avi    7     ISR     143      58   82   12000      3       7     1   M\n",
       "3  dani    7      US     160      70   90   15000      4       4     2   M\n",
       "4  dina    7     ISR     110      26   64   10000      6       8     1   F"
      ]
     },
     "execution_count": 74,
     "metadata": {},
     "output_type": "execute_result"
    }
   ],
   "source": [
    "pup.head()"
   ]
  },
  {
   "cell_type": "code",
   "execution_count": 75,
   "id": "701aa3e2",
   "metadata": {},
   "outputs": [
    {
     "data": {
      "text/html": [
       "<div>\n",
       "<style scoped>\n",
       "    .dataframe tbody tr th:only-of-type {\n",
       "        vertical-align: middle;\n",
       "    }\n",
       "\n",
       "    .dataframe tbody tr th {\n",
       "        vertical-align: top;\n",
       "    }\n",
       "\n",
       "    .dataframe thead th {\n",
       "        text-align: right;\n",
       "    }\n",
       "</style>\n",
       "<table border=\"1\" class=\"dataframe\">\n",
       "  <thead>\n",
       "    <tr style=\"text-align: right;\">\n",
       "      <th></th>\n",
       "      <th>total_bill</th>\n",
       "      <th>tip</th>\n",
       "      <th>sex</th>\n",
       "      <th>smoker</th>\n",
       "      <th>day</th>\n",
       "      <th>time</th>\n",
       "      <th>size</th>\n",
       "    </tr>\n",
       "  </thead>\n",
       "  <tbody>\n",
       "    <tr>\n",
       "      <th>0</th>\n",
       "      <td>16.99</td>\n",
       "      <td>1.01</td>\n",
       "      <td>Female</td>\n",
       "      <td>No</td>\n",
       "      <td>Sun</td>\n",
       "      <td>Dinner</td>\n",
       "      <td>2</td>\n",
       "    </tr>\n",
       "    <tr>\n",
       "      <th>1</th>\n",
       "      <td>10.34</td>\n",
       "      <td>1.66</td>\n",
       "      <td>Male</td>\n",
       "      <td>No</td>\n",
       "      <td>Sun</td>\n",
       "      <td>Dinner</td>\n",
       "      <td>3</td>\n",
       "    </tr>\n",
       "    <tr>\n",
       "      <th>2</th>\n",
       "      <td>21.01</td>\n",
       "      <td>3.50</td>\n",
       "      <td>Male</td>\n",
       "      <td>No</td>\n",
       "      <td>Sun</td>\n",
       "      <td>Dinner</td>\n",
       "      <td>3</td>\n",
       "    </tr>\n",
       "    <tr>\n",
       "      <th>3</th>\n",
       "      <td>23.68</td>\n",
       "      <td>3.31</td>\n",
       "      <td>Male</td>\n",
       "      <td>No</td>\n",
       "      <td>Sun</td>\n",
       "      <td>Dinner</td>\n",
       "      <td>2</td>\n",
       "    </tr>\n",
       "    <tr>\n",
       "      <th>4</th>\n",
       "      <td>24.59</td>\n",
       "      <td>3.61</td>\n",
       "      <td>Female</td>\n",
       "      <td>No</td>\n",
       "      <td>Sun</td>\n",
       "      <td>Dinner</td>\n",
       "      <td>4</td>\n",
       "    </tr>\n",
       "  </tbody>\n",
       "</table>\n",
       "</div>"
      ],
      "text/plain": [
       "   total_bill   tip     sex smoker  day    time  size\n",
       "0       16.99  1.01  Female     No  Sun  Dinner     2\n",
       "1       10.34  1.66    Male     No  Sun  Dinner     3\n",
       "2       21.01  3.50    Male     No  Sun  Dinner     3\n",
       "3       23.68  3.31    Male     No  Sun  Dinner     2\n",
       "4       24.59  3.61  Female     No  Sun  Dinner     4"
      ]
     },
     "execution_count": 75,
     "metadata": {},
     "output_type": "execute_result"
    }
   ],
   "source": [
    "df.head()"
   ]
  },
  {
   "cell_type": "code",
   "execution_count": 76,
   "id": "734970a6",
   "metadata": {},
   "outputs": [
    {
     "data": {
      "text/plain": [
       "0      17.0\n",
       "1      10.0\n",
       "2      21.0\n",
       "3      24.0\n",
       "4      25.0\n",
       "       ... \n",
       "239    29.0\n",
       "240    27.0\n",
       "241    23.0\n",
       "242    18.0\n",
       "243    19.0\n",
       "Name: total_bill, Length: 244, dtype: float64"
      ]
     },
     "execution_count": 76,
     "metadata": {},
     "output_type": "execute_result"
    }
   ],
   "source": [
    "import numpy as np\n",
    "np.round(df[\"total_bill\"],0)"
   ]
  },
  {
   "cell_type": "code",
   "execution_count": 77,
   "id": "b5badfd7",
   "metadata": {},
   "outputs": [
    {
     "data": {
      "text/plain": [
       "0    17.0\n",
       "1    10.3\n",
       "2    21.0\n",
       "3    23.7\n",
       "4    24.6\n",
       "Name: total_bill, dtype: float64"
      ]
     },
     "execution_count": 77,
     "metadata": {},
     "output_type": "execute_result"
    }
   ],
   "source": [
    "df[\"total_bill\"].round(1).head()"
   ]
  },
  {
   "cell_type": "code",
   "execution_count": 78,
   "id": "0c83c45b",
   "metadata": {},
   "outputs": [
    {
     "data": {
      "text/plain": [
       "0    16.0\n",
       "1    10.0\n",
       "2    21.0\n",
       "3    23.0\n",
       "4    24.0\n",
       "Name: total_bill, dtype: float64"
      ]
     },
     "execution_count": 78,
     "metadata": {},
     "output_type": "execute_result"
    }
   ],
   "source": [
    "np.floor(df[\"total_bill\"]).head()"
   ]
  },
  {
   "cell_type": "code",
   "execution_count": 79,
   "id": "f7f83471",
   "metadata": {},
   "outputs": [
    {
     "data": {
      "text/plain": [
       "0    17.0\n",
       "1    11.0\n",
       "2    22.0\n",
       "3    24.0\n",
       "4    25.0\n",
       "Name: total_bill, dtype: float64"
      ]
     },
     "execution_count": 79,
     "metadata": {},
     "output_type": "execute_result"
    }
   ],
   "source": [
    "np.ceil(df[\"total_bill\"]).head()"
   ]
  },
  {
   "cell_type": "code",
   "execution_count": null,
   "id": "525f23a8",
   "metadata": {},
   "outputs": [],
   "source": [
    "#mul = Multiply DataFrames., div = Divide DataFrames"
   ]
  },
  {
   "cell_type": "code",
   "execution_count": 80,
   "id": "cc1273ee-d6db-49ae-8324-6411fb176eca",
   "metadata": {},
   "outputs": [
    {
     "data": {
      "text/plain": [
       "0      1699.0\n",
       "1      1034.0\n",
       "2      2101.0\n",
       "3      2368.0\n",
       "4      2459.0\n",
       "        ...  \n",
       "239    2903.0\n",
       "240    2718.0\n",
       "241    2267.0\n",
       "242    1782.0\n",
       "243    1878.0\n",
       "Name: total_bill, Length: 244, dtype: float64"
      ]
     },
     "execution_count": 80,
     "metadata": {},
     "output_type": "execute_result"
    }
   ],
   "source": [
    "df[\"total_bill\"].mul(100)"
   ]
  },
  {
   "cell_type": "code",
   "execution_count": 81,
   "id": "02954539-ef62-4404-83eb-9ee77d883db9",
   "metadata": {},
   "outputs": [
    {
     "data": {
      "text/plain": [
       "0      1.699\n",
       "1      1.034\n",
       "2      2.101\n",
       "3      2.368\n",
       "4      2.459\n",
       "       ...  \n",
       "239    2.903\n",
       "240    2.718\n",
       "241    2.267\n",
       "242    1.782\n",
       "243    1.878\n",
       "Name: total_bill, Length: 244, dtype: float64"
      ]
     },
     "execution_count": 81,
     "metadata": {},
     "output_type": "execute_result"
    }
   ],
   "source": [
    "df[\"total_bill\"].div(10)"
   ]
  },
  {
   "cell_type": "code",
   "execution_count": 82,
   "id": "c54d3a94",
   "metadata": {},
   "outputs": [
    {
     "data": {
      "text/plain": [
       "0    16.99\n",
       "1    10.34\n",
       "2    21.01\n",
       "3    23.68\n",
       "4    24.59\n",
       "Name: total_bill, dtype: float64"
      ]
     },
     "execution_count": 82,
     "metadata": {},
     "output_type": "execute_result"
    }
   ],
   "source": [
    "np.ceil(df[\"total_bill\"].mul(100)).div(100).head()"
   ]
  },
  {
   "cell_type": "markdown",
   "id": "15e9edc8",
   "metadata": {},
   "source": [
    "# Date Functions"
   ]
  },
  {
   "cell_type": "code",
   "execution_count": 84,
   "id": "3b109d13",
   "metadata": {},
   "outputs": [],
   "source": [
    "import pandas as pd\n",
    "products = pd.read_csv(\"data/Products.csv\")"
   ]
  },
  {
   "cell_type": "code",
   "execution_count": 85,
   "id": "dbcbcec7",
   "metadata": {},
   "outputs": [
    {
     "data": {
      "text/html": [
       "<div>\n",
       "<style scoped>\n",
       "    .dataframe tbody tr th:only-of-type {\n",
       "        vertical-align: middle;\n",
       "    }\n",
       "\n",
       "    .dataframe tbody tr th {\n",
       "        vertical-align: top;\n",
       "    }\n",
       "\n",
       "    .dataframe thead th {\n",
       "        text-align: right;\n",
       "    }\n",
       "</style>\n",
       "<table border=\"1\" class=\"dataframe\">\n",
       "  <thead>\n",
       "    <tr style=\"text-align: right;\">\n",
       "      <th></th>\n",
       "      <th>ProductID</th>\n",
       "      <th>ProductName</th>\n",
       "      <th>UnitPrice</th>\n",
       "      <th>CategoryID</th>\n",
       "      <th>Date1</th>\n",
       "      <th>Date2</th>\n",
       "    </tr>\n",
       "  </thead>\n",
       "  <tbody>\n",
       "    <tr>\n",
       "      <th>0</th>\n",
       "      <td>1</td>\n",
       "      <td>Chai</td>\n",
       "      <td>18.00</td>\n",
       "      <td>1</td>\n",
       "      <td>05/12/2022</td>\n",
       "      <td>15/12/2022</td>\n",
       "    </tr>\n",
       "    <tr>\n",
       "      <th>1</th>\n",
       "      <td>2</td>\n",
       "      <td>Chang</td>\n",
       "      <td>19.00</td>\n",
       "      <td>1</td>\n",
       "      <td>06/12/2022</td>\n",
       "      <td>16/12/2022</td>\n",
       "    </tr>\n",
       "    <tr>\n",
       "      <th>2</th>\n",
       "      <td>3</td>\n",
       "      <td>Aniseed Syrup</td>\n",
       "      <td>10.00</td>\n",
       "      <td>2</td>\n",
       "      <td>07/12/2022</td>\n",
       "      <td>17/12/2022</td>\n",
       "    </tr>\n",
       "    <tr>\n",
       "      <th>3</th>\n",
       "      <td>4</td>\n",
       "      <td>Chef Anton's Cajun Seasoning</td>\n",
       "      <td>22.00</td>\n",
       "      <td>2</td>\n",
       "      <td>08/12/2022</td>\n",
       "      <td>18/12/2022</td>\n",
       "    </tr>\n",
       "    <tr>\n",
       "      <th>4</th>\n",
       "      <td>5</td>\n",
       "      <td>Chef Anton's Gumbo Mix</td>\n",
       "      <td>21.35</td>\n",
       "      <td>2</td>\n",
       "      <td>09/12/2022</td>\n",
       "      <td>19/12/2022</td>\n",
       "    </tr>\n",
       "    <tr>\n",
       "      <th>5</th>\n",
       "      <td>6</td>\n",
       "      <td>Grandma's Boysenberry Spread</td>\n",
       "      <td>25.00</td>\n",
       "      <td>2</td>\n",
       "      <td>11/12/2022</td>\n",
       "      <td>20/12/2022</td>\n",
       "    </tr>\n",
       "    <tr>\n",
       "      <th>6</th>\n",
       "      <td>7</td>\n",
       "      <td>Uncle Bob's Organic Dried Pears</td>\n",
       "      <td>30.00</td>\n",
       "      <td>7</td>\n",
       "      <td>12/12/2022</td>\n",
       "      <td>21/12/2022</td>\n",
       "    </tr>\n",
       "    <tr>\n",
       "      <th>7</th>\n",
       "      <td>8</td>\n",
       "      <td>Northwoods Cranberry Sauce</td>\n",
       "      <td>40.00</td>\n",
       "      <td>2</td>\n",
       "      <td>13/12/2022</td>\n",
       "      <td>22/12/2022</td>\n",
       "    </tr>\n",
       "    <tr>\n",
       "      <th>8</th>\n",
       "      <td>9</td>\n",
       "      <td>Mishi Kobe Niku</td>\n",
       "      <td>97.00</td>\n",
       "      <td>6</td>\n",
       "      <td>14/12/2022</td>\n",
       "      <td>23/12/2022</td>\n",
       "    </tr>\n",
       "    <tr>\n",
       "      <th>9</th>\n",
       "      <td>10</td>\n",
       "      <td>Ikura</td>\n",
       "      <td>31.00</td>\n",
       "      <td>8</td>\n",
       "      <td>15/12/2022</td>\n",
       "      <td>24/12/2022</td>\n",
       "    </tr>\n",
       "    <tr>\n",
       "      <th>10</th>\n",
       "      <td>11</td>\n",
       "      <td>Queso Cabrales</td>\n",
       "      <td>21.00</td>\n",
       "      <td>4</td>\n",
       "      <td>16/12/2022</td>\n",
       "      <td>25/12/2022</td>\n",
       "    </tr>\n",
       "    <tr>\n",
       "      <th>11</th>\n",
       "      <td>12</td>\n",
       "      <td>Queso Manchego La Pastora</td>\n",
       "      <td>38.00</td>\n",
       "      <td>4</td>\n",
       "      <td>18/12/2022</td>\n",
       "      <td>26/12/2022</td>\n",
       "    </tr>\n",
       "    <tr>\n",
       "      <th>12</th>\n",
       "      <td>13</td>\n",
       "      <td>Konbu</td>\n",
       "      <td>6.00</td>\n",
       "      <td>8</td>\n",
       "      <td>19/12/2022</td>\n",
       "      <td>27/12/2022</td>\n",
       "    </tr>\n",
       "    <tr>\n",
       "      <th>13</th>\n",
       "      <td>14</td>\n",
       "      <td>Tofu</td>\n",
       "      <td>23.25</td>\n",
       "      <td>7</td>\n",
       "      <td>20/12/2022</td>\n",
       "      <td>28/12/2022</td>\n",
       "    </tr>\n",
       "    <tr>\n",
       "      <th>14</th>\n",
       "      <td>15</td>\n",
       "      <td>Genen Shouyu</td>\n",
       "      <td>15.50</td>\n",
       "      <td>2</td>\n",
       "      <td>21/12/2022</td>\n",
       "      <td>29/12/2022</td>\n",
       "    </tr>\n",
       "    <tr>\n",
       "      <th>15</th>\n",
       "      <td>16</td>\n",
       "      <td>Pavlova</td>\n",
       "      <td>17.45</td>\n",
       "      <td>3</td>\n",
       "      <td>22/12/2022</td>\n",
       "      <td>30/12/2022</td>\n",
       "    </tr>\n",
       "    <tr>\n",
       "      <th>16</th>\n",
       "      <td>17</td>\n",
       "      <td>Alice Mutton</td>\n",
       "      <td>39.00</td>\n",
       "      <td>6</td>\n",
       "      <td>23/12/2022</td>\n",
       "      <td>31/12/2022</td>\n",
       "    </tr>\n",
       "    <tr>\n",
       "      <th>17</th>\n",
       "      <td>18</td>\n",
       "      <td>Carnarvon Tigers</td>\n",
       "      <td>62.50</td>\n",
       "      <td>8</td>\n",
       "      <td>25/12/2022</td>\n",
       "      <td>01/01/2023</td>\n",
       "    </tr>\n",
       "    <tr>\n",
       "      <th>18</th>\n",
       "      <td>19</td>\n",
       "      <td>Teatime Chocolate Biscuits</td>\n",
       "      <td>9.20</td>\n",
       "      <td>3</td>\n",
       "      <td>26/12/2022</td>\n",
       "      <td>02/01/2023</td>\n",
       "    </tr>\n",
       "    <tr>\n",
       "      <th>19</th>\n",
       "      <td>20</td>\n",
       "      <td>Sir Rodney's Marmalade</td>\n",
       "      <td>81.00</td>\n",
       "      <td>3</td>\n",
       "      <td>27/12/2022</td>\n",
       "      <td>03/01/2023</td>\n",
       "    </tr>\n",
       "  </tbody>\n",
       "</table>\n",
       "</div>"
      ],
      "text/plain": [
       "    ProductID                      ProductName  UnitPrice  CategoryID  \\\n",
       "0           1                             Chai      18.00           1   \n",
       "1           2                            Chang      19.00           1   \n",
       "2           3                    Aniseed Syrup      10.00           2   \n",
       "3           4     Chef Anton's Cajun Seasoning      22.00           2   \n",
       "4           5           Chef Anton's Gumbo Mix      21.35           2   \n",
       "5           6     Grandma's Boysenberry Spread      25.00           2   \n",
       "6           7  Uncle Bob's Organic Dried Pears      30.00           7   \n",
       "7           8       Northwoods Cranberry Sauce      40.00           2   \n",
       "8           9                  Mishi Kobe Niku      97.00           6   \n",
       "9          10                            Ikura      31.00           8   \n",
       "10         11                   Queso Cabrales      21.00           4   \n",
       "11         12        Queso Manchego La Pastora      38.00           4   \n",
       "12         13                            Konbu       6.00           8   \n",
       "13         14                             Tofu      23.25           7   \n",
       "14         15                     Genen Shouyu      15.50           2   \n",
       "15         16                          Pavlova      17.45           3   \n",
       "16         17                     Alice Mutton      39.00           6   \n",
       "17         18                 Carnarvon Tigers      62.50           8   \n",
       "18         19       Teatime Chocolate Biscuits       9.20           3   \n",
       "19         20           Sir Rodney's Marmalade      81.00           3   \n",
       "\n",
       "         Date1       Date2  \n",
       "0   05/12/2022  15/12/2022  \n",
       "1   06/12/2022  16/12/2022  \n",
       "2   07/12/2022  17/12/2022  \n",
       "3   08/12/2022  18/12/2022  \n",
       "4   09/12/2022  19/12/2022  \n",
       "5   11/12/2022  20/12/2022  \n",
       "6   12/12/2022  21/12/2022  \n",
       "7   13/12/2022  22/12/2022  \n",
       "8   14/12/2022  23/12/2022  \n",
       "9   15/12/2022  24/12/2022  \n",
       "10  16/12/2022  25/12/2022  \n",
       "11  18/12/2022  26/12/2022  \n",
       "12  19/12/2022  27/12/2022  \n",
       "13  20/12/2022  28/12/2022  \n",
       "14  21/12/2022  29/12/2022  \n",
       "15  22/12/2022  30/12/2022  \n",
       "16  23/12/2022  31/12/2022  \n",
       "17  25/12/2022  01/01/2023  \n",
       "18  26/12/2022  02/01/2023  \n",
       "19  27/12/2022  03/01/2023  "
      ]
     },
     "execution_count": 85,
     "metadata": {},
     "output_type": "execute_result"
    }
   ],
   "source": [
    "products.head(20)"
   ]
  },
  {
   "cell_type": "code",
   "execution_count": 86,
   "id": "9a06d382",
   "metadata": {},
   "outputs": [
    {
     "name": "stdout",
     "output_type": "stream",
     "text": [
      "<class 'pandas.core.frame.DataFrame'>\n",
      "RangeIndex: 77 entries, 0 to 76\n",
      "Data columns (total 6 columns):\n",
      " #   Column       Non-Null Count  Dtype  \n",
      "---  ------       --------------  -----  \n",
      " 0   ProductID    77 non-null     int64  \n",
      " 1   ProductName  77 non-null     object \n",
      " 2   UnitPrice    77 non-null     float64\n",
      " 3   CategoryID   77 non-null     int64  \n",
      " 4   Date1        77 non-null     object \n",
      " 5   Date2        77 non-null     object \n",
      "dtypes: float64(1), int64(2), object(3)\n",
      "memory usage: 3.7+ KB\n"
     ]
    }
   ],
   "source": [
    "products.info()"
   ]
  },
  {
   "cell_type": "code",
   "execution_count": null,
   "id": "f5b72f83",
   "metadata": {},
   "outputs": [],
   "source": [
    "products[\"Date\"]=pd.to_datetime(products[\"Date1\"],format=\"%d/%m/%Y\")"
   ]
  },
  {
   "cell_type": "code",
   "execution_count": 88,
   "id": "046356b6",
   "metadata": {},
   "outputs": [
    {
     "name": "stdout",
     "output_type": "stream",
     "text": [
      "<class 'pandas.core.frame.DataFrame'>\n",
      "RangeIndex: 77 entries, 0 to 76\n",
      "Data columns (total 7 columns):\n",
      " #   Column       Non-Null Count  Dtype         \n",
      "---  ------       --------------  -----         \n",
      " 0   ProductID    77 non-null     int64         \n",
      " 1   ProductName  77 non-null     object        \n",
      " 2   UnitPrice    77 non-null     float64       \n",
      " 3   CategoryID   77 non-null     int64         \n",
      " 4   Date1        77 non-null     object        \n",
      " 5   Date2        77 non-null     object        \n",
      " 6   Date         77 non-null     datetime64[ns]\n",
      "dtypes: datetime64[ns](1), float64(1), int64(2), object(3)\n",
      "memory usage: 4.3+ KB\n"
     ]
    }
   ],
   "source": [
    "products.info()"
   ]
  },
  {
   "cell_type": "code",
   "execution_count": 89,
   "id": "23b629fb",
   "metadata": {},
   "outputs": [
    {
     "data": {
      "text/html": [
       "<div>\n",
       "<style scoped>\n",
       "    .dataframe tbody tr th:only-of-type {\n",
       "        vertical-align: middle;\n",
       "    }\n",
       "\n",
       "    .dataframe tbody tr th {\n",
       "        vertical-align: top;\n",
       "    }\n",
       "\n",
       "    .dataframe thead th {\n",
       "        text-align: right;\n",
       "    }\n",
       "</style>\n",
       "<table border=\"1\" class=\"dataframe\">\n",
       "  <thead>\n",
       "    <tr style=\"text-align: right;\">\n",
       "      <th></th>\n",
       "      <th>ProductID</th>\n",
       "      <th>ProductName</th>\n",
       "      <th>UnitPrice</th>\n",
       "      <th>CategoryID</th>\n",
       "      <th>Date1</th>\n",
       "      <th>Date2</th>\n",
       "      <th>Date</th>\n",
       "    </tr>\n",
       "  </thead>\n",
       "  <tbody>\n",
       "    <tr>\n",
       "      <th>0</th>\n",
       "      <td>1</td>\n",
       "      <td>Chai</td>\n",
       "      <td>18.00</td>\n",
       "      <td>1</td>\n",
       "      <td>05/12/2022</td>\n",
       "      <td>15/12/2022</td>\n",
       "      <td>2022-12-05</td>\n",
       "    </tr>\n",
       "    <tr>\n",
       "      <th>1</th>\n",
       "      <td>2</td>\n",
       "      <td>Chang</td>\n",
       "      <td>19.00</td>\n",
       "      <td>1</td>\n",
       "      <td>06/12/2022</td>\n",
       "      <td>16/12/2022</td>\n",
       "      <td>2022-12-06</td>\n",
       "    </tr>\n",
       "    <tr>\n",
       "      <th>2</th>\n",
       "      <td>3</td>\n",
       "      <td>Aniseed Syrup</td>\n",
       "      <td>10.00</td>\n",
       "      <td>2</td>\n",
       "      <td>07/12/2022</td>\n",
       "      <td>17/12/2022</td>\n",
       "      <td>2022-12-07</td>\n",
       "    </tr>\n",
       "    <tr>\n",
       "      <th>3</th>\n",
       "      <td>4</td>\n",
       "      <td>Chef Anton's Cajun Seasoning</td>\n",
       "      <td>22.00</td>\n",
       "      <td>2</td>\n",
       "      <td>08/12/2022</td>\n",
       "      <td>18/12/2022</td>\n",
       "      <td>2022-12-08</td>\n",
       "    </tr>\n",
       "    <tr>\n",
       "      <th>4</th>\n",
       "      <td>5</td>\n",
       "      <td>Chef Anton's Gumbo Mix</td>\n",
       "      <td>21.35</td>\n",
       "      <td>2</td>\n",
       "      <td>09/12/2022</td>\n",
       "      <td>19/12/2022</td>\n",
       "      <td>2022-12-09</td>\n",
       "    </tr>\n",
       "    <tr>\n",
       "      <th>5</th>\n",
       "      <td>6</td>\n",
       "      <td>Grandma's Boysenberry Spread</td>\n",
       "      <td>25.00</td>\n",
       "      <td>2</td>\n",
       "      <td>11/12/2022</td>\n",
       "      <td>20/12/2022</td>\n",
       "      <td>2022-12-11</td>\n",
       "    </tr>\n",
       "    <tr>\n",
       "      <th>6</th>\n",
       "      <td>7</td>\n",
       "      <td>Uncle Bob's Organic Dried Pears</td>\n",
       "      <td>30.00</td>\n",
       "      <td>7</td>\n",
       "      <td>12/12/2022</td>\n",
       "      <td>21/12/2022</td>\n",
       "      <td>2022-12-12</td>\n",
       "    </tr>\n",
       "    <tr>\n",
       "      <th>7</th>\n",
       "      <td>8</td>\n",
       "      <td>Northwoods Cranberry Sauce</td>\n",
       "      <td>40.00</td>\n",
       "      <td>2</td>\n",
       "      <td>13/12/2022</td>\n",
       "      <td>22/12/2022</td>\n",
       "      <td>2022-12-13</td>\n",
       "    </tr>\n",
       "    <tr>\n",
       "      <th>8</th>\n",
       "      <td>9</td>\n",
       "      <td>Mishi Kobe Niku</td>\n",
       "      <td>97.00</td>\n",
       "      <td>6</td>\n",
       "      <td>14/12/2022</td>\n",
       "      <td>23/12/2022</td>\n",
       "      <td>2022-12-14</td>\n",
       "    </tr>\n",
       "    <tr>\n",
       "      <th>9</th>\n",
       "      <td>10</td>\n",
       "      <td>Ikura</td>\n",
       "      <td>31.00</td>\n",
       "      <td>8</td>\n",
       "      <td>15/12/2022</td>\n",
       "      <td>24/12/2022</td>\n",
       "      <td>2022-12-15</td>\n",
       "    </tr>\n",
       "    <tr>\n",
       "      <th>10</th>\n",
       "      <td>11</td>\n",
       "      <td>Queso Cabrales</td>\n",
       "      <td>21.00</td>\n",
       "      <td>4</td>\n",
       "      <td>16/12/2022</td>\n",
       "      <td>25/12/2022</td>\n",
       "      <td>2022-12-16</td>\n",
       "    </tr>\n",
       "    <tr>\n",
       "      <th>11</th>\n",
       "      <td>12</td>\n",
       "      <td>Queso Manchego La Pastora</td>\n",
       "      <td>38.00</td>\n",
       "      <td>4</td>\n",
       "      <td>18/12/2022</td>\n",
       "      <td>26/12/2022</td>\n",
       "      <td>2022-12-18</td>\n",
       "    </tr>\n",
       "    <tr>\n",
       "      <th>12</th>\n",
       "      <td>13</td>\n",
       "      <td>Konbu</td>\n",
       "      <td>6.00</td>\n",
       "      <td>8</td>\n",
       "      <td>19/12/2022</td>\n",
       "      <td>27/12/2022</td>\n",
       "      <td>2022-12-19</td>\n",
       "    </tr>\n",
       "    <tr>\n",
       "      <th>13</th>\n",
       "      <td>14</td>\n",
       "      <td>Tofu</td>\n",
       "      <td>23.25</td>\n",
       "      <td>7</td>\n",
       "      <td>20/12/2022</td>\n",
       "      <td>28/12/2022</td>\n",
       "      <td>2022-12-20</td>\n",
       "    </tr>\n",
       "    <tr>\n",
       "      <th>14</th>\n",
       "      <td>15</td>\n",
       "      <td>Genen Shouyu</td>\n",
       "      <td>15.50</td>\n",
       "      <td>2</td>\n",
       "      <td>21/12/2022</td>\n",
       "      <td>29/12/2022</td>\n",
       "      <td>2022-12-21</td>\n",
       "    </tr>\n",
       "    <tr>\n",
       "      <th>15</th>\n",
       "      <td>16</td>\n",
       "      <td>Pavlova</td>\n",
       "      <td>17.45</td>\n",
       "      <td>3</td>\n",
       "      <td>22/12/2022</td>\n",
       "      <td>30/12/2022</td>\n",
       "      <td>2022-12-22</td>\n",
       "    </tr>\n",
       "    <tr>\n",
       "      <th>16</th>\n",
       "      <td>17</td>\n",
       "      <td>Alice Mutton</td>\n",
       "      <td>39.00</td>\n",
       "      <td>6</td>\n",
       "      <td>23/12/2022</td>\n",
       "      <td>31/12/2022</td>\n",
       "      <td>2022-12-23</td>\n",
       "    </tr>\n",
       "    <tr>\n",
       "      <th>17</th>\n",
       "      <td>18</td>\n",
       "      <td>Carnarvon Tigers</td>\n",
       "      <td>62.50</td>\n",
       "      <td>8</td>\n",
       "      <td>25/12/2022</td>\n",
       "      <td>01/01/2023</td>\n",
       "      <td>2022-12-25</td>\n",
       "    </tr>\n",
       "    <tr>\n",
       "      <th>18</th>\n",
       "      <td>19</td>\n",
       "      <td>Teatime Chocolate Biscuits</td>\n",
       "      <td>9.20</td>\n",
       "      <td>3</td>\n",
       "      <td>26/12/2022</td>\n",
       "      <td>02/01/2023</td>\n",
       "      <td>2022-12-26</td>\n",
       "    </tr>\n",
       "    <tr>\n",
       "      <th>19</th>\n",
       "      <td>20</td>\n",
       "      <td>Sir Rodney's Marmalade</td>\n",
       "      <td>81.00</td>\n",
       "      <td>3</td>\n",
       "      <td>27/12/2022</td>\n",
       "      <td>03/01/2023</td>\n",
       "      <td>2022-12-27</td>\n",
       "    </tr>\n",
       "    <tr>\n",
       "      <th>20</th>\n",
       "      <td>21</td>\n",
       "      <td>Sir Rodney's Scones</td>\n",
       "      <td>10.00</td>\n",
       "      <td>3</td>\n",
       "      <td>28/12/2022</td>\n",
       "      <td>04/01/2023</td>\n",
       "      <td>2022-12-28</td>\n",
       "    </tr>\n",
       "    <tr>\n",
       "      <th>21</th>\n",
       "      <td>22</td>\n",
       "      <td>Gustaf's Knackebrad</td>\n",
       "      <td>21.00</td>\n",
       "      <td>5</td>\n",
       "      <td>29/12/2022</td>\n",
       "      <td>05/01/2023</td>\n",
       "      <td>2022-12-29</td>\n",
       "    </tr>\n",
       "    <tr>\n",
       "      <th>22</th>\n",
       "      <td>23</td>\n",
       "      <td>Tunnbrad</td>\n",
       "      <td>9.00</td>\n",
       "      <td>5</td>\n",
       "      <td>30/12/2022</td>\n",
       "      <td>06/01/2023</td>\n",
       "      <td>2022-12-30</td>\n",
       "    </tr>\n",
       "    <tr>\n",
       "      <th>23</th>\n",
       "      <td>24</td>\n",
       "      <td>Guarana Fantastica</td>\n",
       "      <td>4.50</td>\n",
       "      <td>1</td>\n",
       "      <td>01/01/2023</td>\n",
       "      <td>07/01/2023</td>\n",
       "      <td>2023-01-01</td>\n",
       "    </tr>\n",
       "    <tr>\n",
       "      <th>24</th>\n",
       "      <td>25</td>\n",
       "      <td>NuNuCa Nua-Nougat-Creme</td>\n",
       "      <td>14.00</td>\n",
       "      <td>3</td>\n",
       "      <td>02/01/2023</td>\n",
       "      <td>08/01/2023</td>\n",
       "      <td>2023-01-02</td>\n",
       "    </tr>\n",
       "    <tr>\n",
       "      <th>25</th>\n",
       "      <td>26</td>\n",
       "      <td>Gumbar Gummibarchen</td>\n",
       "      <td>31.23</td>\n",
       "      <td>3</td>\n",
       "      <td>03/01/2023</td>\n",
       "      <td>09/01/2023</td>\n",
       "      <td>2023-01-03</td>\n",
       "    </tr>\n",
       "    <tr>\n",
       "      <th>26</th>\n",
       "      <td>27</td>\n",
       "      <td>Schoggi Schokolade</td>\n",
       "      <td>43.90</td>\n",
       "      <td>3</td>\n",
       "      <td>04/01/2023</td>\n",
       "      <td>10/01/2023</td>\n",
       "      <td>2023-01-04</td>\n",
       "    </tr>\n",
       "    <tr>\n",
       "      <th>27</th>\n",
       "      <td>28</td>\n",
       "      <td>Rassle Sauerkraut</td>\n",
       "      <td>45.60</td>\n",
       "      <td>7</td>\n",
       "      <td>05/01/2023</td>\n",
       "      <td>11/01/2023</td>\n",
       "      <td>2023-01-05</td>\n",
       "    </tr>\n",
       "    <tr>\n",
       "      <th>28</th>\n",
       "      <td>29</td>\n",
       "      <td>Tharinger Rostbratwurst</td>\n",
       "      <td>123.79</td>\n",
       "      <td>6</td>\n",
       "      <td>06/01/2023</td>\n",
       "      <td>12/01/2023</td>\n",
       "      <td>2023-01-06</td>\n",
       "    </tr>\n",
       "    <tr>\n",
       "      <th>29</th>\n",
       "      <td>30</td>\n",
       "      <td>Nord-Ost Matjeshering</td>\n",
       "      <td>25.89</td>\n",
       "      <td>8</td>\n",
       "      <td>08/01/2023</td>\n",
       "      <td>13/01/2023</td>\n",
       "      <td>2023-01-08</td>\n",
       "    </tr>\n",
       "  </tbody>\n",
       "</table>\n",
       "</div>"
      ],
      "text/plain": [
       "    ProductID                      ProductName  UnitPrice  CategoryID  \\\n",
       "0           1                             Chai      18.00           1   \n",
       "1           2                            Chang      19.00           1   \n",
       "2           3                    Aniseed Syrup      10.00           2   \n",
       "3           4     Chef Anton's Cajun Seasoning      22.00           2   \n",
       "4           5           Chef Anton's Gumbo Mix      21.35           2   \n",
       "5           6     Grandma's Boysenberry Spread      25.00           2   \n",
       "6           7  Uncle Bob's Organic Dried Pears      30.00           7   \n",
       "7           8       Northwoods Cranberry Sauce      40.00           2   \n",
       "8           9                  Mishi Kobe Niku      97.00           6   \n",
       "9          10                            Ikura      31.00           8   \n",
       "10         11                   Queso Cabrales      21.00           4   \n",
       "11         12        Queso Manchego La Pastora      38.00           4   \n",
       "12         13                            Konbu       6.00           8   \n",
       "13         14                             Tofu      23.25           7   \n",
       "14         15                     Genen Shouyu      15.50           2   \n",
       "15         16                          Pavlova      17.45           3   \n",
       "16         17                     Alice Mutton      39.00           6   \n",
       "17         18                 Carnarvon Tigers      62.50           8   \n",
       "18         19       Teatime Chocolate Biscuits       9.20           3   \n",
       "19         20           Sir Rodney's Marmalade      81.00           3   \n",
       "20         21              Sir Rodney's Scones      10.00           3   \n",
       "21         22              Gustaf's Knackebrad      21.00           5   \n",
       "22         23                         Tunnbrad       9.00           5   \n",
       "23         24               Guarana Fantastica       4.50           1   \n",
       "24         25          NuNuCa Nua-Nougat-Creme      14.00           3   \n",
       "25         26              Gumbar Gummibarchen      31.23           3   \n",
       "26         27               Schoggi Schokolade      43.90           3   \n",
       "27         28                Rassle Sauerkraut      45.60           7   \n",
       "28         29          Tharinger Rostbratwurst     123.79           6   \n",
       "29         30            Nord-Ost Matjeshering      25.89           8   \n",
       "\n",
       "         Date1       Date2       Date  \n",
       "0   05/12/2022  15/12/2022 2022-12-05  \n",
       "1   06/12/2022  16/12/2022 2022-12-06  \n",
       "2   07/12/2022  17/12/2022 2022-12-07  \n",
       "3   08/12/2022  18/12/2022 2022-12-08  \n",
       "4   09/12/2022  19/12/2022 2022-12-09  \n",
       "5   11/12/2022  20/12/2022 2022-12-11  \n",
       "6   12/12/2022  21/12/2022 2022-12-12  \n",
       "7   13/12/2022  22/12/2022 2022-12-13  \n",
       "8   14/12/2022  23/12/2022 2022-12-14  \n",
       "9   15/12/2022  24/12/2022 2022-12-15  \n",
       "10  16/12/2022  25/12/2022 2022-12-16  \n",
       "11  18/12/2022  26/12/2022 2022-12-18  \n",
       "12  19/12/2022  27/12/2022 2022-12-19  \n",
       "13  20/12/2022  28/12/2022 2022-12-20  \n",
       "14  21/12/2022  29/12/2022 2022-12-21  \n",
       "15  22/12/2022  30/12/2022 2022-12-22  \n",
       "16  23/12/2022  31/12/2022 2022-12-23  \n",
       "17  25/12/2022  01/01/2023 2022-12-25  \n",
       "18  26/12/2022  02/01/2023 2022-12-26  \n",
       "19  27/12/2022  03/01/2023 2022-12-27  \n",
       "20  28/12/2022  04/01/2023 2022-12-28  \n",
       "21  29/12/2022  05/01/2023 2022-12-29  \n",
       "22  30/12/2022  06/01/2023 2022-12-30  \n",
       "23  01/01/2023  07/01/2023 2023-01-01  \n",
       "24  02/01/2023  08/01/2023 2023-01-02  \n",
       "25  03/01/2023  09/01/2023 2023-01-03  \n",
       "26  04/01/2023  10/01/2023 2023-01-04  \n",
       "27  05/01/2023  11/01/2023 2023-01-05  \n",
       "28  06/01/2023  12/01/2023 2023-01-06  \n",
       "29  08/01/2023  13/01/2023 2023-01-08  "
      ]
     },
     "execution_count": 89,
     "metadata": {},
     "output_type": "execute_result"
    }
   ],
   "source": [
    "products.head(30).sort_values(\"Date\")"
   ]
  },
  {
   "cell_type": "code",
   "execution_count": 90,
   "id": "05550e0c",
   "metadata": {},
   "outputs": [],
   "source": [
    "import datetime as dt"
   ]
  },
  {
   "cell_type": "code",
   "execution_count": 91,
   "id": "19db3cc5",
   "metadata": {},
   "outputs": [
    {
     "data": {
      "text/plain": [
       "Timestamp('2025-01-20 10:12:09.328661')"
      ]
     },
     "execution_count": 91,
     "metadata": {},
     "output_type": "execute_result"
    }
   ],
   "source": [
    "pd.Timestamp.today()"
   ]
  },
  {
   "cell_type": "code",
   "execution_count": 92,
   "id": "3d3da6e0",
   "metadata": {},
   "outputs": [
    {
     "data": {
      "text/plain": [
       "0    2022\n",
       "1    2022\n",
       "2    2022\n",
       "3    2022\n",
       "4    2022\n",
       "Name: Date, dtype: int32"
      ]
     },
     "execution_count": 92,
     "metadata": {},
     "output_type": "execute_result"
    }
   ],
   "source": [
    "products[\"Date\"].dt.year.head()"
   ]
  },
  {
   "cell_type": "code",
   "execution_count": 96,
   "id": "af0d5958-bfde-4c8f-a737-f14ce6c62a65",
   "metadata": {},
   "outputs": [
    {
     "data": {
      "text/plain": [
       "0     December\n",
       "1     December\n",
       "2     December\n",
       "3     December\n",
       "4     December\n",
       "        ...   \n",
       "72    February\n",
       "73    February\n",
       "74       March\n",
       "75       March\n",
       "76       March\n",
       "Name: Date, Length: 77, dtype: object"
      ]
     },
     "execution_count": 96,
     "metadata": {},
     "output_type": "execute_result"
    }
   ],
   "source": [
    "products[\"Date\"].dt.month_name()"
   ]
  },
  {
   "cell_type": "code",
   "execution_count": 97,
   "id": "0c329871",
   "metadata": {},
   "outputs": [
    {
     "data": {
      "text/html": [
       "<div>\n",
       "<style scoped>\n",
       "    .dataframe tbody tr th:only-of-type {\n",
       "        vertical-align: middle;\n",
       "    }\n",
       "\n",
       "    .dataframe tbody tr th {\n",
       "        vertical-align: top;\n",
       "    }\n",
       "\n",
       "    .dataframe thead th {\n",
       "        text-align: right;\n",
       "    }\n",
       "</style>\n",
       "<table border=\"1\" class=\"dataframe\">\n",
       "  <thead>\n",
       "    <tr style=\"text-align: right;\">\n",
       "      <th></th>\n",
       "      <th>ProductID</th>\n",
       "      <th>ProductName</th>\n",
       "      <th>UnitPrice</th>\n",
       "      <th>CategoryID</th>\n",
       "      <th>Date1</th>\n",
       "      <th>Date2</th>\n",
       "      <th>Date</th>\n",
       "      <th>year1</th>\n",
       "    </tr>\n",
       "  </thead>\n",
       "  <tbody>\n",
       "    <tr>\n",
       "      <th>0</th>\n",
       "      <td>1</td>\n",
       "      <td>Chai</td>\n",
       "      <td>18.00</td>\n",
       "      <td>1</td>\n",
       "      <td>05/12/2022</td>\n",
       "      <td>15/12/2022</td>\n",
       "      <td>2022-12-05</td>\n",
       "      <td>2022</td>\n",
       "    </tr>\n",
       "    <tr>\n",
       "      <th>1</th>\n",
       "      <td>2</td>\n",
       "      <td>Chang</td>\n",
       "      <td>19.00</td>\n",
       "      <td>1</td>\n",
       "      <td>06/12/2022</td>\n",
       "      <td>16/12/2022</td>\n",
       "      <td>2022-12-06</td>\n",
       "      <td>2022</td>\n",
       "    </tr>\n",
       "    <tr>\n",
       "      <th>2</th>\n",
       "      <td>3</td>\n",
       "      <td>Aniseed Syrup</td>\n",
       "      <td>10.00</td>\n",
       "      <td>2</td>\n",
       "      <td>07/12/2022</td>\n",
       "      <td>17/12/2022</td>\n",
       "      <td>2022-12-07</td>\n",
       "      <td>2022</td>\n",
       "    </tr>\n",
       "    <tr>\n",
       "      <th>3</th>\n",
       "      <td>4</td>\n",
       "      <td>Chef Anton's Cajun Seasoning</td>\n",
       "      <td>22.00</td>\n",
       "      <td>2</td>\n",
       "      <td>08/12/2022</td>\n",
       "      <td>18/12/2022</td>\n",
       "      <td>2022-12-08</td>\n",
       "      <td>2022</td>\n",
       "    </tr>\n",
       "    <tr>\n",
       "      <th>4</th>\n",
       "      <td>5</td>\n",
       "      <td>Chef Anton's Gumbo Mix</td>\n",
       "      <td>21.35</td>\n",
       "      <td>2</td>\n",
       "      <td>09/12/2022</td>\n",
       "      <td>19/12/2022</td>\n",
       "      <td>2022-12-09</td>\n",
       "      <td>2022</td>\n",
       "    </tr>\n",
       "  </tbody>\n",
       "</table>\n",
       "</div>"
      ],
      "text/plain": [
       "   ProductID                   ProductName  UnitPrice  CategoryID       Date1  \\\n",
       "0          1                          Chai      18.00           1  05/12/2022   \n",
       "1          2                         Chang      19.00           1  06/12/2022   \n",
       "2          3                 Aniseed Syrup      10.00           2  07/12/2022   \n",
       "3          4  Chef Anton's Cajun Seasoning      22.00           2  08/12/2022   \n",
       "4          5        Chef Anton's Gumbo Mix      21.35           2  09/12/2022   \n",
       "\n",
       "        Date2       Date  year1  \n",
       "0  15/12/2022 2022-12-05   2022  \n",
       "1  16/12/2022 2022-12-06   2022  \n",
       "2  17/12/2022 2022-12-07   2022  \n",
       "3  18/12/2022 2022-12-08   2022  \n",
       "4  19/12/2022 2022-12-09   2022  "
      ]
     },
     "execution_count": 97,
     "metadata": {},
     "output_type": "execute_result"
    }
   ],
   "source": [
    "products.assign(year1 =products[\"Date\"].dt.year).head()"
   ]
  },
  {
   "cell_type": "code",
   "execution_count": 98,
   "id": "5060476b-df7c-4860-8e64-fe0839c0658c",
   "metadata": {},
   "outputs": [
    {
     "data": {
      "text/html": [
       "<div>\n",
       "<style scoped>\n",
       "    .dataframe tbody tr th:only-of-type {\n",
       "        vertical-align: middle;\n",
       "    }\n",
       "\n",
       "    .dataframe tbody tr th {\n",
       "        vertical-align: top;\n",
       "    }\n",
       "\n",
       "    .dataframe thead th {\n",
       "        text-align: right;\n",
       "    }\n",
       "</style>\n",
       "<table border=\"1\" class=\"dataframe\">\n",
       "  <thead>\n",
       "    <tr style=\"text-align: right;\">\n",
       "      <th></th>\n",
       "      <th>ProductID</th>\n",
       "      <th>ProductName</th>\n",
       "      <th>UnitPrice</th>\n",
       "      <th>CategoryID</th>\n",
       "      <th>Date1</th>\n",
       "      <th>Date2</th>\n",
       "      <th>Date</th>\n",
       "    </tr>\n",
       "  </thead>\n",
       "  <tbody>\n",
       "    <tr>\n",
       "      <th>0</th>\n",
       "      <td>1</td>\n",
       "      <td>Chai</td>\n",
       "      <td>18.00</td>\n",
       "      <td>1</td>\n",
       "      <td>05/12/2022</td>\n",
       "      <td>15/12/2022</td>\n",
       "      <td>2022-12-05</td>\n",
       "    </tr>\n",
       "    <tr>\n",
       "      <th>1</th>\n",
       "      <td>2</td>\n",
       "      <td>Chang</td>\n",
       "      <td>19.00</td>\n",
       "      <td>1</td>\n",
       "      <td>06/12/2022</td>\n",
       "      <td>16/12/2022</td>\n",
       "      <td>2022-12-06</td>\n",
       "    </tr>\n",
       "    <tr>\n",
       "      <th>2</th>\n",
       "      <td>3</td>\n",
       "      <td>Aniseed Syrup</td>\n",
       "      <td>10.00</td>\n",
       "      <td>2</td>\n",
       "      <td>07/12/2022</td>\n",
       "      <td>17/12/2022</td>\n",
       "      <td>2022-12-07</td>\n",
       "    </tr>\n",
       "    <tr>\n",
       "      <th>3</th>\n",
       "      <td>4</td>\n",
       "      <td>Chef Anton's Cajun Seasoning</td>\n",
       "      <td>22.00</td>\n",
       "      <td>2</td>\n",
       "      <td>08/12/2022</td>\n",
       "      <td>18/12/2022</td>\n",
       "      <td>2022-12-08</td>\n",
       "    </tr>\n",
       "    <tr>\n",
       "      <th>4</th>\n",
       "      <td>5</td>\n",
       "      <td>Chef Anton's Gumbo Mix</td>\n",
       "      <td>21.35</td>\n",
       "      <td>2</td>\n",
       "      <td>09/12/2022</td>\n",
       "      <td>19/12/2022</td>\n",
       "      <td>2022-12-09</td>\n",
       "    </tr>\n",
       "    <tr>\n",
       "      <th>...</th>\n",
       "      <td>...</td>\n",
       "      <td>...</td>\n",
       "      <td>...</td>\n",
       "      <td>...</td>\n",
       "      <td>...</td>\n",
       "      <td>...</td>\n",
       "      <td>...</td>\n",
       "    </tr>\n",
       "    <tr>\n",
       "      <th>72</th>\n",
       "      <td>73</td>\n",
       "      <td>Rad Kaviar</td>\n",
       "      <td>15.00</td>\n",
       "      <td>8</td>\n",
       "      <td>27/02/2023</td>\n",
       "      <td>25/02/2023</td>\n",
       "      <td>2023-02-27</td>\n",
       "    </tr>\n",
       "    <tr>\n",
       "      <th>73</th>\n",
       "      <td>74</td>\n",
       "      <td>Longlife Tofu</td>\n",
       "      <td>10.00</td>\n",
       "      <td>7</td>\n",
       "      <td>28/02/2023</td>\n",
       "      <td>26/02/2023</td>\n",
       "      <td>2023-02-28</td>\n",
       "    </tr>\n",
       "    <tr>\n",
       "      <th>74</th>\n",
       "      <td>75</td>\n",
       "      <td>Rhanbrau Klosterbier</td>\n",
       "      <td>7.75</td>\n",
       "      <td>1</td>\n",
       "      <td>01/03/2023</td>\n",
       "      <td>27/02/2023</td>\n",
       "      <td>2023-03-01</td>\n",
       "    </tr>\n",
       "    <tr>\n",
       "      <th>75</th>\n",
       "      <td>76</td>\n",
       "      <td>Lakkalikaari</td>\n",
       "      <td>18.00</td>\n",
       "      <td>1</td>\n",
       "      <td>02/03/2023</td>\n",
       "      <td>28/02/2023</td>\n",
       "      <td>2023-03-02</td>\n",
       "    </tr>\n",
       "    <tr>\n",
       "      <th>76</th>\n",
       "      <td>77</td>\n",
       "      <td>Original Frankfurter grane Soae</td>\n",
       "      <td>13.00</td>\n",
       "      <td>2</td>\n",
       "      <td>03/03/2023</td>\n",
       "      <td>01/03/2023</td>\n",
       "      <td>2023-03-03</td>\n",
       "    </tr>\n",
       "  </tbody>\n",
       "</table>\n",
       "<p>77 rows × 7 columns</p>\n",
       "</div>"
      ],
      "text/plain": [
       "    ProductID                      ProductName  UnitPrice  CategoryID  \\\n",
       "0           1                             Chai      18.00           1   \n",
       "1           2                            Chang      19.00           1   \n",
       "2           3                    Aniseed Syrup      10.00           2   \n",
       "3           4     Chef Anton's Cajun Seasoning      22.00           2   \n",
       "4           5           Chef Anton's Gumbo Mix      21.35           2   \n",
       "..        ...                              ...        ...         ...   \n",
       "72         73                       Rad Kaviar      15.00           8   \n",
       "73         74                    Longlife Tofu      10.00           7   \n",
       "74         75             Rhanbrau Klosterbier       7.75           1   \n",
       "75         76                     Lakkalikaari      18.00           1   \n",
       "76         77  Original Frankfurter grane Soae      13.00           2   \n",
       "\n",
       "         Date1       Date2       Date  \n",
       "0   05/12/2022  15/12/2022 2022-12-05  \n",
       "1   06/12/2022  16/12/2022 2022-12-06  \n",
       "2   07/12/2022  17/12/2022 2022-12-07  \n",
       "3   08/12/2022  18/12/2022 2022-12-08  \n",
       "4   09/12/2022  19/12/2022 2022-12-09  \n",
       "..         ...         ...        ...  \n",
       "72  27/02/2023  25/02/2023 2023-02-27  \n",
       "73  28/02/2023  26/02/2023 2023-02-28  \n",
       "74  01/03/2023  27/02/2023 2023-03-01  \n",
       "75  02/03/2023  28/02/2023 2023-03-02  \n",
       "76  03/03/2023  01/03/2023 2023-03-03  \n",
       "\n",
       "[77 rows x 7 columns]"
      ]
     },
     "execution_count": 98,
     "metadata": {},
     "output_type": "execute_result"
    }
   ],
   "source": [
    "products"
   ]
  },
  {
   "cell_type": "code",
   "execution_count": 99,
   "id": "ea161107",
   "metadata": {},
   "outputs": [],
   "source": [
    "products[\"MM\"]=products[\"Date\"].dt.month"
   ]
  },
  {
   "cell_type": "code",
   "execution_count": 100,
   "id": "9df1a6af",
   "metadata": {},
   "outputs": [
    {
     "data": {
      "text/html": [
       "<div>\n",
       "<style scoped>\n",
       "    .dataframe tbody tr th:only-of-type {\n",
       "        vertical-align: middle;\n",
       "    }\n",
       "\n",
       "    .dataframe tbody tr th {\n",
       "        vertical-align: top;\n",
       "    }\n",
       "\n",
       "    .dataframe thead th {\n",
       "        text-align: right;\n",
       "    }\n",
       "</style>\n",
       "<table border=\"1\" class=\"dataframe\">\n",
       "  <thead>\n",
       "    <tr style=\"text-align: right;\">\n",
       "      <th></th>\n",
       "      <th>ProductID</th>\n",
       "      <th>ProductName</th>\n",
       "      <th>UnitPrice</th>\n",
       "      <th>CategoryID</th>\n",
       "      <th>Date1</th>\n",
       "      <th>Date2</th>\n",
       "      <th>Date</th>\n",
       "      <th>MM</th>\n",
       "    </tr>\n",
       "  </thead>\n",
       "  <tbody>\n",
       "    <tr>\n",
       "      <th>0</th>\n",
       "      <td>1</td>\n",
       "      <td>Chai</td>\n",
       "      <td>18.00</td>\n",
       "      <td>1</td>\n",
       "      <td>05/12/2022</td>\n",
       "      <td>15/12/2022</td>\n",
       "      <td>2022-12-05</td>\n",
       "      <td>12</td>\n",
       "    </tr>\n",
       "    <tr>\n",
       "      <th>1</th>\n",
       "      <td>2</td>\n",
       "      <td>Chang</td>\n",
       "      <td>19.00</td>\n",
       "      <td>1</td>\n",
       "      <td>06/12/2022</td>\n",
       "      <td>16/12/2022</td>\n",
       "      <td>2022-12-06</td>\n",
       "      <td>12</td>\n",
       "    </tr>\n",
       "    <tr>\n",
       "      <th>2</th>\n",
       "      <td>3</td>\n",
       "      <td>Aniseed Syrup</td>\n",
       "      <td>10.00</td>\n",
       "      <td>2</td>\n",
       "      <td>07/12/2022</td>\n",
       "      <td>17/12/2022</td>\n",
       "      <td>2022-12-07</td>\n",
       "      <td>12</td>\n",
       "    </tr>\n",
       "    <tr>\n",
       "      <th>3</th>\n",
       "      <td>4</td>\n",
       "      <td>Chef Anton's Cajun Seasoning</td>\n",
       "      <td>22.00</td>\n",
       "      <td>2</td>\n",
       "      <td>08/12/2022</td>\n",
       "      <td>18/12/2022</td>\n",
       "      <td>2022-12-08</td>\n",
       "      <td>12</td>\n",
       "    </tr>\n",
       "    <tr>\n",
       "      <th>4</th>\n",
       "      <td>5</td>\n",
       "      <td>Chef Anton's Gumbo Mix</td>\n",
       "      <td>21.35</td>\n",
       "      <td>2</td>\n",
       "      <td>09/12/2022</td>\n",
       "      <td>19/12/2022</td>\n",
       "      <td>2022-12-09</td>\n",
       "      <td>12</td>\n",
       "    </tr>\n",
       "  </tbody>\n",
       "</table>\n",
       "</div>"
      ],
      "text/plain": [
       "   ProductID                   ProductName  UnitPrice  CategoryID       Date1  \\\n",
       "0          1                          Chai      18.00           1  05/12/2022   \n",
       "1          2                         Chang      19.00           1  06/12/2022   \n",
       "2          3                 Aniseed Syrup      10.00           2  07/12/2022   \n",
       "3          4  Chef Anton's Cajun Seasoning      22.00           2  08/12/2022   \n",
       "4          5        Chef Anton's Gumbo Mix      21.35           2  09/12/2022   \n",
       "\n",
       "        Date2       Date  MM  \n",
       "0  15/12/2022 2022-12-05  12  \n",
       "1  16/12/2022 2022-12-06  12  \n",
       "2  17/12/2022 2022-12-07  12  \n",
       "3  18/12/2022 2022-12-08  12  \n",
       "4  19/12/2022 2022-12-09  12  "
      ]
     },
     "execution_count": 100,
     "metadata": {},
     "output_type": "execute_result"
    }
   ],
   "source": [
    "products.head()"
   ]
  },
  {
   "cell_type": "code",
   "execution_count": 101,
   "id": "d453c8f0",
   "metadata": {},
   "outputs": [
    {
     "data": {
      "text/plain": [
       "0    5\n",
       "1    6\n",
       "2    7\n",
       "3    8\n",
       "4    9\n",
       "Name: Date, dtype: int32"
      ]
     },
     "execution_count": 101,
     "metadata": {},
     "output_type": "execute_result"
    }
   ],
   "source": [
    "products[\"Date\"].dt.day.head()"
   ]
  },
  {
   "cell_type": "code",
   "execution_count": 106,
   "id": "35b4e25c-bb17-42cb-94c3-0dd05d343514",
   "metadata": {},
   "outputs": [
    {
     "data": {
      "text/plain": [
       "0        Monday\n",
       "1       Tuesday\n",
       "2     Wednesday\n",
       "3      Thursday\n",
       "4        Friday\n",
       "        ...    \n",
       "72       Monday\n",
       "73      Tuesday\n",
       "74    Wednesday\n",
       "75     Thursday\n",
       "76       Friday\n",
       "Name: Date, Length: 77, dtype: object"
      ]
     },
     "execution_count": 106,
     "metadata": {},
     "output_type": "execute_result"
    }
   ],
   "source": [
    "products[\"Date\"].dt.day_name()"
   ]
  },
  {
   "cell_type": "code",
   "execution_count": 107,
   "id": "91b16ec5",
   "metadata": {},
   "outputs": [
    {
     "data": {
      "text/plain": [
       "0    777 days 10:19:25.537797\n",
       "1    776 days 10:19:25.537797\n",
       "2    775 days 10:19:25.537797\n",
       "3    774 days 10:19:25.537797\n",
       "4    773 days 10:19:25.537797\n",
       "               ...           \n",
       "72   693 days 10:19:25.537797\n",
       "73   692 days 10:19:25.537797\n",
       "74   691 days 10:19:25.537797\n",
       "75   690 days 10:19:25.537797\n",
       "76   689 days 10:19:25.537797\n",
       "Name: Date, Length: 77, dtype: timedelta64[ns]"
      ]
     },
     "execution_count": 107,
     "metadata": {},
     "output_type": "execute_result"
    }
   ],
   "source": [
    "pd.Timestamp.today() -products[\"Date\"]  #.head()"
   ]
  },
  {
   "cell_type": "code",
   "execution_count": 112,
   "id": "b1d174b5-6755-4ab4-ae9c-3a842fe79e48",
   "metadata": {},
   "outputs": [
    {
     "data": {
      "text/plain": [
       "0    64 days 18:51:51.705529833\n",
       "1    64 days 16:51:51.705529833\n",
       "2    64 days 14:51:51.705529833\n",
       "3    64 days 12:51:51.705529833\n",
       "4    64 days 10:51:51.705529833\n",
       "                ...            \n",
       "72   57 days 18:51:51.705529833\n",
       "73   57 days 16:51:51.705529833\n",
       "74   57 days 14:51:51.705529833\n",
       "75   57 days 12:51:51.705529833\n",
       "76   57 days 10:51:51.705529833\n",
       "Name: Date, Length: 77, dtype: timedelta64[ns]"
      ]
     },
     "execution_count": 112,
     "metadata": {},
     "output_type": "execute_result"
    }
   ],
   "source": [
    "(pd.Timestamp.today() -products[\"Date\"] )/12"
   ]
  },
  {
   "cell_type": "code",
   "execution_count": 124,
   "id": "2c610302-75ea-4e56-b91a-5013eb2576f3",
   "metadata": {},
   "outputs": [
    {
     "data": {
      "text/plain": [
       "0     64.8\n",
       "1     64.7\n",
       "2     64.6\n",
       "3     64.5\n",
       "4     64.4\n",
       "      ... \n",
       "72    57.8\n",
       "73    57.7\n",
       "74    57.6\n",
       "75    57.5\n",
       "76    57.4\n",
       "Name: Date, Length: 77, dtype: float64"
      ]
     },
     "execution_count": 124,
     "metadata": {},
     "output_type": "execute_result"
    }
   ],
   "source": [
    "((pd.Timestamp.today() -products[\"Date\"] ).dt.days/12).round(1)"
   ]
  },
  {
   "cell_type": "code",
   "execution_count": 113,
   "id": "217342b4",
   "metadata": {},
   "outputs": [],
   "source": [
    "orders = pd.read_excel(\"data/orders.xlsx\")"
   ]
  },
  {
   "cell_type": "code",
   "execution_count": 114,
   "id": "11f5bac4",
   "metadata": {},
   "outputs": [
    {
     "data": {
      "text/html": [
       "<div>\n",
       "<style scoped>\n",
       "    .dataframe tbody tr th:only-of-type {\n",
       "        vertical-align: middle;\n",
       "    }\n",
       "\n",
       "    .dataframe tbody tr th {\n",
       "        vertical-align: top;\n",
       "    }\n",
       "\n",
       "    .dataframe thead th {\n",
       "        text-align: right;\n",
       "    }\n",
       "</style>\n",
       "<table border=\"1\" class=\"dataframe\">\n",
       "  <thead>\n",
       "    <tr style=\"text-align: right;\">\n",
       "      <th></th>\n",
       "      <th>OrderID</th>\n",
       "      <th>CustomerID</th>\n",
       "      <th>EmployeeID</th>\n",
       "      <th>OrderDate</th>\n",
       "      <th>RequiredDate</th>\n",
       "      <th>ShippedDate</th>\n",
       "      <th>ShipVia</th>\n",
       "      <th>Freight</th>\n",
       "      <th>ShipName</th>\n",
       "      <th>ShipAddress</th>\n",
       "      <th>ShipCity</th>\n",
       "      <th>ShipRegion</th>\n",
       "      <th>ShipPostalCode</th>\n",
       "      <th>ShipCountry</th>\n",
       "    </tr>\n",
       "  </thead>\n",
       "  <tbody>\n",
       "    <tr>\n",
       "      <th>0</th>\n",
       "      <td>10248</td>\n",
       "      <td>VINET</td>\n",
       "      <td>5</td>\n",
       "      <td>1996-07-04</td>\n",
       "      <td>1996-08-01</td>\n",
       "      <td>1996-07-16</td>\n",
       "      <td>3</td>\n",
       "      <td>32.38</td>\n",
       "      <td>Vins et alcools Chevalier</td>\n",
       "      <td>59 rue de l'Abbaye</td>\n",
       "      <td>Reims</td>\n",
       "      <td>NaN</td>\n",
       "      <td>51100</td>\n",
       "      <td>France</td>\n",
       "    </tr>\n",
       "    <tr>\n",
       "      <th>1</th>\n",
       "      <td>10249</td>\n",
       "      <td>TOMSP</td>\n",
       "      <td>6</td>\n",
       "      <td>1996-07-05</td>\n",
       "      <td>1996-08-16</td>\n",
       "      <td>1996-07-10</td>\n",
       "      <td>1</td>\n",
       "      <td>11.61</td>\n",
       "      <td>Toms Spezialitäten</td>\n",
       "      <td>Luisenstr. 48</td>\n",
       "      <td>Münster</td>\n",
       "      <td>NaN</td>\n",
       "      <td>44087</td>\n",
       "      <td>Germany</td>\n",
       "    </tr>\n",
       "    <tr>\n",
       "      <th>2</th>\n",
       "      <td>10250</td>\n",
       "      <td>HANAR</td>\n",
       "      <td>4</td>\n",
       "      <td>1996-07-08</td>\n",
       "      <td>1996-08-05</td>\n",
       "      <td>1996-07-12</td>\n",
       "      <td>2</td>\n",
       "      <td>65.83</td>\n",
       "      <td>Hanari Carnes</td>\n",
       "      <td>Rua do Paço, 67</td>\n",
       "      <td>Rio de Janeiro</td>\n",
       "      <td>RJ</td>\n",
       "      <td>05454-876</td>\n",
       "      <td>Brazil</td>\n",
       "    </tr>\n",
       "    <tr>\n",
       "      <th>3</th>\n",
       "      <td>10251</td>\n",
       "      <td>VICTE</td>\n",
       "      <td>3</td>\n",
       "      <td>1996-07-08</td>\n",
       "      <td>1996-08-05</td>\n",
       "      <td>1996-07-15</td>\n",
       "      <td>1</td>\n",
       "      <td>41.34</td>\n",
       "      <td>Victuailles en stock</td>\n",
       "      <td>2, rue du Commerce</td>\n",
       "      <td>Lyon</td>\n",
       "      <td>NaN</td>\n",
       "      <td>69004</td>\n",
       "      <td>France</td>\n",
       "    </tr>\n",
       "    <tr>\n",
       "      <th>4</th>\n",
       "      <td>10252</td>\n",
       "      <td>SUPRD</td>\n",
       "      <td>4</td>\n",
       "      <td>1996-07-09</td>\n",
       "      <td>1996-08-06</td>\n",
       "      <td>1996-07-11</td>\n",
       "      <td>2</td>\n",
       "      <td>51.30</td>\n",
       "      <td>Suprêmes délices</td>\n",
       "      <td>Boulevard Tirou, 255</td>\n",
       "      <td>Charleroi</td>\n",
       "      <td>NaN</td>\n",
       "      <td>B-6000</td>\n",
       "      <td>Belgium</td>\n",
       "    </tr>\n",
       "  </tbody>\n",
       "</table>\n",
       "</div>"
      ],
      "text/plain": [
       "   OrderID CustomerID  EmployeeID  OrderDate RequiredDate ShippedDate  \\\n",
       "0    10248      VINET           5 1996-07-04   1996-08-01  1996-07-16   \n",
       "1    10249      TOMSP           6 1996-07-05   1996-08-16  1996-07-10   \n",
       "2    10250      HANAR           4 1996-07-08   1996-08-05  1996-07-12   \n",
       "3    10251      VICTE           3 1996-07-08   1996-08-05  1996-07-15   \n",
       "4    10252      SUPRD           4 1996-07-09   1996-08-06  1996-07-11   \n",
       "\n",
       "   ShipVia  Freight                   ShipName           ShipAddress  \\\n",
       "0        3    32.38  Vins et alcools Chevalier    59 rue de l'Abbaye   \n",
       "1        1    11.61         Toms Spezialitäten         Luisenstr. 48   \n",
       "2        2    65.83              Hanari Carnes       Rua do Paço, 67   \n",
       "3        1    41.34       Victuailles en stock    2, rue du Commerce   \n",
       "4        2    51.30           Suprêmes délices  Boulevard Tirou, 255   \n",
       "\n",
       "         ShipCity ShipRegion ShipPostalCode ShipCountry  \n",
       "0           Reims        NaN          51100      France  \n",
       "1         Münster        NaN          44087     Germany  \n",
       "2  Rio de Janeiro         RJ      05454-876      Brazil  \n",
       "3            Lyon        NaN          69004      France  \n",
       "4       Charleroi        NaN         B-6000     Belgium  "
      ]
     },
     "execution_count": 114,
     "metadata": {},
     "output_type": "execute_result"
    }
   ],
   "source": [
    "orders.head()"
   ]
  },
  {
   "cell_type": "code",
   "execution_count": 115,
   "id": "bc551417",
   "metadata": {},
   "outputs": [
    {
     "name": "stdout",
     "output_type": "stream",
     "text": [
      "<class 'pandas.core.frame.DataFrame'>\n",
      "RangeIndex: 830 entries, 0 to 829\n",
      "Data columns (total 14 columns):\n",
      " #   Column          Non-Null Count  Dtype         \n",
      "---  ------          --------------  -----         \n",
      " 0   OrderID         830 non-null    int64         \n",
      " 1   CustomerID      830 non-null    object        \n",
      " 2   EmployeeID      830 non-null    int64         \n",
      " 3   OrderDate       830 non-null    datetime64[ns]\n",
      " 4   RequiredDate    830 non-null    datetime64[ns]\n",
      " 5   ShippedDate     809 non-null    datetime64[ns]\n",
      " 6   ShipVia         830 non-null    int64         \n",
      " 7   Freight         830 non-null    float64       \n",
      " 8   ShipName        830 non-null    object        \n",
      " 9   ShipAddress     830 non-null    object        \n",
      " 10  ShipCity        830 non-null    object        \n",
      " 11  ShipRegion      323 non-null    object        \n",
      " 12  ShipPostalCode  811 non-null    object        \n",
      " 13  ShipCountry     830 non-null    object        \n",
      "dtypes: datetime64[ns](3), float64(1), int64(3), object(7)\n",
      "memory usage: 90.9+ KB\n"
     ]
    }
   ],
   "source": [
    "orders.info()"
   ]
  },
  {
   "cell_type": "code",
   "execution_count": 116,
   "id": "cab86f9d",
   "metadata": {},
   "outputs": [],
   "source": [
    "timedelta_day=pd.Timestamp.today() -orders[\"OrderDate\"]"
   ]
  },
  {
   "cell_type": "code",
   "execution_count": null,
   "id": "84b6daad-1a32-4daf-b7b2-479dac097626",
   "metadata": {},
   "outputs": [],
   "source": [
    "timedelta_day"
   ]
  },
  {
   "cell_type": "code",
   "execution_count": 119,
   "id": "7ead8776",
   "metadata": {},
   "outputs": [
    {
     "data": {
      "text/plain": [
       "0      28.567123\n",
       "1      28.564384\n",
       "2      28.556164\n",
       "3      28.556164\n",
       "4      28.553425\n",
       "         ...    \n",
       "825    26.731507\n",
       "826    26.728767\n",
       "827    26.728767\n",
       "828    26.728767\n",
       "829    26.728767\n",
       "Name: OrderDate, Length: 830, dtype: float64"
      ]
     },
     "execution_count": 119,
     "metadata": {},
     "output_type": "execute_result"
    }
   ],
   "source": [
    "timedelta_day.dt.days/365"
   ]
  },
  {
   "cell_type": "code",
   "execution_count": 126,
   "id": "8b53afd8-4f24-40cb-ae9a-2be802e2d2e6",
   "metadata": {},
   "outputs": [],
   "source": [
    "emp=pd.read_table('data/employee.txt')"
   ]
  },
  {
   "cell_type": "code",
   "execution_count": 127,
   "id": "6d505237-1217-45ae-87c0-b5e8785c9d5c",
   "metadata": {},
   "outputs": [
    {
     "name": "stdout",
     "output_type": "stream",
     "text": [
      "<class 'pandas.core.frame.DataFrame'>\n",
      "RangeIndex: 290 entries, 0 to 289\n",
      "Data columns (total 4 columns):\n",
      " #   Column            Non-Null Count  Dtype \n",
      "---  ------            --------------  ----- \n",
      " 0   BusinessEntityID  290 non-null    int64 \n",
      " 1   FirstName         290 non-null    object\n",
      " 2   LastName          290 non-null    object\n",
      " 3   HireDate          290 non-null    object\n",
      "dtypes: int64(1), object(3)\n",
      "memory usage: 9.2+ KB\n"
     ]
    }
   ],
   "source": [
    "emp.info()"
   ]
  },
  {
   "cell_type": "markdown",
   "id": "31dfe1d3",
   "metadata": {},
   "source": [
    "# Convert Functions\n"
   ]
  },
  {
   "cell_type": "code",
   "execution_count": 153,
   "id": "0b0472cb-971a-4a63-99d2-b46d0102ff73",
   "metadata": {},
   "outputs": [],
   "source": [
    "#conver str to number"
   ]
  },
  {
   "cell_type": "code",
   "execution_count": 128,
   "id": "a9503704",
   "metadata": {},
   "outputs": [
    {
     "data": {
      "text/plain": [
       "str"
      ]
     },
     "execution_count": 128,
     "metadata": {},
     "output_type": "execute_result"
    }
   ],
   "source": [
    "num_s = '$1345.9'\n",
    "type(num_s)"
   ]
  },
  {
   "cell_type": "code",
   "execution_count": 131,
   "id": "25fe2a5b-e8b1-415d-9bed-cc8c17a6104b",
   "metadata": {},
   "outputs": [
    {
     "data": {
      "text/plain": [
       "np.float64(54554.32)"
      ]
     },
     "execution_count": 131,
     "metadata": {},
     "output_type": "execute_result"
    }
   ],
   "source": [
    "pd.to_numeric('54554.32')"
   ]
  },
  {
   "cell_type": "code",
   "execution_count": 129,
   "id": "70a3981c-9670-4774-94c9-34b3314dce04",
   "metadata": {},
   "outputs": [
    {
     "ename": "ValueError",
     "evalue": "Unable to parse string \"$1345.9\" at position 0",
     "output_type": "error",
     "traceback": [
      "\u001b[1;31m---------------------------------------------------------------------------\u001b[0m",
      "\u001b[1;31mValueError\u001b[0m                                Traceback (most recent call last)",
      "File \u001b[1;32mlib.pyx:2391\u001b[0m, in \u001b[0;36mpandas._libs.lib.maybe_convert_numeric\u001b[1;34m()\u001b[0m\n",
      "\u001b[1;31mValueError\u001b[0m: Unable to parse string \"$1345.9\"",
      "\nDuring handling of the above exception, another exception occurred:\n",
      "\u001b[1;31mValueError\u001b[0m                                Traceback (most recent call last)",
      "Cell \u001b[1;32mIn[129], line 1\u001b[0m\n\u001b[1;32m----> 1\u001b[0m \u001b[43mpd\u001b[49m\u001b[38;5;241;43m.\u001b[39;49m\u001b[43mto_numeric\u001b[49m\u001b[43m(\u001b[49m\u001b[43mnum_s\u001b[49m\u001b[43m)\u001b[49m\n",
      "File \u001b[1;32mC:\\Python\\Python312\\Lib\\site-packages\\pandas\\core\\tools\\numeric.py:232\u001b[0m, in \u001b[0;36mto_numeric\u001b[1;34m(arg, errors, downcast, dtype_backend)\u001b[0m\n\u001b[0;32m    230\u001b[0m coerce_numeric \u001b[38;5;241m=\u001b[39m errors \u001b[38;5;129;01mnot\u001b[39;00m \u001b[38;5;129;01min\u001b[39;00m (\u001b[38;5;124m\"\u001b[39m\u001b[38;5;124mignore\u001b[39m\u001b[38;5;124m\"\u001b[39m, \u001b[38;5;124m\"\u001b[39m\u001b[38;5;124mraise\u001b[39m\u001b[38;5;124m\"\u001b[39m)\n\u001b[0;32m    231\u001b[0m \u001b[38;5;28;01mtry\u001b[39;00m:\n\u001b[1;32m--> 232\u001b[0m     values, new_mask \u001b[38;5;241m=\u001b[39m \u001b[43mlib\u001b[49m\u001b[38;5;241;43m.\u001b[39;49m\u001b[43mmaybe_convert_numeric\u001b[49m\u001b[43m(\u001b[49m\u001b[43m  \u001b[49m\u001b[38;5;66;43;03m# type: ignore[call-overload]\u001b[39;49;00m\n\u001b[0;32m    233\u001b[0m \u001b[43m        \u001b[49m\u001b[43mvalues\u001b[49m\u001b[43m,\u001b[49m\n\u001b[0;32m    234\u001b[0m \u001b[43m        \u001b[49m\u001b[38;5;28;43mset\u001b[39;49m\u001b[43m(\u001b[49m\u001b[43m)\u001b[49m\u001b[43m,\u001b[49m\n\u001b[0;32m    235\u001b[0m \u001b[43m        \u001b[49m\u001b[43mcoerce_numeric\u001b[49m\u001b[38;5;241;43m=\u001b[39;49m\u001b[43mcoerce_numeric\u001b[49m\u001b[43m,\u001b[49m\n\u001b[0;32m    236\u001b[0m \u001b[43m        \u001b[49m\u001b[43mconvert_to_masked_nullable\u001b[49m\u001b[38;5;241;43m=\u001b[39;49m\u001b[43mdtype_backend\u001b[49m\u001b[43m \u001b[49m\u001b[38;5;129;43;01mis\u001b[39;49;00m\u001b[43m \u001b[49m\u001b[38;5;129;43;01mnot\u001b[39;49;00m\u001b[43m \u001b[49m\u001b[43mlib\u001b[49m\u001b[38;5;241;43m.\u001b[39;49m\u001b[43mno_default\u001b[49m\n\u001b[0;32m    237\u001b[0m \u001b[43m        \u001b[49m\u001b[38;5;129;43;01mor\u001b[39;49;00m\u001b[43m \u001b[49m\u001b[38;5;28;43misinstance\u001b[39;49m\u001b[43m(\u001b[49m\u001b[43mvalues_dtype\u001b[49m\u001b[43m,\u001b[49m\u001b[43m \u001b[49m\u001b[43mStringDtype\u001b[49m\u001b[43m)\u001b[49m\n\u001b[0;32m    238\u001b[0m \u001b[43m        \u001b[49m\u001b[38;5;129;43;01mand\u001b[39;49;00m\u001b[43m \u001b[49m\u001b[38;5;129;43;01mnot\u001b[39;49;00m\u001b[43m \u001b[49m\u001b[43mvalues_dtype\u001b[49m\u001b[38;5;241;43m.\u001b[39;49m\u001b[43mstorage\u001b[49m\u001b[43m \u001b[49m\u001b[38;5;241;43m==\u001b[39;49m\u001b[43m \u001b[49m\u001b[38;5;124;43m\"\u001b[39;49m\u001b[38;5;124;43mpyarrow_numpy\u001b[39;49m\u001b[38;5;124;43m\"\u001b[39;49m\u001b[43m,\u001b[49m\n\u001b[0;32m    239\u001b[0m \u001b[43m    \u001b[49m\u001b[43m)\u001b[49m\n\u001b[0;32m    240\u001b[0m \u001b[38;5;28;01mexcept\u001b[39;00m (\u001b[38;5;167;01mValueError\u001b[39;00m, \u001b[38;5;167;01mTypeError\u001b[39;00m):\n\u001b[0;32m    241\u001b[0m     \u001b[38;5;28;01mif\u001b[39;00m errors \u001b[38;5;241m==\u001b[39m \u001b[38;5;124m\"\u001b[39m\u001b[38;5;124mraise\u001b[39m\u001b[38;5;124m\"\u001b[39m:\n",
      "File \u001b[1;32mlib.pyx:2433\u001b[0m, in \u001b[0;36mpandas._libs.lib.maybe_convert_numeric\u001b[1;34m()\u001b[0m\n",
      "\u001b[1;31mValueError\u001b[0m: Unable to parse string \"$1345.9\" at position 0"
     ]
    }
   ],
   "source": [
    "pd.to_numeric(num_s)"
   ]
  },
  {
   "cell_type": "code",
   "execution_count": 132,
   "id": "46646198",
   "metadata": {},
   "outputs": [
    {
     "name": "stdout",
     "output_type": "stream",
     "text": [
      "1345.9\n"
     ]
    },
    {
     "data": {
      "text/plain": [
       "str"
      ]
     },
     "execution_count": 132,
     "metadata": {},
     "output_type": "execute_result"
    }
   ],
   "source": [
    "num = num_s.replace('$','')\n",
    "print(num)\n",
    "type(num)"
   ]
  },
  {
   "cell_type": "code",
   "execution_count": 133,
   "id": "4c43ac7e",
   "metadata": {},
   "outputs": [],
   "source": [
    "num1 =pd.to_numeric(num)"
   ]
  },
  {
   "cell_type": "code",
   "execution_count": 134,
   "id": "330a7da5",
   "metadata": {},
   "outputs": [
    {
     "data": {
      "text/plain": [
       "numpy.float64"
      ]
     },
     "execution_count": 134,
     "metadata": {},
     "output_type": "execute_result"
    }
   ],
   "source": [
    "type(num1)"
   ]
  },
  {
   "cell_type": "code",
   "execution_count": 135,
   "id": "c03bf846",
   "metadata": {},
   "outputs": [
    {
     "data": {
      "text/plain": [
       "str"
      ]
     },
     "execution_count": 135,
     "metadata": {},
     "output_type": "execute_result"
    }
   ],
   "source": [
    "type(num)"
   ]
  },
  {
   "cell_type": "code",
   "execution_count": 136,
   "id": "29fcb263",
   "metadata": {},
   "outputs": [],
   "source": [
    "num2=pd.to_numeric(num1)"
   ]
  },
  {
   "cell_type": "code",
   "execution_count": 137,
   "id": "c0f76190",
   "metadata": {},
   "outputs": [
    {
     "name": "stdout",
     "output_type": "stream",
     "text": [
      "1345.9\n"
     ]
    }
   ],
   "source": [
    "print(num2)"
   ]
  },
  {
   "cell_type": "code",
   "execution_count": 138,
   "id": "1287bddf",
   "metadata": {},
   "outputs": [
    {
     "data": {
      "text/plain": [
       "numpy.float64"
      ]
     },
     "execution_count": 138,
     "metadata": {},
     "output_type": "execute_result"
    }
   ],
   "source": [
    "type(num2)"
   ]
  },
  {
   "cell_type": "code",
   "execution_count": 139,
   "id": "358959bc",
   "metadata": {},
   "outputs": [],
   "source": [
    "n1='1,450'"
   ]
  },
  {
   "cell_type": "code",
   "execution_count": 140,
   "id": "b0dcaac8",
   "metadata": {},
   "outputs": [
    {
     "data": {
      "text/plain": [
       "str"
      ]
     },
     "execution_count": 140,
     "metadata": {},
     "output_type": "execute_result"
    }
   ],
   "source": [
    "type(n1)"
   ]
  },
  {
   "cell_type": "code",
   "execution_count": 141,
   "id": "3c433e93",
   "metadata": {},
   "outputs": [
    {
     "ename": "ValueError",
     "evalue": "Unable to parse string \"1,450\" at position 0",
     "output_type": "error",
     "traceback": [
      "\u001b[1;31m---------------------------------------------------------------------------\u001b[0m",
      "\u001b[1;31mValueError\u001b[0m                                Traceback (most recent call last)",
      "File \u001b[1;32mlib.pyx:2391\u001b[0m, in \u001b[0;36mpandas._libs.lib.maybe_convert_numeric\u001b[1;34m()\u001b[0m\n",
      "\u001b[1;31mValueError\u001b[0m: Unable to parse string \"1,450\"",
      "\nDuring handling of the above exception, another exception occurred:\n",
      "\u001b[1;31mValueError\u001b[0m                                Traceback (most recent call last)",
      "Cell \u001b[1;32mIn[141], line 1\u001b[0m\n\u001b[1;32m----> 1\u001b[0m n1\u001b[38;5;241m=\u001b[39m\u001b[43mpd\u001b[49m\u001b[38;5;241;43m.\u001b[39;49m\u001b[43mto_numeric\u001b[49m\u001b[43m(\u001b[49m\u001b[43mn1\u001b[49m\u001b[43m)\u001b[49m\n",
      "File \u001b[1;32mC:\\Python\\Python312\\Lib\\site-packages\\pandas\\core\\tools\\numeric.py:232\u001b[0m, in \u001b[0;36mto_numeric\u001b[1;34m(arg, errors, downcast, dtype_backend)\u001b[0m\n\u001b[0;32m    230\u001b[0m coerce_numeric \u001b[38;5;241m=\u001b[39m errors \u001b[38;5;129;01mnot\u001b[39;00m \u001b[38;5;129;01min\u001b[39;00m (\u001b[38;5;124m\"\u001b[39m\u001b[38;5;124mignore\u001b[39m\u001b[38;5;124m\"\u001b[39m, \u001b[38;5;124m\"\u001b[39m\u001b[38;5;124mraise\u001b[39m\u001b[38;5;124m\"\u001b[39m)\n\u001b[0;32m    231\u001b[0m \u001b[38;5;28;01mtry\u001b[39;00m:\n\u001b[1;32m--> 232\u001b[0m     values, new_mask \u001b[38;5;241m=\u001b[39m \u001b[43mlib\u001b[49m\u001b[38;5;241;43m.\u001b[39;49m\u001b[43mmaybe_convert_numeric\u001b[49m\u001b[43m(\u001b[49m\u001b[43m  \u001b[49m\u001b[38;5;66;43;03m# type: ignore[call-overload]\u001b[39;49;00m\n\u001b[0;32m    233\u001b[0m \u001b[43m        \u001b[49m\u001b[43mvalues\u001b[49m\u001b[43m,\u001b[49m\n\u001b[0;32m    234\u001b[0m \u001b[43m        \u001b[49m\u001b[38;5;28;43mset\u001b[39;49m\u001b[43m(\u001b[49m\u001b[43m)\u001b[49m\u001b[43m,\u001b[49m\n\u001b[0;32m    235\u001b[0m \u001b[43m        \u001b[49m\u001b[43mcoerce_numeric\u001b[49m\u001b[38;5;241;43m=\u001b[39;49m\u001b[43mcoerce_numeric\u001b[49m\u001b[43m,\u001b[49m\n\u001b[0;32m    236\u001b[0m \u001b[43m        \u001b[49m\u001b[43mconvert_to_masked_nullable\u001b[49m\u001b[38;5;241;43m=\u001b[39;49m\u001b[43mdtype_backend\u001b[49m\u001b[43m \u001b[49m\u001b[38;5;129;43;01mis\u001b[39;49;00m\u001b[43m \u001b[49m\u001b[38;5;129;43;01mnot\u001b[39;49;00m\u001b[43m \u001b[49m\u001b[43mlib\u001b[49m\u001b[38;5;241;43m.\u001b[39;49m\u001b[43mno_default\u001b[49m\n\u001b[0;32m    237\u001b[0m \u001b[43m        \u001b[49m\u001b[38;5;129;43;01mor\u001b[39;49;00m\u001b[43m \u001b[49m\u001b[38;5;28;43misinstance\u001b[39;49m\u001b[43m(\u001b[49m\u001b[43mvalues_dtype\u001b[49m\u001b[43m,\u001b[49m\u001b[43m \u001b[49m\u001b[43mStringDtype\u001b[49m\u001b[43m)\u001b[49m\n\u001b[0;32m    238\u001b[0m \u001b[43m        \u001b[49m\u001b[38;5;129;43;01mand\u001b[39;49;00m\u001b[43m \u001b[49m\u001b[38;5;129;43;01mnot\u001b[39;49;00m\u001b[43m \u001b[49m\u001b[43mvalues_dtype\u001b[49m\u001b[38;5;241;43m.\u001b[39;49m\u001b[43mstorage\u001b[49m\u001b[43m \u001b[49m\u001b[38;5;241;43m==\u001b[39;49m\u001b[43m \u001b[49m\u001b[38;5;124;43m\"\u001b[39;49m\u001b[38;5;124;43mpyarrow_numpy\u001b[39;49m\u001b[38;5;124;43m\"\u001b[39;49m\u001b[43m,\u001b[49m\n\u001b[0;32m    239\u001b[0m \u001b[43m    \u001b[49m\u001b[43m)\u001b[49m\n\u001b[0;32m    240\u001b[0m \u001b[38;5;28;01mexcept\u001b[39;00m (\u001b[38;5;167;01mValueError\u001b[39;00m, \u001b[38;5;167;01mTypeError\u001b[39;00m):\n\u001b[0;32m    241\u001b[0m     \u001b[38;5;28;01mif\u001b[39;00m errors \u001b[38;5;241m==\u001b[39m \u001b[38;5;124m\"\u001b[39m\u001b[38;5;124mraise\u001b[39m\u001b[38;5;124m\"\u001b[39m:\n",
      "File \u001b[1;32mlib.pyx:2433\u001b[0m, in \u001b[0;36mpandas._libs.lib.maybe_convert_numeric\u001b[1;34m()\u001b[0m\n",
      "\u001b[1;31mValueError\u001b[0m: Unable to parse string \"1,450\" at position 0"
     ]
    }
   ],
   "source": [
    "n1=pd.to_numeric(n1)"
   ]
  },
  {
   "cell_type": "code",
   "execution_count": 142,
   "id": "7734011b",
   "metadata": {},
   "outputs": [
    {
     "data": {
      "text/plain": [
       "str"
      ]
     },
     "execution_count": 142,
     "metadata": {},
     "output_type": "execute_result"
    }
   ],
   "source": [
    "type(n1)"
   ]
  },
  {
   "cell_type": "code",
   "execution_count": 146,
   "id": "62e46e32-a2a4-4666-b0ba-49671b0407cc",
   "metadata": {},
   "outputs": [
    {
     "ename": "ValueError",
     "evalue": "Unable to parse string \"1,450\" at position 0",
     "output_type": "error",
     "traceback": [
      "\u001b[1;31m---------------------------------------------------------------------------\u001b[0m",
      "\u001b[1;31mValueError\u001b[0m                                Traceback (most recent call last)",
      "File \u001b[1;32mlib.pyx:2391\u001b[0m, in \u001b[0;36mpandas._libs.lib.maybe_convert_numeric\u001b[1;34m()\u001b[0m\n",
      "\u001b[1;31mValueError\u001b[0m: Unable to parse string \"1,450\"",
      "\nDuring handling of the above exception, another exception occurred:\n",
      "\u001b[1;31mValueError\u001b[0m                                Traceback (most recent call last)",
      "Cell \u001b[1;32mIn[146], line 1\u001b[0m\n\u001b[1;32m----> 1\u001b[0m n1\u001b[38;5;241m=\u001b[39m\u001b[43mpd\u001b[49m\u001b[38;5;241;43m.\u001b[39;49m\u001b[43mto_numeric\u001b[49m\u001b[43m(\u001b[49m\u001b[43mn1\u001b[49m\u001b[43m)\u001b[49m\n",
      "File \u001b[1;32mC:\\Python\\Python312\\Lib\\site-packages\\pandas\\core\\tools\\numeric.py:232\u001b[0m, in \u001b[0;36mto_numeric\u001b[1;34m(arg, errors, downcast, dtype_backend)\u001b[0m\n\u001b[0;32m    230\u001b[0m coerce_numeric \u001b[38;5;241m=\u001b[39m errors \u001b[38;5;129;01mnot\u001b[39;00m \u001b[38;5;129;01min\u001b[39;00m (\u001b[38;5;124m\"\u001b[39m\u001b[38;5;124mignore\u001b[39m\u001b[38;5;124m\"\u001b[39m, \u001b[38;5;124m\"\u001b[39m\u001b[38;5;124mraise\u001b[39m\u001b[38;5;124m\"\u001b[39m)\n\u001b[0;32m    231\u001b[0m \u001b[38;5;28;01mtry\u001b[39;00m:\n\u001b[1;32m--> 232\u001b[0m     values, new_mask \u001b[38;5;241m=\u001b[39m \u001b[43mlib\u001b[49m\u001b[38;5;241;43m.\u001b[39;49m\u001b[43mmaybe_convert_numeric\u001b[49m\u001b[43m(\u001b[49m\u001b[43m  \u001b[49m\u001b[38;5;66;43;03m# type: ignore[call-overload]\u001b[39;49;00m\n\u001b[0;32m    233\u001b[0m \u001b[43m        \u001b[49m\u001b[43mvalues\u001b[49m\u001b[43m,\u001b[49m\n\u001b[0;32m    234\u001b[0m \u001b[43m        \u001b[49m\u001b[38;5;28;43mset\u001b[39;49m\u001b[43m(\u001b[49m\u001b[43m)\u001b[49m\u001b[43m,\u001b[49m\n\u001b[0;32m    235\u001b[0m \u001b[43m        \u001b[49m\u001b[43mcoerce_numeric\u001b[49m\u001b[38;5;241;43m=\u001b[39;49m\u001b[43mcoerce_numeric\u001b[49m\u001b[43m,\u001b[49m\n\u001b[0;32m    236\u001b[0m \u001b[43m        \u001b[49m\u001b[43mconvert_to_masked_nullable\u001b[49m\u001b[38;5;241;43m=\u001b[39;49m\u001b[43mdtype_backend\u001b[49m\u001b[43m \u001b[49m\u001b[38;5;129;43;01mis\u001b[39;49;00m\u001b[43m \u001b[49m\u001b[38;5;129;43;01mnot\u001b[39;49;00m\u001b[43m \u001b[49m\u001b[43mlib\u001b[49m\u001b[38;5;241;43m.\u001b[39;49m\u001b[43mno_default\u001b[49m\n\u001b[0;32m    237\u001b[0m \u001b[43m        \u001b[49m\u001b[38;5;129;43;01mor\u001b[39;49;00m\u001b[43m \u001b[49m\u001b[38;5;28;43misinstance\u001b[39;49m\u001b[43m(\u001b[49m\u001b[43mvalues_dtype\u001b[49m\u001b[43m,\u001b[49m\u001b[43m \u001b[49m\u001b[43mStringDtype\u001b[49m\u001b[43m)\u001b[49m\n\u001b[0;32m    238\u001b[0m \u001b[43m        \u001b[49m\u001b[38;5;129;43;01mand\u001b[39;49;00m\u001b[43m \u001b[49m\u001b[38;5;129;43;01mnot\u001b[39;49;00m\u001b[43m \u001b[49m\u001b[43mvalues_dtype\u001b[49m\u001b[38;5;241;43m.\u001b[39;49m\u001b[43mstorage\u001b[49m\u001b[43m \u001b[49m\u001b[38;5;241;43m==\u001b[39;49m\u001b[43m \u001b[49m\u001b[38;5;124;43m\"\u001b[39;49m\u001b[38;5;124;43mpyarrow_numpy\u001b[39;49m\u001b[38;5;124;43m\"\u001b[39;49m\u001b[43m,\u001b[49m\n\u001b[0;32m    239\u001b[0m \u001b[43m    \u001b[49m\u001b[43m)\u001b[49m\n\u001b[0;32m    240\u001b[0m \u001b[38;5;28;01mexcept\u001b[39;00m (\u001b[38;5;167;01mValueError\u001b[39;00m, \u001b[38;5;167;01mTypeError\u001b[39;00m):\n\u001b[0;32m    241\u001b[0m     \u001b[38;5;28;01mif\u001b[39;00m errors \u001b[38;5;241m==\u001b[39m \u001b[38;5;124m\"\u001b[39m\u001b[38;5;124mraise\u001b[39m\u001b[38;5;124m\"\u001b[39m:\n",
      "File \u001b[1;32mlib.pyx:2433\u001b[0m, in \u001b[0;36mpandas._libs.lib.maybe_convert_numeric\u001b[1;34m()\u001b[0m\n",
      "\u001b[1;31mValueError\u001b[0m: Unable to parse string \"1,450\" at position 0"
     ]
    }
   ],
   "source": [
    "n1=pd.to_numeric(n1)"
   ]
  },
  {
   "cell_type": "code",
   "execution_count": 147,
   "id": "14673df2",
   "metadata": {},
   "outputs": [
    {
     "name": "stderr",
     "output_type": "stream",
     "text": [
      "C:\\Users\\jbt\\AppData\\Local\\Temp\\ipykernel_13660\\1727090320.py:1: FutureWarning: errors='ignore' is deprecated and will raise in a future version. Use to_numeric without passing `errors` and catch exceptions explicitly instead\n",
      "  n1=pd.to_numeric(n1,errors='ignore')\n"
     ]
    }
   ],
   "source": [
    "n1=pd.to_numeric(n1,errors='ignore')"
   ]
  },
  {
   "cell_type": "code",
   "execution_count": 144,
   "id": "eea663f3",
   "metadata": {},
   "outputs": [
    {
     "data": {
      "text/plain": [
       "str"
      ]
     },
     "execution_count": 144,
     "metadata": {},
     "output_type": "execute_result"
    }
   ],
   "source": [
    "type(n1)"
   ]
  },
  {
   "cell_type": "code",
   "execution_count": 145,
   "id": "8684889d-c7e8-4dd8-9518-4968735e9cdd",
   "metadata": {},
   "outputs": [
    {
     "data": {
      "text/plain": [
       "'1,450'"
      ]
     },
     "execution_count": 145,
     "metadata": {},
     "output_type": "execute_result"
    }
   ],
   "source": [
    "n1"
   ]
  },
  {
   "cell_type": "code",
   "execution_count": 148,
   "id": "4b30db3e",
   "metadata": {},
   "outputs": [],
   "source": [
    "n2 =n1.replace(',','')"
   ]
  },
  {
   "cell_type": "code",
   "execution_count": 149,
   "id": "a5b89bb4",
   "metadata": {},
   "outputs": [
    {
     "data": {
      "text/plain": [
       "'1450'"
      ]
     },
     "execution_count": 149,
     "metadata": {},
     "output_type": "execute_result"
    }
   ],
   "source": [
    "n2"
   ]
  },
  {
   "cell_type": "code",
   "execution_count": null,
   "id": "5b3d9482",
   "metadata": {},
   "outputs": [],
   "source": [
    "type(n2)"
   ]
  },
  {
   "cell_type": "code",
   "execution_count": 150,
   "id": "d590e640",
   "metadata": {},
   "outputs": [],
   "source": [
    "n2=pd.to_numeric(n2)"
   ]
  },
  {
   "cell_type": "code",
   "execution_count": 151,
   "id": "10f1428a",
   "metadata": {},
   "outputs": [
    {
     "data": {
      "text/plain": [
       "np.int64(1450)"
      ]
     },
     "execution_count": 151,
     "metadata": {},
     "output_type": "execute_result"
    }
   ],
   "source": [
    "n2"
   ]
  },
  {
   "cell_type": "code",
   "execution_count": 152,
   "id": "28c48f09",
   "metadata": {},
   "outputs": [
    {
     "data": {
      "text/plain": [
       "numpy.int64"
      ]
     },
     "execution_count": 152,
     "metadata": {},
     "output_type": "execute_result"
    }
   ],
   "source": [
    "type(n2)"
   ]
  },
  {
   "cell_type": "markdown",
   "id": "b61876cc",
   "metadata": {},
   "source": [
    "#Convert String to_datetime"
   ]
  },
  {
   "cell_type": "code",
   "execution_count": 154,
   "id": "d3121cf7",
   "metadata": {},
   "outputs": [],
   "source": [
    "dt1 = '31-12-2018'"
   ]
  },
  {
   "cell_type": "code",
   "execution_count": 155,
   "id": "a8a250a4",
   "metadata": {},
   "outputs": [
    {
     "data": {
      "text/plain": [
       "str"
      ]
     },
     "execution_count": 155,
     "metadata": {},
     "output_type": "execute_result"
    }
   ],
   "source": [
    "type(dt1)"
   ]
  },
  {
   "cell_type": "code",
   "execution_count": 156,
   "id": "296131f1",
   "metadata": {},
   "outputs": [
    {
     "name": "stderr",
     "output_type": "stream",
     "text": [
      "C:\\Users\\jbt\\AppData\\Local\\Temp\\ipykernel_13660\\4037734424.py:1: UserWarning: Parsing dates in %d-%m-%Y format when dayfirst=False (the default) was specified. Pass `dayfirst=True` or specify a format to silence this warning.\n",
      "  dt2 =pd.to_datetime(dt1)\n"
     ]
    }
   ],
   "source": [
    "dt2 =pd.to_datetime(dt1)"
   ]
  },
  {
   "cell_type": "code",
   "execution_count": 157,
   "id": "2bfbd41d",
   "metadata": {},
   "outputs": [
    {
     "data": {
      "text/plain": [
       "pandas._libs.tslibs.timestamps.Timestamp"
      ]
     },
     "execution_count": 157,
     "metadata": {},
     "output_type": "execute_result"
    }
   ],
   "source": [
    "type(dt2)"
   ]
  },
  {
   "cell_type": "code",
   "execution_count": 158,
   "id": "360aef98-1d09-41a1-8924-c997e6d5fe0c",
   "metadata": {},
   "outputs": [
    {
     "data": {
      "text/plain": [
       "Timestamp('2018-12-31 00:00:00')"
      ]
     },
     "execution_count": 158,
     "metadata": {},
     "output_type": "execute_result"
    }
   ],
   "source": [
    "dt2"
   ]
  },
  {
   "cell_type": "code",
   "execution_count": 159,
   "id": "06d9a409-1367-428d-b4e4-6ffee403f8e3",
   "metadata": {},
   "outputs": [],
   "source": [
    "dtn = '01-12-2018'"
   ]
  },
  {
   "cell_type": "code",
   "execution_count": 160,
   "id": "7764c7bf-56ed-4b71-975f-0562bdd065f6",
   "metadata": {},
   "outputs": [
    {
     "data": {
      "text/plain": [
       "'01-12-2018'"
      ]
     },
     "execution_count": 160,
     "metadata": {},
     "output_type": "execute_result"
    }
   ],
   "source": [
    "dtn"
   ]
  },
  {
   "cell_type": "code",
   "execution_count": 166,
   "id": "dd811187-5468-4a7e-9e2e-a0641485e018",
   "metadata": {},
   "outputs": [
    {
     "data": {
      "text/plain": [
       "str"
      ]
     },
     "execution_count": 166,
     "metadata": {},
     "output_type": "execute_result"
    }
   ],
   "source": [
    "type(dtn)"
   ]
  },
  {
   "cell_type": "code",
   "execution_count": 162,
   "id": "356e4e99-6f43-47cb-ba62-c1916ce4372d",
   "metadata": {},
   "outputs": [
    {
     "data": {
      "text/plain": [
       "Timestamp('2018-01-12 00:00:00')"
      ]
     },
     "execution_count": 162,
     "metadata": {},
     "output_type": "execute_result"
    }
   ],
   "source": [
    "pd.to_datetime(dtn)"
   ]
  },
  {
   "cell_type": "code",
   "execution_count": 167,
   "id": "da7e44a5-a0c5-406e-abf2-234f3e9eb50a",
   "metadata": {},
   "outputs": [
    {
     "data": {
      "text/plain": [
       "Timestamp('2018-12-01 00:00:00')"
      ]
     },
     "execution_count": 167,
     "metadata": {},
     "output_type": "execute_result"
    }
   ],
   "source": [
    "pd.to_datetime(dtn,dayfirst=True)"
   ]
  },
  {
   "cell_type": "code",
   "execution_count": 163,
   "id": "0ae50713",
   "metadata": {},
   "outputs": [
    {
     "data": {
      "text/plain": [
       "2018"
      ]
     },
     "execution_count": 163,
     "metadata": {},
     "output_type": "execute_result"
    }
   ],
   "source": [
    "dt2.year"
   ]
  },
  {
   "cell_type": "code",
   "execution_count": 164,
   "id": "2daa82fa",
   "metadata": {},
   "outputs": [
    {
     "data": {
      "text/plain": [
       "12"
      ]
     },
     "execution_count": 164,
     "metadata": {},
     "output_type": "execute_result"
    }
   ],
   "source": [
    "dt2.month"
   ]
  },
  {
   "cell_type": "code",
   "execution_count": 165,
   "id": "ed98e352",
   "metadata": {},
   "outputs": [
    {
     "data": {
      "text/plain": [
       "31"
      ]
     },
     "execution_count": 165,
     "metadata": {},
     "output_type": "execute_result"
    }
   ],
   "source": [
    "dt2.day"
   ]
  },
  {
   "cell_type": "code",
   "execution_count": null,
   "id": "976044a1",
   "metadata": {},
   "outputs": [],
   "source": [
    "#Convert to string"
   ]
  },
  {
   "cell_type": "code",
   "execution_count": null,
   "id": "bdac9236",
   "metadata": {},
   "outputs": [],
   "source": [
    "#astype(str)"
   ]
  },
  {
   "cell_type": "code",
   "execution_count": 168,
   "id": "bf931523-d164-41e4-873c-9ad72f9d71bc",
   "metadata": {},
   "outputs": [
    {
     "data": {
      "text/html": [
       "<div>\n",
       "<style scoped>\n",
       "    .dataframe tbody tr th:only-of-type {\n",
       "        vertical-align: middle;\n",
       "    }\n",
       "\n",
       "    .dataframe tbody tr th {\n",
       "        vertical-align: top;\n",
       "    }\n",
       "\n",
       "    .dataframe thead th {\n",
       "        text-align: right;\n",
       "    }\n",
       "</style>\n",
       "<table border=\"1\" class=\"dataframe\">\n",
       "  <thead>\n",
       "    <tr style=\"text-align: right;\">\n",
       "      <th></th>\n",
       "      <th>ProductID</th>\n",
       "      <th>ProductName</th>\n",
       "      <th>UnitPrice</th>\n",
       "      <th>CategoryID</th>\n",
       "      <th>Date1</th>\n",
       "      <th>Date2</th>\n",
       "      <th>Date</th>\n",
       "      <th>MM</th>\n",
       "    </tr>\n",
       "  </thead>\n",
       "  <tbody>\n",
       "    <tr>\n",
       "      <th>0</th>\n",
       "      <td>1</td>\n",
       "      <td>Chai</td>\n",
       "      <td>18.00</td>\n",
       "      <td>1</td>\n",
       "      <td>05/12/2022</td>\n",
       "      <td>15/12/2022</td>\n",
       "      <td>2022-12-05</td>\n",
       "      <td>12</td>\n",
       "    </tr>\n",
       "    <tr>\n",
       "      <th>1</th>\n",
       "      <td>2</td>\n",
       "      <td>Chang</td>\n",
       "      <td>19.00</td>\n",
       "      <td>1</td>\n",
       "      <td>06/12/2022</td>\n",
       "      <td>16/12/2022</td>\n",
       "      <td>2022-12-06</td>\n",
       "      <td>12</td>\n",
       "    </tr>\n",
       "    <tr>\n",
       "      <th>2</th>\n",
       "      <td>3</td>\n",
       "      <td>Aniseed Syrup</td>\n",
       "      <td>10.00</td>\n",
       "      <td>2</td>\n",
       "      <td>07/12/2022</td>\n",
       "      <td>17/12/2022</td>\n",
       "      <td>2022-12-07</td>\n",
       "      <td>12</td>\n",
       "    </tr>\n",
       "    <tr>\n",
       "      <th>3</th>\n",
       "      <td>4</td>\n",
       "      <td>Chef Anton's Cajun Seasoning</td>\n",
       "      <td>22.00</td>\n",
       "      <td>2</td>\n",
       "      <td>08/12/2022</td>\n",
       "      <td>18/12/2022</td>\n",
       "      <td>2022-12-08</td>\n",
       "      <td>12</td>\n",
       "    </tr>\n",
       "    <tr>\n",
       "      <th>4</th>\n",
       "      <td>5</td>\n",
       "      <td>Chef Anton's Gumbo Mix</td>\n",
       "      <td>21.35</td>\n",
       "      <td>2</td>\n",
       "      <td>09/12/2022</td>\n",
       "      <td>19/12/2022</td>\n",
       "      <td>2022-12-09</td>\n",
       "      <td>12</td>\n",
       "    </tr>\n",
       "    <tr>\n",
       "      <th>...</th>\n",
       "      <td>...</td>\n",
       "      <td>...</td>\n",
       "      <td>...</td>\n",
       "      <td>...</td>\n",
       "      <td>...</td>\n",
       "      <td>...</td>\n",
       "      <td>...</td>\n",
       "      <td>...</td>\n",
       "    </tr>\n",
       "    <tr>\n",
       "      <th>72</th>\n",
       "      <td>73</td>\n",
       "      <td>Rad Kaviar</td>\n",
       "      <td>15.00</td>\n",
       "      <td>8</td>\n",
       "      <td>27/02/2023</td>\n",
       "      <td>25/02/2023</td>\n",
       "      <td>2023-02-27</td>\n",
       "      <td>2</td>\n",
       "    </tr>\n",
       "    <tr>\n",
       "      <th>73</th>\n",
       "      <td>74</td>\n",
       "      <td>Longlife Tofu</td>\n",
       "      <td>10.00</td>\n",
       "      <td>7</td>\n",
       "      <td>28/02/2023</td>\n",
       "      <td>26/02/2023</td>\n",
       "      <td>2023-02-28</td>\n",
       "      <td>2</td>\n",
       "    </tr>\n",
       "    <tr>\n",
       "      <th>74</th>\n",
       "      <td>75</td>\n",
       "      <td>Rhanbrau Klosterbier</td>\n",
       "      <td>7.75</td>\n",
       "      <td>1</td>\n",
       "      <td>01/03/2023</td>\n",
       "      <td>27/02/2023</td>\n",
       "      <td>2023-03-01</td>\n",
       "      <td>3</td>\n",
       "    </tr>\n",
       "    <tr>\n",
       "      <th>75</th>\n",
       "      <td>76</td>\n",
       "      <td>Lakkalikaari</td>\n",
       "      <td>18.00</td>\n",
       "      <td>1</td>\n",
       "      <td>02/03/2023</td>\n",
       "      <td>28/02/2023</td>\n",
       "      <td>2023-03-02</td>\n",
       "      <td>3</td>\n",
       "    </tr>\n",
       "    <tr>\n",
       "      <th>76</th>\n",
       "      <td>77</td>\n",
       "      <td>Original Frankfurter grane Soae</td>\n",
       "      <td>13.00</td>\n",
       "      <td>2</td>\n",
       "      <td>03/03/2023</td>\n",
       "      <td>01/03/2023</td>\n",
       "      <td>2023-03-03</td>\n",
       "      <td>3</td>\n",
       "    </tr>\n",
       "  </tbody>\n",
       "</table>\n",
       "<p>77 rows × 8 columns</p>\n",
       "</div>"
      ],
      "text/plain": [
       "    ProductID                      ProductName  UnitPrice  CategoryID  \\\n",
       "0           1                             Chai      18.00           1   \n",
       "1           2                            Chang      19.00           1   \n",
       "2           3                    Aniseed Syrup      10.00           2   \n",
       "3           4     Chef Anton's Cajun Seasoning      22.00           2   \n",
       "4           5           Chef Anton's Gumbo Mix      21.35           2   \n",
       "..        ...                              ...        ...         ...   \n",
       "72         73                       Rad Kaviar      15.00           8   \n",
       "73         74                    Longlife Tofu      10.00           7   \n",
       "74         75             Rhanbrau Klosterbier       7.75           1   \n",
       "75         76                     Lakkalikaari      18.00           1   \n",
       "76         77  Original Frankfurter grane Soae      13.00           2   \n",
       "\n",
       "         Date1       Date2       Date  MM  \n",
       "0   05/12/2022  15/12/2022 2022-12-05  12  \n",
       "1   06/12/2022  16/12/2022 2022-12-06  12  \n",
       "2   07/12/2022  17/12/2022 2022-12-07  12  \n",
       "3   08/12/2022  18/12/2022 2022-12-08  12  \n",
       "4   09/12/2022  19/12/2022 2022-12-09  12  \n",
       "..         ...         ...        ...  ..  \n",
       "72  27/02/2023  25/02/2023 2023-02-27   2  \n",
       "73  28/02/2023  26/02/2023 2023-02-28   2  \n",
       "74  01/03/2023  27/02/2023 2023-03-01   3  \n",
       "75  02/03/2023  28/02/2023 2023-03-02   3  \n",
       "76  03/03/2023  01/03/2023 2023-03-03   3  \n",
       "\n",
       "[77 rows x 8 columns]"
      ]
     },
     "execution_count": 168,
     "metadata": {},
     "output_type": "execute_result"
    }
   ],
   "source": [
    "products"
   ]
  },
  {
   "cell_type": "code",
   "execution_count": 169,
   "id": "837c8aff-d16d-4da8-a9be-8e31cb6df361",
   "metadata": {},
   "outputs": [
    {
     "data": {
      "text/plain": [
       "0     2022-12-05\n",
       "1     2022-12-06\n",
       "2     2022-12-07\n",
       "3     2022-12-08\n",
       "4     2022-12-09\n",
       "         ...    \n",
       "72    2023-02-27\n",
       "73    2023-02-28\n",
       "74    2023-03-01\n",
       "75    2023-03-02\n",
       "76    2023-03-03\n",
       "Name: Date, Length: 77, dtype: object"
      ]
     },
     "execution_count": 169,
     "metadata": {},
     "output_type": "execute_result"
    }
   ],
   "source": [
    "products[\"Date\"].astype('str')"
   ]
  },
  {
   "cell_type": "code",
   "execution_count": 170,
   "id": "911186ff",
   "metadata": {},
   "outputs": [],
   "source": [
    "products[\"Date\"] = products[\"Date\"].astype('str')"
   ]
  },
  {
   "cell_type": "code",
   "execution_count": 171,
   "id": "84b31124",
   "metadata": {},
   "outputs": [
    {
     "data": {
      "text/plain": [
       "0     2022-12-05\n",
       "1     2022-12-06\n",
       "2     2022-12-07\n",
       "3     2022-12-08\n",
       "4     2022-12-09\n",
       "         ...    \n",
       "72    2023-02-27\n",
       "73    2023-02-28\n",
       "74    2023-03-01\n",
       "75    2023-03-02\n",
       "76    2023-03-03\n",
       "Name: Date, Length: 77, dtype: object"
      ]
     },
     "execution_count": 171,
     "metadata": {},
     "output_type": "execute_result"
    }
   ],
   "source": [
    "products[\"Date\"] "
   ]
  },
  {
   "cell_type": "code",
   "execution_count": 172,
   "id": "cffd111b",
   "metadata": {},
   "outputs": [
    {
     "name": "stdout",
     "output_type": "stream",
     "text": [
      "<class 'pandas.core.frame.DataFrame'>\n",
      "RangeIndex: 77 entries, 0 to 76\n",
      "Data columns (total 8 columns):\n",
      " #   Column       Non-Null Count  Dtype  \n",
      "---  ------       --------------  -----  \n",
      " 0   ProductID    77 non-null     int64  \n",
      " 1   ProductName  77 non-null     object \n",
      " 2   UnitPrice    77 non-null     float64\n",
      " 3   CategoryID   77 non-null     int64  \n",
      " 4   Date1        77 non-null     object \n",
      " 5   Date2        77 non-null     object \n",
      " 6   Date         77 non-null     object \n",
      " 7   MM           77 non-null     int32  \n",
      "dtypes: float64(1), int32(1), int64(2), object(4)\n",
      "memory usage: 4.6+ KB\n"
     ]
    }
   ],
   "source": [
    "products.info()"
   ]
  },
  {
   "cell_type": "code",
   "execution_count": 173,
   "id": "d422a0f6",
   "metadata": {},
   "outputs": [
    {
     "data": {
      "text/html": [
       "<div>\n",
       "<style scoped>\n",
       "    .dataframe tbody tr th:only-of-type {\n",
       "        vertical-align: middle;\n",
       "    }\n",
       "\n",
       "    .dataframe tbody tr th {\n",
       "        vertical-align: top;\n",
       "    }\n",
       "\n",
       "    .dataframe thead th {\n",
       "        text-align: right;\n",
       "    }\n",
       "</style>\n",
       "<table border=\"1\" class=\"dataframe\">\n",
       "  <thead>\n",
       "    <tr style=\"text-align: right;\">\n",
       "      <th></th>\n",
       "      <th>ProductID</th>\n",
       "      <th>ProductName</th>\n",
       "      <th>UnitPrice</th>\n",
       "      <th>CategoryID</th>\n",
       "      <th>Date1</th>\n",
       "      <th>Date2</th>\n",
       "      <th>Date</th>\n",
       "      <th>MM</th>\n",
       "    </tr>\n",
       "  </thead>\n",
       "  <tbody>\n",
       "    <tr>\n",
       "      <th>0</th>\n",
       "      <td>1</td>\n",
       "      <td>Chai</td>\n",
       "      <td>18.00</td>\n",
       "      <td>1</td>\n",
       "      <td>05/12/2022</td>\n",
       "      <td>15/12/2022</td>\n",
       "      <td>2022-12-05</td>\n",
       "      <td>12</td>\n",
       "    </tr>\n",
       "    <tr>\n",
       "      <th>1</th>\n",
       "      <td>2</td>\n",
       "      <td>Chang</td>\n",
       "      <td>19.00</td>\n",
       "      <td>1</td>\n",
       "      <td>06/12/2022</td>\n",
       "      <td>16/12/2022</td>\n",
       "      <td>2022-12-06</td>\n",
       "      <td>12</td>\n",
       "    </tr>\n",
       "    <tr>\n",
       "      <th>2</th>\n",
       "      <td>3</td>\n",
       "      <td>Aniseed Syrup</td>\n",
       "      <td>10.00</td>\n",
       "      <td>2</td>\n",
       "      <td>07/12/2022</td>\n",
       "      <td>17/12/2022</td>\n",
       "      <td>2022-12-07</td>\n",
       "      <td>12</td>\n",
       "    </tr>\n",
       "    <tr>\n",
       "      <th>3</th>\n",
       "      <td>4</td>\n",
       "      <td>Chef Anton's Cajun Seasoning</td>\n",
       "      <td>22.00</td>\n",
       "      <td>2</td>\n",
       "      <td>08/12/2022</td>\n",
       "      <td>18/12/2022</td>\n",
       "      <td>2022-12-08</td>\n",
       "      <td>12</td>\n",
       "    </tr>\n",
       "    <tr>\n",
       "      <th>4</th>\n",
       "      <td>5</td>\n",
       "      <td>Chef Anton's Gumbo Mix</td>\n",
       "      <td>21.35</td>\n",
       "      <td>2</td>\n",
       "      <td>09/12/2022</td>\n",
       "      <td>19/12/2022</td>\n",
       "      <td>2022-12-09</td>\n",
       "      <td>12</td>\n",
       "    </tr>\n",
       "    <tr>\n",
       "      <th>...</th>\n",
       "      <td>...</td>\n",
       "      <td>...</td>\n",
       "      <td>...</td>\n",
       "      <td>...</td>\n",
       "      <td>...</td>\n",
       "      <td>...</td>\n",
       "      <td>...</td>\n",
       "      <td>...</td>\n",
       "    </tr>\n",
       "    <tr>\n",
       "      <th>72</th>\n",
       "      <td>73</td>\n",
       "      <td>Rad Kaviar</td>\n",
       "      <td>15.00</td>\n",
       "      <td>8</td>\n",
       "      <td>27/02/2023</td>\n",
       "      <td>25/02/2023</td>\n",
       "      <td>2023-02-27</td>\n",
       "      <td>2</td>\n",
       "    </tr>\n",
       "    <tr>\n",
       "      <th>73</th>\n",
       "      <td>74</td>\n",
       "      <td>Longlife Tofu</td>\n",
       "      <td>10.00</td>\n",
       "      <td>7</td>\n",
       "      <td>28/02/2023</td>\n",
       "      <td>26/02/2023</td>\n",
       "      <td>2023-02-28</td>\n",
       "      <td>2</td>\n",
       "    </tr>\n",
       "    <tr>\n",
       "      <th>74</th>\n",
       "      <td>75</td>\n",
       "      <td>Rhanbrau Klosterbier</td>\n",
       "      <td>7.75</td>\n",
       "      <td>1</td>\n",
       "      <td>01/03/2023</td>\n",
       "      <td>27/02/2023</td>\n",
       "      <td>2023-03-01</td>\n",
       "      <td>3</td>\n",
       "    </tr>\n",
       "    <tr>\n",
       "      <th>75</th>\n",
       "      <td>76</td>\n",
       "      <td>Lakkalikaari</td>\n",
       "      <td>18.00</td>\n",
       "      <td>1</td>\n",
       "      <td>02/03/2023</td>\n",
       "      <td>28/02/2023</td>\n",
       "      <td>2023-03-02</td>\n",
       "      <td>3</td>\n",
       "    </tr>\n",
       "    <tr>\n",
       "      <th>76</th>\n",
       "      <td>77</td>\n",
       "      <td>Original Frankfurter grane Soae</td>\n",
       "      <td>13.00</td>\n",
       "      <td>2</td>\n",
       "      <td>03/03/2023</td>\n",
       "      <td>01/03/2023</td>\n",
       "      <td>2023-03-03</td>\n",
       "      <td>3</td>\n",
       "    </tr>\n",
       "  </tbody>\n",
       "</table>\n",
       "<p>77 rows × 8 columns</p>\n",
       "</div>"
      ],
      "text/plain": [
       "    ProductID                      ProductName  UnitPrice  CategoryID  \\\n",
       "0           1                             Chai      18.00           1   \n",
       "1           2                            Chang      19.00           1   \n",
       "2           3                    Aniseed Syrup      10.00           2   \n",
       "3           4     Chef Anton's Cajun Seasoning      22.00           2   \n",
       "4           5           Chef Anton's Gumbo Mix      21.35           2   \n",
       "..        ...                              ...        ...         ...   \n",
       "72         73                       Rad Kaviar      15.00           8   \n",
       "73         74                    Longlife Tofu      10.00           7   \n",
       "74         75             Rhanbrau Klosterbier       7.75           1   \n",
       "75         76                     Lakkalikaari      18.00           1   \n",
       "76         77  Original Frankfurter grane Soae      13.00           2   \n",
       "\n",
       "         Date1       Date2        Date  MM  \n",
       "0   05/12/2022  15/12/2022  2022-12-05  12  \n",
       "1   06/12/2022  16/12/2022  2022-12-06  12  \n",
       "2   07/12/2022  17/12/2022  2022-12-07  12  \n",
       "3   08/12/2022  18/12/2022  2022-12-08  12  \n",
       "4   09/12/2022  19/12/2022  2022-12-09  12  \n",
       "..         ...         ...         ...  ..  \n",
       "72  27/02/2023  25/02/2023  2023-02-27   2  \n",
       "73  28/02/2023  26/02/2023  2023-02-28   2  \n",
       "74  01/03/2023  27/02/2023  2023-03-01   3  \n",
       "75  02/03/2023  28/02/2023  2023-03-02   3  \n",
       "76  03/03/2023  01/03/2023  2023-03-03   3  \n",
       "\n",
       "[77 rows x 8 columns]"
      ]
     },
     "execution_count": 173,
     "metadata": {},
     "output_type": "execute_result"
    }
   ],
   "source": [
    "products"
   ]
  },
  {
   "cell_type": "code",
   "execution_count": null,
   "id": "ad54f988",
   "metadata": {},
   "outputs": [],
   "source": [
    "#Nulls"
   ]
  },
  {
   "cell_type": "code",
   "execution_count": 174,
   "id": "9cb80a03",
   "metadata": {},
   "outputs": [],
   "source": [
    "cust = pd.read_csv(\"data/Customers.csv\")"
   ]
  },
  {
   "cell_type": "code",
   "execution_count": 175,
   "id": "3525170e",
   "metadata": {},
   "outputs": [
    {
     "data": {
      "text/html": [
       "<div>\n",
       "<style scoped>\n",
       "    .dataframe tbody tr th:only-of-type {\n",
       "        vertical-align: middle;\n",
       "    }\n",
       "\n",
       "    .dataframe tbody tr th {\n",
       "        vertical-align: top;\n",
       "    }\n",
       "\n",
       "    .dataframe thead th {\n",
       "        text-align: right;\n",
       "    }\n",
       "</style>\n",
       "<table border=\"1\" class=\"dataframe\">\n",
       "  <thead>\n",
       "    <tr style=\"text-align: right;\">\n",
       "      <th></th>\n",
       "      <th>CustomerID</th>\n",
       "      <th>CompanyName</th>\n",
       "      <th>ContactName</th>\n",
       "      <th>ContactTitle</th>\n",
       "      <th>Address</th>\n",
       "      <th>City</th>\n",
       "      <th>Region</th>\n",
       "      <th>PostalCode</th>\n",
       "      <th>Country</th>\n",
       "      <th>Phone</th>\n",
       "      <th>Fax</th>\n",
       "    </tr>\n",
       "  </thead>\n",
       "  <tbody>\n",
       "    <tr>\n",
       "      <th>0</th>\n",
       "      <td>1</td>\n",
       "      <td>Alfreds Futterkiste</td>\n",
       "      <td>Maria Anders</td>\n",
       "      <td>Sales Representative</td>\n",
       "      <td>Obere Str. 57</td>\n",
       "      <td>Berlin</td>\n",
       "      <td>NaN</td>\n",
       "      <td>12209</td>\n",
       "      <td>Germany</td>\n",
       "      <td>030-0074321</td>\n",
       "      <td>030-0076545</td>\n",
       "    </tr>\n",
       "    <tr>\n",
       "      <th>1</th>\n",
       "      <td>2</td>\n",
       "      <td>Ana Trujillo Emparedados y helados</td>\n",
       "      <td>Ana Trujillo</td>\n",
       "      <td>Owner</td>\n",
       "      <td>Avda. de la Constitución 2222</td>\n",
       "      <td>México D.F.</td>\n",
       "      <td>NaN</td>\n",
       "      <td>5021</td>\n",
       "      <td>Mexico</td>\n",
       "      <td>(5) 555-4729</td>\n",
       "      <td>(5) 555-3745</td>\n",
       "    </tr>\n",
       "    <tr>\n",
       "      <th>2</th>\n",
       "      <td>3</td>\n",
       "      <td>Antonio Moreno Taquería</td>\n",
       "      <td>Antonio Moreno</td>\n",
       "      <td>Owner</td>\n",
       "      <td>Mataderos  2312</td>\n",
       "      <td>México D.F.</td>\n",
       "      <td>NaN</td>\n",
       "      <td>5023</td>\n",
       "      <td>Mexico</td>\n",
       "      <td>(5) 555-3932</td>\n",
       "      <td>NaN</td>\n",
       "    </tr>\n",
       "    <tr>\n",
       "      <th>3</th>\n",
       "      <td>4</td>\n",
       "      <td>Around the Horn</td>\n",
       "      <td>Thomas Hardy</td>\n",
       "      <td>Sales Representative</td>\n",
       "      <td>120 Hanover Sq.</td>\n",
       "      <td>London</td>\n",
       "      <td>NaN</td>\n",
       "      <td>WA1 1DP</td>\n",
       "      <td>UK</td>\n",
       "      <td>(171) 555-7788</td>\n",
       "      <td>(171) 555-6750</td>\n",
       "    </tr>\n",
       "    <tr>\n",
       "      <th>4</th>\n",
       "      <td>5</td>\n",
       "      <td>Berglunds snabbköp</td>\n",
       "      <td>Christina Berglund</td>\n",
       "      <td>Order Administrator</td>\n",
       "      <td>Berguvsvägen  8</td>\n",
       "      <td>Luleå</td>\n",
       "      <td>NaN</td>\n",
       "      <td>S-958 22</td>\n",
       "      <td>Sweden</td>\n",
       "      <td>0921-12 34 65</td>\n",
       "      <td>0921-12 34 67</td>\n",
       "    </tr>\n",
       "  </tbody>\n",
       "</table>\n",
       "</div>"
      ],
      "text/plain": [
       "   CustomerID                         CompanyName         ContactName  \\\n",
       "0           1                 Alfreds Futterkiste        Maria Anders   \n",
       "1           2  Ana Trujillo Emparedados y helados        Ana Trujillo   \n",
       "2           3             Antonio Moreno Taquería      Antonio Moreno   \n",
       "3           4                     Around the Horn        Thomas Hardy   \n",
       "4           5                  Berglunds snabbköp  Christina Berglund   \n",
       "\n",
       "           ContactTitle                        Address         City Region  \\\n",
       "0  Sales Representative                  Obere Str. 57       Berlin    NaN   \n",
       "1                 Owner  Avda. de la Constitución 2222  México D.F.    NaN   \n",
       "2                 Owner                Mataderos  2312  México D.F.    NaN   \n",
       "3  Sales Representative                120 Hanover Sq.       London    NaN   \n",
       "4   Order Administrator                Berguvsvägen  8        Luleå    NaN   \n",
       "\n",
       "  PostalCode  Country           Phone             Fax  \n",
       "0      12209  Germany     030-0074321     030-0076545  \n",
       "1       5021   Mexico    (5) 555-4729    (5) 555-3745  \n",
       "2       5023   Mexico    (5) 555-3932             NaN  \n",
       "3    WA1 1DP       UK  (171) 555-7788  (171) 555-6750  \n",
       "4   S-958 22   Sweden   0921-12 34 65   0921-12 34 67  "
      ]
     },
     "execution_count": 175,
     "metadata": {},
     "output_type": "execute_result"
    }
   ],
   "source": [
    "cust.head(5)"
   ]
  },
  {
   "cell_type": "code",
   "execution_count": 176,
   "id": "43b28378",
   "metadata": {},
   "outputs": [
    {
     "data": {
      "text/html": [
       "<div>\n",
       "<style scoped>\n",
       "    .dataframe tbody tr th:only-of-type {\n",
       "        vertical-align: middle;\n",
       "    }\n",
       "\n",
       "    .dataframe tbody tr th {\n",
       "        vertical-align: top;\n",
       "    }\n",
       "\n",
       "    .dataframe thead th {\n",
       "        text-align: right;\n",
       "    }\n",
       "</style>\n",
       "<table border=\"1\" class=\"dataframe\">\n",
       "  <thead>\n",
       "    <tr style=\"text-align: right;\">\n",
       "      <th></th>\n",
       "      <th>CustomerID</th>\n",
       "      <th>CompanyName</th>\n",
       "      <th>Region</th>\n",
       "    </tr>\n",
       "  </thead>\n",
       "  <tbody>\n",
       "    <tr>\n",
       "      <th>0</th>\n",
       "      <td>1</td>\n",
       "      <td>Alfreds Futterkiste</td>\n",
       "      <td>NaN</td>\n",
       "    </tr>\n",
       "    <tr>\n",
       "      <th>1</th>\n",
       "      <td>2</td>\n",
       "      <td>Ana Trujillo Emparedados y helados</td>\n",
       "      <td>NaN</td>\n",
       "    </tr>\n",
       "    <tr>\n",
       "      <th>2</th>\n",
       "      <td>3</td>\n",
       "      <td>Antonio Moreno Taquería</td>\n",
       "      <td>NaN</td>\n",
       "    </tr>\n",
       "    <tr>\n",
       "      <th>3</th>\n",
       "      <td>4</td>\n",
       "      <td>Around the Horn</td>\n",
       "      <td>NaN</td>\n",
       "    </tr>\n",
       "    <tr>\n",
       "      <th>4</th>\n",
       "      <td>5</td>\n",
       "      <td>Berglunds snabbköp</td>\n",
       "      <td>NaN</td>\n",
       "    </tr>\n",
       "  </tbody>\n",
       "</table>\n",
       "</div>"
      ],
      "text/plain": [
       "   CustomerID                         CompanyName Region\n",
       "0           1                 Alfreds Futterkiste    NaN\n",
       "1           2  Ana Trujillo Emparedados y helados    NaN\n",
       "2           3             Antonio Moreno Taquería    NaN\n",
       "3           4                     Around the Horn    NaN\n",
       "4           5                  Berglunds snabbköp    NaN"
      ]
     },
     "execution_count": 176,
     "metadata": {},
     "output_type": "execute_result"
    }
   ],
   "source": [
    "cust[[\"CustomerID\",\"CompanyName\",\"Region\"]].head()"
   ]
  },
  {
   "cell_type": "code",
   "execution_count": 177,
   "id": "4f123ee2",
   "metadata": {},
   "outputs": [],
   "source": [
    "ifnull =cust[\"Region\"].isnull()"
   ]
  },
  {
   "cell_type": "code",
   "execution_count": 178,
   "id": "394bc14c",
   "metadata": {},
   "outputs": [
    {
     "data": {
      "text/html": [
       "<div>\n",
       "<style scoped>\n",
       "    .dataframe tbody tr th:only-of-type {\n",
       "        vertical-align: middle;\n",
       "    }\n",
       "\n",
       "    .dataframe tbody tr th {\n",
       "        vertical-align: top;\n",
       "    }\n",
       "\n",
       "    .dataframe thead th {\n",
       "        text-align: right;\n",
       "    }\n",
       "</style>\n",
       "<table border=\"1\" class=\"dataframe\">\n",
       "  <thead>\n",
       "    <tr style=\"text-align: right;\">\n",
       "      <th></th>\n",
       "      <th>CustomerID</th>\n",
       "      <th>CompanyName</th>\n",
       "      <th>ContactName</th>\n",
       "      <th>ContactTitle</th>\n",
       "      <th>Address</th>\n",
       "      <th>City</th>\n",
       "      <th>Region</th>\n",
       "      <th>PostalCode</th>\n",
       "      <th>Country</th>\n",
       "      <th>Phone</th>\n",
       "      <th>Fax</th>\n",
       "    </tr>\n",
       "  </thead>\n",
       "  <tbody>\n",
       "    <tr>\n",
       "      <th>0</th>\n",
       "      <td>1</td>\n",
       "      <td>Alfreds Futterkiste</td>\n",
       "      <td>Maria Anders</td>\n",
       "      <td>Sales Representative</td>\n",
       "      <td>Obere Str. 57</td>\n",
       "      <td>Berlin</td>\n",
       "      <td>NaN</td>\n",
       "      <td>12209</td>\n",
       "      <td>Germany</td>\n",
       "      <td>030-0074321</td>\n",
       "      <td>030-0076545</td>\n",
       "    </tr>\n",
       "    <tr>\n",
       "      <th>1</th>\n",
       "      <td>2</td>\n",
       "      <td>Ana Trujillo Emparedados y helados</td>\n",
       "      <td>Ana Trujillo</td>\n",
       "      <td>Owner</td>\n",
       "      <td>Avda. de la Constitución 2222</td>\n",
       "      <td>México D.F.</td>\n",
       "      <td>NaN</td>\n",
       "      <td>5021</td>\n",
       "      <td>Mexico</td>\n",
       "      <td>(5) 555-4729</td>\n",
       "      <td>(5) 555-3745</td>\n",
       "    </tr>\n",
       "    <tr>\n",
       "      <th>2</th>\n",
       "      <td>3</td>\n",
       "      <td>Antonio Moreno Taquería</td>\n",
       "      <td>Antonio Moreno</td>\n",
       "      <td>Owner</td>\n",
       "      <td>Mataderos  2312</td>\n",
       "      <td>México D.F.</td>\n",
       "      <td>NaN</td>\n",
       "      <td>5023</td>\n",
       "      <td>Mexico</td>\n",
       "      <td>(5) 555-3932</td>\n",
       "      <td>NaN</td>\n",
       "    </tr>\n",
       "    <tr>\n",
       "      <th>3</th>\n",
       "      <td>4</td>\n",
       "      <td>Around the Horn</td>\n",
       "      <td>Thomas Hardy</td>\n",
       "      <td>Sales Representative</td>\n",
       "      <td>120 Hanover Sq.</td>\n",
       "      <td>London</td>\n",
       "      <td>NaN</td>\n",
       "      <td>WA1 1DP</td>\n",
       "      <td>UK</td>\n",
       "      <td>(171) 555-7788</td>\n",
       "      <td>(171) 555-6750</td>\n",
       "    </tr>\n",
       "    <tr>\n",
       "      <th>4</th>\n",
       "      <td>5</td>\n",
       "      <td>Berglunds snabbköp</td>\n",
       "      <td>Christina Berglund</td>\n",
       "      <td>Order Administrator</td>\n",
       "      <td>Berguvsvägen  8</td>\n",
       "      <td>Luleå</td>\n",
       "      <td>NaN</td>\n",
       "      <td>S-958 22</td>\n",
       "      <td>Sweden</td>\n",
       "      <td>0921-12 34 65</td>\n",
       "      <td>0921-12 34 67</td>\n",
       "    </tr>\n",
       "  </tbody>\n",
       "</table>\n",
       "</div>"
      ],
      "text/plain": [
       "   CustomerID                         CompanyName         ContactName  \\\n",
       "0           1                 Alfreds Futterkiste        Maria Anders   \n",
       "1           2  Ana Trujillo Emparedados y helados        Ana Trujillo   \n",
       "2           3             Antonio Moreno Taquería      Antonio Moreno   \n",
       "3           4                     Around the Horn        Thomas Hardy   \n",
       "4           5                  Berglunds snabbköp  Christina Berglund   \n",
       "\n",
       "           ContactTitle                        Address         City Region  \\\n",
       "0  Sales Representative                  Obere Str. 57       Berlin    NaN   \n",
       "1                 Owner  Avda. de la Constitución 2222  México D.F.    NaN   \n",
       "2                 Owner                Mataderos  2312  México D.F.    NaN   \n",
       "3  Sales Representative                120 Hanover Sq.       London    NaN   \n",
       "4   Order Administrator                Berguvsvägen  8        Luleå    NaN   \n",
       "\n",
       "  PostalCode  Country           Phone             Fax  \n",
       "0      12209  Germany     030-0074321     030-0076545  \n",
       "1       5021   Mexico    (5) 555-4729    (5) 555-3745  \n",
       "2       5023   Mexico    (5) 555-3932             NaN  \n",
       "3    WA1 1DP       UK  (171) 555-7788  (171) 555-6750  \n",
       "4   S-958 22   Sweden   0921-12 34 65   0921-12 34 67  "
      ]
     },
     "execution_count": 178,
     "metadata": {},
     "output_type": "execute_result"
    }
   ],
   "source": [
    "cust[ifnull].head()"
   ]
  },
  {
   "cell_type": "code",
   "execution_count": 179,
   "id": "cd86aa17",
   "metadata": {},
   "outputs": [],
   "source": [
    "ifnotnull =cust[\"Region\"].notnull()"
   ]
  },
  {
   "cell_type": "code",
   "execution_count": 180,
   "id": "7886a8c5",
   "metadata": {},
   "outputs": [
    {
     "data": {
      "text/html": [
       "<div>\n",
       "<style scoped>\n",
       "    .dataframe tbody tr th:only-of-type {\n",
       "        vertical-align: middle;\n",
       "    }\n",
       "\n",
       "    .dataframe tbody tr th {\n",
       "        vertical-align: top;\n",
       "    }\n",
       "\n",
       "    .dataframe thead th {\n",
       "        text-align: right;\n",
       "    }\n",
       "</style>\n",
       "<table border=\"1\" class=\"dataframe\">\n",
       "  <thead>\n",
       "    <tr style=\"text-align: right;\">\n",
       "      <th></th>\n",
       "      <th>CustomerID</th>\n",
       "      <th>CompanyName</th>\n",
       "      <th>ContactName</th>\n",
       "      <th>ContactTitle</th>\n",
       "      <th>Address</th>\n",
       "      <th>City</th>\n",
       "      <th>Region</th>\n",
       "      <th>PostalCode</th>\n",
       "      <th>Country</th>\n",
       "      <th>Phone</th>\n",
       "      <th>Fax</th>\n",
       "    </tr>\n",
       "  </thead>\n",
       "  <tbody>\n",
       "    <tr>\n",
       "      <th>9</th>\n",
       "      <td>10</td>\n",
       "      <td>Bottom-Dollar Markets</td>\n",
       "      <td>Elizabeth Lincoln</td>\n",
       "      <td>Accounting Manager</td>\n",
       "      <td>23 Tsawassen Blvd.</td>\n",
       "      <td>Tsawassen</td>\n",
       "      <td>BC</td>\n",
       "      <td>T2F 8M4</td>\n",
       "      <td>Canada</td>\n",
       "      <td>(604) 555-4729</td>\n",
       "      <td>(604) 555-3745</td>\n",
       "    </tr>\n",
       "    <tr>\n",
       "      <th>14</th>\n",
       "      <td>15</td>\n",
       "      <td>Comércio Mineiro</td>\n",
       "      <td>Pedro Afonso</td>\n",
       "      <td>Sales Associate</td>\n",
       "      <td>Av. dos Lusíadas, 23</td>\n",
       "      <td>Sao Paulo</td>\n",
       "      <td>SP</td>\n",
       "      <td>05432-043</td>\n",
       "      <td>Brazil</td>\n",
       "      <td>(11) 555-7647</td>\n",
       "      <td>NaN</td>\n",
       "    </tr>\n",
       "    <tr>\n",
       "      <th>20</th>\n",
       "      <td>21</td>\n",
       "      <td>Familia Arquibaldo</td>\n",
       "      <td>Aria Cruz</td>\n",
       "      <td>Marketing Assistant</td>\n",
       "      <td>Rua Orós, 92</td>\n",
       "      <td>Sao Paulo</td>\n",
       "      <td>SP</td>\n",
       "      <td>05442-030</td>\n",
       "      <td>Brazil</td>\n",
       "      <td>(11) 555-9857</td>\n",
       "      <td>NaN</td>\n",
       "    </tr>\n",
       "    <tr>\n",
       "      <th>30</th>\n",
       "      <td>31</td>\n",
       "      <td>Gourmet Lanchonetes</td>\n",
       "      <td>André Fonseca</td>\n",
       "      <td>Sales Associate</td>\n",
       "      <td>Av. Brasil, 442</td>\n",
       "      <td>Campinas</td>\n",
       "      <td>SP</td>\n",
       "      <td>04876-786</td>\n",
       "      <td>Brazil</td>\n",
       "      <td>(11) 555-9482</td>\n",
       "      <td>NaN</td>\n",
       "    </tr>\n",
       "    <tr>\n",
       "      <th>31</th>\n",
       "      <td>32</td>\n",
       "      <td>Great Lakes Food Market</td>\n",
       "      <td>Howard Snyder</td>\n",
       "      <td>Marketing Manager</td>\n",
       "      <td>2732 Baker Blvd.</td>\n",
       "      <td>Eugene</td>\n",
       "      <td>OR</td>\n",
       "      <td>97403</td>\n",
       "      <td>USA</td>\n",
       "      <td>(503) 555-7555</td>\n",
       "      <td>NaN</td>\n",
       "    </tr>\n",
       "  </tbody>\n",
       "</table>\n",
       "</div>"
      ],
      "text/plain": [
       "    CustomerID              CompanyName        ContactName  \\\n",
       "9           10    Bottom-Dollar Markets  Elizabeth Lincoln   \n",
       "14          15         Comércio Mineiro       Pedro Afonso   \n",
       "20          21       Familia Arquibaldo          Aria Cruz   \n",
       "30          31      Gourmet Lanchonetes      André Fonseca   \n",
       "31          32  Great Lakes Food Market      Howard Snyder   \n",
       "\n",
       "           ContactTitle               Address       City Region PostalCode  \\\n",
       "9    Accounting Manager    23 Tsawassen Blvd.  Tsawassen     BC    T2F 8M4   \n",
       "14      Sales Associate  Av. dos Lusíadas, 23  Sao Paulo     SP  05432-043   \n",
       "20  Marketing Assistant          Rua Orós, 92  Sao Paulo     SP  05442-030   \n",
       "30      Sales Associate       Av. Brasil, 442   Campinas     SP  04876-786   \n",
       "31    Marketing Manager      2732 Baker Blvd.     Eugene     OR      97403   \n",
       "\n",
       "   Country           Phone             Fax  \n",
       "9   Canada  (604) 555-4729  (604) 555-3745  \n",
       "14  Brazil   (11) 555-7647             NaN  \n",
       "20  Brazil   (11) 555-9857             NaN  \n",
       "30  Brazil   (11) 555-9482             NaN  \n",
       "31     USA  (503) 555-7555             NaN  "
      ]
     },
     "execution_count": 180,
     "metadata": {},
     "output_type": "execute_result"
    }
   ],
   "source": [
    "cust[ifnotnull].head()"
   ]
  },
  {
   "cell_type": "code",
   "execution_count": null,
   "id": "f1b0d21a",
   "metadata": {},
   "outputs": [],
   "source": [
    "#Filling null values with the previous ones -- fillna()"
   ]
  },
  {
   "cell_type": "code",
   "execution_count": 181,
   "id": "fa240cc7",
   "metadata": {},
   "outputs": [],
   "source": [
    "cust[\"Region\"] = cust[\"Region\"].fillna(\"No Region\")"
   ]
  },
  {
   "cell_type": "code",
   "execution_count": 182,
   "id": "a16e846d",
   "metadata": {},
   "outputs": [
    {
     "data": {
      "text/html": [
       "<div>\n",
       "<style scoped>\n",
       "    .dataframe tbody tr th:only-of-type {\n",
       "        vertical-align: middle;\n",
       "    }\n",
       "\n",
       "    .dataframe tbody tr th {\n",
       "        vertical-align: top;\n",
       "    }\n",
       "\n",
       "    .dataframe thead th {\n",
       "        text-align: right;\n",
       "    }\n",
       "</style>\n",
       "<table border=\"1\" class=\"dataframe\">\n",
       "  <thead>\n",
       "    <tr style=\"text-align: right;\">\n",
       "      <th></th>\n",
       "      <th>CustomerID</th>\n",
       "      <th>CompanyName</th>\n",
       "      <th>ContactName</th>\n",
       "      <th>ContactTitle</th>\n",
       "      <th>Address</th>\n",
       "      <th>City</th>\n",
       "      <th>Region</th>\n",
       "      <th>PostalCode</th>\n",
       "      <th>Country</th>\n",
       "      <th>Phone</th>\n",
       "      <th>Fax</th>\n",
       "    </tr>\n",
       "  </thead>\n",
       "  <tbody>\n",
       "    <tr>\n",
       "      <th>0</th>\n",
       "      <td>1</td>\n",
       "      <td>Alfreds Futterkiste</td>\n",
       "      <td>Maria Anders</td>\n",
       "      <td>Sales Representative</td>\n",
       "      <td>Obere Str. 57</td>\n",
       "      <td>Berlin</td>\n",
       "      <td>No Region</td>\n",
       "      <td>12209</td>\n",
       "      <td>Germany</td>\n",
       "      <td>030-0074321</td>\n",
       "      <td>030-0076545</td>\n",
       "    </tr>\n",
       "    <tr>\n",
       "      <th>1</th>\n",
       "      <td>2</td>\n",
       "      <td>Ana Trujillo Emparedados y helados</td>\n",
       "      <td>Ana Trujillo</td>\n",
       "      <td>Owner</td>\n",
       "      <td>Avda. de la Constitución 2222</td>\n",
       "      <td>México D.F.</td>\n",
       "      <td>No Region</td>\n",
       "      <td>5021</td>\n",
       "      <td>Mexico</td>\n",
       "      <td>(5) 555-4729</td>\n",
       "      <td>(5) 555-3745</td>\n",
       "    </tr>\n",
       "    <tr>\n",
       "      <th>2</th>\n",
       "      <td>3</td>\n",
       "      <td>Antonio Moreno Taquería</td>\n",
       "      <td>Antonio Moreno</td>\n",
       "      <td>Owner</td>\n",
       "      <td>Mataderos  2312</td>\n",
       "      <td>México D.F.</td>\n",
       "      <td>No Region</td>\n",
       "      <td>5023</td>\n",
       "      <td>Mexico</td>\n",
       "      <td>(5) 555-3932</td>\n",
       "      <td>NaN</td>\n",
       "    </tr>\n",
       "    <tr>\n",
       "      <th>3</th>\n",
       "      <td>4</td>\n",
       "      <td>Around the Horn</td>\n",
       "      <td>Thomas Hardy</td>\n",
       "      <td>Sales Representative</td>\n",
       "      <td>120 Hanover Sq.</td>\n",
       "      <td>London</td>\n",
       "      <td>No Region</td>\n",
       "      <td>WA1 1DP</td>\n",
       "      <td>UK</td>\n",
       "      <td>(171) 555-7788</td>\n",
       "      <td>(171) 555-6750</td>\n",
       "    </tr>\n",
       "    <tr>\n",
       "      <th>4</th>\n",
       "      <td>5</td>\n",
       "      <td>Berglunds snabbköp</td>\n",
       "      <td>Christina Berglund</td>\n",
       "      <td>Order Administrator</td>\n",
       "      <td>Berguvsvägen  8</td>\n",
       "      <td>Luleå</td>\n",
       "      <td>No Region</td>\n",
       "      <td>S-958 22</td>\n",
       "      <td>Sweden</td>\n",
       "      <td>0921-12 34 65</td>\n",
       "      <td>0921-12 34 67</td>\n",
       "    </tr>\n",
       "  </tbody>\n",
       "</table>\n",
       "</div>"
      ],
      "text/plain": [
       "   CustomerID                         CompanyName         ContactName  \\\n",
       "0           1                 Alfreds Futterkiste        Maria Anders   \n",
       "1           2  Ana Trujillo Emparedados y helados        Ana Trujillo   \n",
       "2           3             Antonio Moreno Taquería      Antonio Moreno   \n",
       "3           4                     Around the Horn        Thomas Hardy   \n",
       "4           5                  Berglunds snabbköp  Christina Berglund   \n",
       "\n",
       "           ContactTitle                        Address         City  \\\n",
       "0  Sales Representative                  Obere Str. 57       Berlin   \n",
       "1                 Owner  Avda. de la Constitución 2222  México D.F.   \n",
       "2                 Owner                Mataderos  2312  México D.F.   \n",
       "3  Sales Representative                120 Hanover Sq.       London   \n",
       "4   Order Administrator                Berguvsvägen  8        Luleå   \n",
       "\n",
       "      Region PostalCode  Country           Phone             Fax  \n",
       "0  No Region      12209  Germany     030-0074321     030-0076545  \n",
       "1  No Region       5021   Mexico    (5) 555-4729    (5) 555-3745  \n",
       "2  No Region       5023   Mexico    (5) 555-3932             NaN  \n",
       "3  No Region    WA1 1DP       UK  (171) 555-7788  (171) 555-6750  \n",
       "4  No Region   S-958 22   Sweden   0921-12 34 65   0921-12 34 67  "
      ]
     },
     "execution_count": 182,
     "metadata": {},
     "output_type": "execute_result"
    }
   ],
   "source": [
    "cust.head(5)"
   ]
  },
  {
   "cell_type": "code",
   "execution_count": null,
   "id": "9be58d19",
   "metadata": {},
   "outputs": [],
   "source": [
    "#Dropping missing values using dropna()"
   ]
  },
  {
   "cell_type": "code",
   "execution_count": 183,
   "id": "6d29b630",
   "metadata": {},
   "outputs": [
    {
     "data": {
      "text/plain": [
       "CustomerID      91\n",
       "CompanyName     91\n",
       "ContactName     91\n",
       "ContactTitle    91\n",
       "Address         91\n",
       "City            91\n",
       "Region          91\n",
       "PostalCode      90\n",
       "Country         91\n",
       "Phone           91\n",
       "Fax             69\n",
       "dtype: int64"
      ]
     },
     "execution_count": 183,
     "metadata": {},
     "output_type": "execute_result"
    }
   ],
   "source": [
    "cust.count()"
   ]
  },
  {
   "cell_type": "code",
   "execution_count": 184,
   "id": "571787d1-7255-4701-882b-ab4555072769",
   "metadata": {},
   "outputs": [
    {
     "name": "stdout",
     "output_type": "stream",
     "text": [
      "<class 'pandas.core.frame.DataFrame'>\n",
      "RangeIndex: 91 entries, 0 to 90\n",
      "Data columns (total 11 columns):\n",
      " #   Column        Non-Null Count  Dtype \n",
      "---  ------        --------------  ----- \n",
      " 0   CustomerID    91 non-null     int64 \n",
      " 1   CompanyName   91 non-null     object\n",
      " 2   ContactName   91 non-null     object\n",
      " 3   ContactTitle  91 non-null     object\n",
      " 4   Address       91 non-null     object\n",
      " 5   City          91 non-null     object\n",
      " 6   Region        91 non-null     object\n",
      " 7   PostalCode    90 non-null     object\n",
      " 8   Country       91 non-null     object\n",
      " 9   Phone         91 non-null     object\n",
      " 10  Fax           69 non-null     object\n",
      "dtypes: int64(1), object(10)\n",
      "memory usage: 7.9+ KB\n"
     ]
    }
   ],
   "source": [
    "cust.info()"
   ]
  },
  {
   "cell_type": "code",
   "execution_count": 185,
   "id": "1cbc0699",
   "metadata": {},
   "outputs": [],
   "source": [
    "a= cust[\"PostalCode\"].isnull()"
   ]
  },
  {
   "cell_type": "code",
   "execution_count": 186,
   "id": "b41ccdf2",
   "metadata": {},
   "outputs": [
    {
     "data": {
      "text/html": [
       "<div>\n",
       "<style scoped>\n",
       "    .dataframe tbody tr th:only-of-type {\n",
       "        vertical-align: middle;\n",
       "    }\n",
       "\n",
       "    .dataframe tbody tr th {\n",
       "        vertical-align: top;\n",
       "    }\n",
       "\n",
       "    .dataframe thead th {\n",
       "        text-align: right;\n",
       "    }\n",
       "</style>\n",
       "<table border=\"1\" class=\"dataframe\">\n",
       "  <thead>\n",
       "    <tr style=\"text-align: right;\">\n",
       "      <th></th>\n",
       "      <th>CustomerID</th>\n",
       "      <th>CompanyName</th>\n",
       "      <th>ContactName</th>\n",
       "      <th>ContactTitle</th>\n",
       "      <th>Address</th>\n",
       "      <th>City</th>\n",
       "      <th>Region</th>\n",
       "      <th>PostalCode</th>\n",
       "      <th>Country</th>\n",
       "      <th>Phone</th>\n",
       "      <th>Fax</th>\n",
       "    </tr>\n",
       "  </thead>\n",
       "  <tbody>\n",
       "    <tr>\n",
       "      <th>36</th>\n",
       "      <td>37</td>\n",
       "      <td>Hungry Owl All-Night Grocers</td>\n",
       "      <td>Patricia McKenna</td>\n",
       "      <td>Sales Associate</td>\n",
       "      <td>8 Johnstown Road</td>\n",
       "      <td>Cork</td>\n",
       "      <td>Co. Cork</td>\n",
       "      <td>NaN</td>\n",
       "      <td>Ireland</td>\n",
       "      <td>2967 542</td>\n",
       "      <td>2967 3333</td>\n",
       "    </tr>\n",
       "  </tbody>\n",
       "</table>\n",
       "</div>"
      ],
      "text/plain": [
       "    CustomerID                   CompanyName       ContactName  \\\n",
       "36          37  Hungry Owl All-Night Grocers  Patricia McKenna   \n",
       "\n",
       "       ContactTitle           Address  City    Region PostalCode  Country  \\\n",
       "36  Sales Associate  8 Johnstown Road  Cork  Co. Cork        NaN  Ireland   \n",
       "\n",
       "       Phone        Fax  \n",
       "36  2967 542  2967 3333  "
      ]
     },
     "execution_count": 186,
     "metadata": {},
     "output_type": "execute_result"
    }
   ],
   "source": [
    "cust[a].head()"
   ]
  },
  {
   "cell_type": "code",
   "execution_count": 187,
   "id": "e5287350",
   "metadata": {},
   "outputs": [],
   "source": [
    "#drop all rows that have any NaN values\n",
    "dn=cust.dropna()"
   ]
  },
  {
   "cell_type": "code",
   "execution_count": 188,
   "id": "75e51c2b",
   "metadata": {},
   "outputs": [
    {
     "data": {
      "text/html": [
       "<div>\n",
       "<style scoped>\n",
       "    .dataframe tbody tr th:only-of-type {\n",
       "        vertical-align: middle;\n",
       "    }\n",
       "\n",
       "    .dataframe tbody tr th {\n",
       "        vertical-align: top;\n",
       "    }\n",
       "\n",
       "    .dataframe thead th {\n",
       "        text-align: right;\n",
       "    }\n",
       "</style>\n",
       "<table border=\"1\" class=\"dataframe\">\n",
       "  <thead>\n",
       "    <tr style=\"text-align: right;\">\n",
       "      <th></th>\n",
       "      <th>CustomerID</th>\n",
       "      <th>CompanyName</th>\n",
       "      <th>ContactName</th>\n",
       "      <th>ContactTitle</th>\n",
       "      <th>Address</th>\n",
       "      <th>City</th>\n",
       "      <th>Region</th>\n",
       "      <th>PostalCode</th>\n",
       "      <th>Country</th>\n",
       "      <th>Phone</th>\n",
       "      <th>Fax</th>\n",
       "    </tr>\n",
       "  </thead>\n",
       "  <tbody>\n",
       "    <tr>\n",
       "      <th>0</th>\n",
       "      <td>1</td>\n",
       "      <td>Alfreds Futterkiste</td>\n",
       "      <td>Maria Anders</td>\n",
       "      <td>Sales Representative</td>\n",
       "      <td>Obere Str. 57</td>\n",
       "      <td>Berlin</td>\n",
       "      <td>No Region</td>\n",
       "      <td>12209</td>\n",
       "      <td>Germany</td>\n",
       "      <td>030-0074321</td>\n",
       "      <td>030-0076545</td>\n",
       "    </tr>\n",
       "    <tr>\n",
       "      <th>1</th>\n",
       "      <td>2</td>\n",
       "      <td>Ana Trujillo Emparedados y helados</td>\n",
       "      <td>Ana Trujillo</td>\n",
       "      <td>Owner</td>\n",
       "      <td>Avda. de la Constitución 2222</td>\n",
       "      <td>México D.F.</td>\n",
       "      <td>No Region</td>\n",
       "      <td>5021</td>\n",
       "      <td>Mexico</td>\n",
       "      <td>(5) 555-4729</td>\n",
       "      <td>(5) 555-3745</td>\n",
       "    </tr>\n",
       "    <tr>\n",
       "      <th>3</th>\n",
       "      <td>4</td>\n",
       "      <td>Around the Horn</td>\n",
       "      <td>Thomas Hardy</td>\n",
       "      <td>Sales Representative</td>\n",
       "      <td>120 Hanover Sq.</td>\n",
       "      <td>London</td>\n",
       "      <td>No Region</td>\n",
       "      <td>WA1 1DP</td>\n",
       "      <td>UK</td>\n",
       "      <td>(171) 555-7788</td>\n",
       "      <td>(171) 555-6750</td>\n",
       "    </tr>\n",
       "    <tr>\n",
       "      <th>4</th>\n",
       "      <td>5</td>\n",
       "      <td>Berglunds snabbköp</td>\n",
       "      <td>Christina Berglund</td>\n",
       "      <td>Order Administrator</td>\n",
       "      <td>Berguvsvägen  8</td>\n",
       "      <td>Luleå</td>\n",
       "      <td>No Region</td>\n",
       "      <td>S-958 22</td>\n",
       "      <td>Sweden</td>\n",
       "      <td>0921-12 34 65</td>\n",
       "      <td>0921-12 34 67</td>\n",
       "    </tr>\n",
       "    <tr>\n",
       "      <th>5</th>\n",
       "      <td>6</td>\n",
       "      <td>Blauer See Delikatessen</td>\n",
       "      <td>Hanna Moos</td>\n",
       "      <td>Sales Representative</td>\n",
       "      <td>Forsterstr. 57</td>\n",
       "      <td>Mannheim</td>\n",
       "      <td>No Region</td>\n",
       "      <td>68306</td>\n",
       "      <td>Germany</td>\n",
       "      <td>0621-08460</td>\n",
       "      <td>0621-08924</td>\n",
       "    </tr>\n",
       "  </tbody>\n",
       "</table>\n",
       "</div>"
      ],
      "text/plain": [
       "   CustomerID                         CompanyName         ContactName  \\\n",
       "0           1                 Alfreds Futterkiste        Maria Anders   \n",
       "1           2  Ana Trujillo Emparedados y helados        Ana Trujillo   \n",
       "3           4                     Around the Horn        Thomas Hardy   \n",
       "4           5                  Berglunds snabbköp  Christina Berglund   \n",
       "5           6             Blauer See Delikatessen          Hanna Moos   \n",
       "\n",
       "           ContactTitle                        Address         City  \\\n",
       "0  Sales Representative                  Obere Str. 57       Berlin   \n",
       "1                 Owner  Avda. de la Constitución 2222  México D.F.   \n",
       "3  Sales Representative                120 Hanover Sq.       London   \n",
       "4   Order Administrator                Berguvsvägen  8        Luleå   \n",
       "5  Sales Representative                 Forsterstr. 57     Mannheim   \n",
       "\n",
       "      Region PostalCode  Country           Phone             Fax  \n",
       "0  No Region      12209  Germany     030-0074321     030-0076545  \n",
       "1  No Region       5021   Mexico    (5) 555-4729    (5) 555-3745  \n",
       "3  No Region    WA1 1DP       UK  (171) 555-7788  (171) 555-6750  \n",
       "4  No Region   S-958 22   Sweden   0921-12 34 65   0921-12 34 67  \n",
       "5  No Region      68306  Germany      0621-08460      0621-08924  "
      ]
     },
     "execution_count": 188,
     "metadata": {},
     "output_type": "execute_result"
    }
   ],
   "source": [
    "dn.head()"
   ]
  },
  {
   "cell_type": "code",
   "execution_count": 189,
   "id": "334a68eb",
   "metadata": {},
   "outputs": [
    {
     "data": {
      "text/plain": [
       "CustomerID      68\n",
       "CompanyName     68\n",
       "ContactName     68\n",
       "ContactTitle    68\n",
       "Address         68\n",
       "City            68\n",
       "Region          68\n",
       "PostalCode      68\n",
       "Country         68\n",
       "Phone           68\n",
       "Fax             68\n",
       "dtype: int64"
      ]
     },
     "execution_count": 189,
     "metadata": {},
     "output_type": "execute_result"
    }
   ],
   "source": [
    "dn.count()"
   ]
  },
  {
   "cell_type": "code",
   "execution_count": 190,
   "id": "ea93500d",
   "metadata": {},
   "outputs": [],
   "source": [
    " #drop only if ALL columns are NaN\n",
    "dn1=cust.dropna(how='all')"
   ]
  },
  {
   "cell_type": "code",
   "execution_count": 191,
   "id": "565efbf1",
   "metadata": {},
   "outputs": [
    {
     "data": {
      "text/plain": [
       "CustomerID      91\n",
       "CompanyName     91\n",
       "ContactName     91\n",
       "ContactTitle    91\n",
       "Address         91\n",
       "City            91\n",
       "Region          91\n",
       "PostalCode      90\n",
       "Country         91\n",
       "Phone           91\n",
       "Fax             69\n",
       "dtype: int64"
      ]
     },
     "execution_count": 191,
     "metadata": {},
     "output_type": "execute_result"
    }
   ],
   "source": [
    "dn1.count()"
   ]
  },
  {
   "cell_type": "code",
   "execution_count": 192,
   "id": "7f0bcd94",
   "metadata": {},
   "outputs": [],
   "source": [
    "#Drop only if NaN in specific column (as asked in the question)\n",
    "dn2=cust.dropna(subset=[\"PostalCode\"])"
   ]
  },
  {
   "cell_type": "code",
   "execution_count": 193,
   "id": "64c43f49",
   "metadata": {},
   "outputs": [
    {
     "data": {
      "text/plain": [
       "CustomerID      90\n",
       "CompanyName     90\n",
       "ContactName     90\n",
       "ContactTitle    90\n",
       "Address         90\n",
       "City            90\n",
       "Region          90\n",
       "PostalCode      90\n",
       "Country         90\n",
       "Phone           90\n",
       "Fax             68\n",
       "dtype: int64"
      ]
     },
     "execution_count": 193,
     "metadata": {},
     "output_type": "execute_result"
    }
   ],
   "source": [
    "dn2.count()"
   ]
  },
  {
   "cell_type": "code",
   "execution_count": 194,
   "id": "d768ab08",
   "metadata": {},
   "outputs": [
    {
     "data": {
      "text/plain": [
       "CustomerID      91\n",
       "CompanyName     91\n",
       "ContactName     91\n",
       "ContactTitle    91\n",
       "Address         91\n",
       "City            91\n",
       "Region          91\n",
       "PostalCode      90\n",
       "Country         91\n",
       "Phone           91\n",
       "Fax             69\n",
       "dtype: int64"
      ]
     },
     "execution_count": 194,
     "metadata": {},
     "output_type": "execute_result"
    }
   ],
   "source": [
    "cust.count()"
   ]
  },
  {
   "cell_type": "code",
   "execution_count": 195,
   "id": "14f67fdb-a7fb-446f-ab4f-1958013d8c4a",
   "metadata": {},
   "outputs": [
    {
     "data": {
      "text/html": [
       "<div>\n",
       "<style scoped>\n",
       "    .dataframe tbody tr th:only-of-type {\n",
       "        vertical-align: middle;\n",
       "    }\n",
       "\n",
       "    .dataframe tbody tr th {\n",
       "        vertical-align: top;\n",
       "    }\n",
       "\n",
       "    .dataframe thead th {\n",
       "        text-align: right;\n",
       "    }\n",
       "</style>\n",
       "<table border=\"1\" class=\"dataframe\">\n",
       "  <thead>\n",
       "    <tr style=\"text-align: right;\">\n",
       "      <th></th>\n",
       "      <th>CustomerID</th>\n",
       "      <th>CompanyName</th>\n",
       "      <th>ContactName</th>\n",
       "      <th>ContactTitle</th>\n",
       "      <th>Address</th>\n",
       "      <th>City</th>\n",
       "      <th>Region</th>\n",
       "      <th>PostalCode</th>\n",
       "      <th>Country</th>\n",
       "      <th>Phone</th>\n",
       "      <th>Fax</th>\n",
       "    </tr>\n",
       "  </thead>\n",
       "  <tbody>\n",
       "    <tr>\n",
       "      <th>0</th>\n",
       "      <td>1</td>\n",
       "      <td>Alfreds Futterkiste</td>\n",
       "      <td>Maria Anders</td>\n",
       "      <td>Sales Representative</td>\n",
       "      <td>Obere Str. 57</td>\n",
       "      <td>Berlin</td>\n",
       "      <td>No Region</td>\n",
       "      <td>12209</td>\n",
       "      <td>Germany</td>\n",
       "      <td>030-0074321</td>\n",
       "      <td>030-0076545</td>\n",
       "    </tr>\n",
       "    <tr>\n",
       "      <th>1</th>\n",
       "      <td>2</td>\n",
       "      <td>Ana Trujillo Emparedados y helados</td>\n",
       "      <td>Ana Trujillo</td>\n",
       "      <td>Owner</td>\n",
       "      <td>Avda. de la Constitución 2222</td>\n",
       "      <td>México D.F.</td>\n",
       "      <td>No Region</td>\n",
       "      <td>5021</td>\n",
       "      <td>Mexico</td>\n",
       "      <td>(5) 555-4729</td>\n",
       "      <td>(5) 555-3745</td>\n",
       "    </tr>\n",
       "    <tr>\n",
       "      <th>2</th>\n",
       "      <td>3</td>\n",
       "      <td>Antonio Moreno Taquería</td>\n",
       "      <td>Antonio Moreno</td>\n",
       "      <td>Owner</td>\n",
       "      <td>Mataderos  2312</td>\n",
       "      <td>México D.F.</td>\n",
       "      <td>No Region</td>\n",
       "      <td>5023</td>\n",
       "      <td>Mexico</td>\n",
       "      <td>(5) 555-3932</td>\n",
       "      <td>NaN</td>\n",
       "    </tr>\n",
       "    <tr>\n",
       "      <th>3</th>\n",
       "      <td>4</td>\n",
       "      <td>Around the Horn</td>\n",
       "      <td>Thomas Hardy</td>\n",
       "      <td>Sales Representative</td>\n",
       "      <td>120 Hanover Sq.</td>\n",
       "      <td>London</td>\n",
       "      <td>No Region</td>\n",
       "      <td>WA1 1DP</td>\n",
       "      <td>UK</td>\n",
       "      <td>(171) 555-7788</td>\n",
       "      <td>(171) 555-6750</td>\n",
       "    </tr>\n",
       "    <tr>\n",
       "      <th>4</th>\n",
       "      <td>5</td>\n",
       "      <td>Berglunds snabbköp</td>\n",
       "      <td>Christina Berglund</td>\n",
       "      <td>Order Administrator</td>\n",
       "      <td>Berguvsvägen  8</td>\n",
       "      <td>Luleå</td>\n",
       "      <td>No Region</td>\n",
       "      <td>S-958 22</td>\n",
       "      <td>Sweden</td>\n",
       "      <td>0921-12 34 65</td>\n",
       "      <td>0921-12 34 67</td>\n",
       "    </tr>\n",
       "    <tr>\n",
       "      <th>...</th>\n",
       "      <td>...</td>\n",
       "      <td>...</td>\n",
       "      <td>...</td>\n",
       "      <td>...</td>\n",
       "      <td>...</td>\n",
       "      <td>...</td>\n",
       "      <td>...</td>\n",
       "      <td>...</td>\n",
       "      <td>...</td>\n",
       "      <td>...</td>\n",
       "      <td>...</td>\n",
       "    </tr>\n",
       "    <tr>\n",
       "      <th>86</th>\n",
       "      <td>87</td>\n",
       "      <td>Wartian Herkku</td>\n",
       "      <td>Pirkko Koskitalo</td>\n",
       "      <td>Accounting Manager</td>\n",
       "      <td>Torikatu 38</td>\n",
       "      <td>Oulu</td>\n",
       "      <td>No Region</td>\n",
       "      <td>90110</td>\n",
       "      <td>Finland</td>\n",
       "      <td>981-443655</td>\n",
       "      <td>981-443655</td>\n",
       "    </tr>\n",
       "    <tr>\n",
       "      <th>87</th>\n",
       "      <td>88</td>\n",
       "      <td>Wellington Importadora</td>\n",
       "      <td>Paula Parente</td>\n",
       "      <td>Sales Manager</td>\n",
       "      <td>Rua do Mercado, 12</td>\n",
       "      <td>Resende</td>\n",
       "      <td>SP</td>\n",
       "      <td>08737-363</td>\n",
       "      <td>Brazil</td>\n",
       "      <td>(14) 555-8122</td>\n",
       "      <td>NaN</td>\n",
       "    </tr>\n",
       "    <tr>\n",
       "      <th>88</th>\n",
       "      <td>89</td>\n",
       "      <td>White Clover Markets</td>\n",
       "      <td>Karl Jablonski</td>\n",
       "      <td>Owner</td>\n",
       "      <td>305 - 14th Ave. S. Suite 3B</td>\n",
       "      <td>Seattle</td>\n",
       "      <td>WA</td>\n",
       "      <td>98128</td>\n",
       "      <td>USA</td>\n",
       "      <td>(206) 555-4112</td>\n",
       "      <td>(206) 555-4115</td>\n",
       "    </tr>\n",
       "    <tr>\n",
       "      <th>89</th>\n",
       "      <td>90</td>\n",
       "      <td>Wilman Kala</td>\n",
       "      <td>Matti Karttunen</td>\n",
       "      <td>Owner/Marketing Assistant</td>\n",
       "      <td>Keskuskatu 45</td>\n",
       "      <td>Helsinki</td>\n",
       "      <td>No Region</td>\n",
       "      <td>21240</td>\n",
       "      <td>Finland</td>\n",
       "      <td>90-224 8858</td>\n",
       "      <td>90-224 8858</td>\n",
       "    </tr>\n",
       "    <tr>\n",
       "      <th>90</th>\n",
       "      <td>91</td>\n",
       "      <td>Wolski  Zajazd</td>\n",
       "      <td>Zbyszek Piestrzeniewicz</td>\n",
       "      <td>Owner</td>\n",
       "      <td>ul. Filtrowa 68</td>\n",
       "      <td>Warszawa</td>\n",
       "      <td>No Region</td>\n",
       "      <td>01-012</td>\n",
       "      <td>Poland</td>\n",
       "      <td>(26) 642-7012</td>\n",
       "      <td>(26) 642-7012</td>\n",
       "    </tr>\n",
       "  </tbody>\n",
       "</table>\n",
       "<p>90 rows × 11 columns</p>\n",
       "</div>"
      ],
      "text/plain": [
       "    CustomerID                         CompanyName              ContactName  \\\n",
       "0            1                 Alfreds Futterkiste             Maria Anders   \n",
       "1            2  Ana Trujillo Emparedados y helados             Ana Trujillo   \n",
       "2            3             Antonio Moreno Taquería           Antonio Moreno   \n",
       "3            4                     Around the Horn             Thomas Hardy   \n",
       "4            5                  Berglunds snabbköp       Christina Berglund   \n",
       "..         ...                                 ...                      ...   \n",
       "86          87                      Wartian Herkku         Pirkko Koskitalo   \n",
       "87          88              Wellington Importadora            Paula Parente   \n",
       "88          89                White Clover Markets           Karl Jablonski   \n",
       "89          90                         Wilman Kala          Matti Karttunen   \n",
       "90          91                      Wolski  Zajazd  Zbyszek Piestrzeniewicz   \n",
       "\n",
       "                 ContactTitle                        Address         City  \\\n",
       "0        Sales Representative                  Obere Str. 57       Berlin   \n",
       "1                       Owner  Avda. de la Constitución 2222  México D.F.   \n",
       "2                       Owner                Mataderos  2312  México D.F.   \n",
       "3        Sales Representative                120 Hanover Sq.       London   \n",
       "4         Order Administrator                Berguvsvägen  8        Luleå   \n",
       "..                        ...                            ...          ...   \n",
       "86         Accounting Manager                    Torikatu 38         Oulu   \n",
       "87              Sales Manager             Rua do Mercado, 12      Resende   \n",
       "88                      Owner    305 - 14th Ave. S. Suite 3B      Seattle   \n",
       "89  Owner/Marketing Assistant                  Keskuskatu 45     Helsinki   \n",
       "90                      Owner                ul. Filtrowa 68     Warszawa   \n",
       "\n",
       "       Region PostalCode  Country           Phone             Fax  \n",
       "0   No Region      12209  Germany     030-0074321     030-0076545  \n",
       "1   No Region       5021   Mexico    (5) 555-4729    (5) 555-3745  \n",
       "2   No Region       5023   Mexico    (5) 555-3932             NaN  \n",
       "3   No Region    WA1 1DP       UK  (171) 555-7788  (171) 555-6750  \n",
       "4   No Region   S-958 22   Sweden   0921-12 34 65   0921-12 34 67  \n",
       "..        ...        ...      ...             ...             ...  \n",
       "86  No Region      90110  Finland      981-443655      981-443655  \n",
       "87         SP  08737-363   Brazil   (14) 555-8122             NaN  \n",
       "88         WA      98128      USA  (206) 555-4112  (206) 555-4115  \n",
       "89  No Region      21240  Finland     90-224 8858     90-224 8858  \n",
       "90  No Region     01-012   Poland   (26) 642-7012   (26) 642-7012  \n",
       "\n",
       "[90 rows x 11 columns]"
      ]
     },
     "execution_count": 195,
     "metadata": {},
     "output_type": "execute_result"
    }
   ],
   "source": [
    "cust.dropna(subset=['PostalCode'])"
   ]
  },
  {
   "cell_type": "code",
   "execution_count": 196,
   "id": "c841debf-e74c-4753-be17-96bc4b3b30a2",
   "metadata": {},
   "outputs": [
    {
     "data": {
      "text/html": [
       "<div>\n",
       "<style scoped>\n",
       "    .dataframe tbody tr th:only-of-type {\n",
       "        vertical-align: middle;\n",
       "    }\n",
       "\n",
       "    .dataframe tbody tr th {\n",
       "        vertical-align: top;\n",
       "    }\n",
       "\n",
       "    .dataframe thead th {\n",
       "        text-align: right;\n",
       "    }\n",
       "</style>\n",
       "<table border=\"1\" class=\"dataframe\">\n",
       "  <thead>\n",
       "    <tr style=\"text-align: right;\">\n",
       "      <th></th>\n",
       "      <th>CustomerID</th>\n",
       "      <th>CompanyName</th>\n",
       "      <th>ContactName</th>\n",
       "      <th>ContactTitle</th>\n",
       "      <th>Address</th>\n",
       "      <th>City</th>\n",
       "      <th>Region</th>\n",
       "      <th>PostalCode</th>\n",
       "      <th>Country</th>\n",
       "      <th>Phone</th>\n",
       "      <th>Fax</th>\n",
       "    </tr>\n",
       "  </thead>\n",
       "  <tbody>\n",
       "    <tr>\n",
       "      <th>0</th>\n",
       "      <td>1</td>\n",
       "      <td>Alfreds Futterkiste</td>\n",
       "      <td>Maria Anders</td>\n",
       "      <td>Sales Representative</td>\n",
       "      <td>Obere Str. 57</td>\n",
       "      <td>Berlin</td>\n",
       "      <td>No Region</td>\n",
       "      <td>12209</td>\n",
       "      <td>Germany</td>\n",
       "      <td>030-0074321</td>\n",
       "      <td>030-0076545</td>\n",
       "    </tr>\n",
       "    <tr>\n",
       "      <th>1</th>\n",
       "      <td>2</td>\n",
       "      <td>Ana Trujillo Emparedados y helados</td>\n",
       "      <td>Ana Trujillo</td>\n",
       "      <td>Owner</td>\n",
       "      <td>Avda. de la Constitución 2222</td>\n",
       "      <td>México D.F.</td>\n",
       "      <td>No Region</td>\n",
       "      <td>5021</td>\n",
       "      <td>Mexico</td>\n",
       "      <td>(5) 555-4729</td>\n",
       "      <td>(5) 555-3745</td>\n",
       "    </tr>\n",
       "    <tr>\n",
       "      <th>2</th>\n",
       "      <td>3</td>\n",
       "      <td>Antonio Moreno Taquería</td>\n",
       "      <td>Antonio Moreno</td>\n",
       "      <td>Owner</td>\n",
       "      <td>Mataderos  2312</td>\n",
       "      <td>México D.F.</td>\n",
       "      <td>No Region</td>\n",
       "      <td>5023</td>\n",
       "      <td>Mexico</td>\n",
       "      <td>(5) 555-3932</td>\n",
       "      <td>NaN</td>\n",
       "    </tr>\n",
       "    <tr>\n",
       "      <th>3</th>\n",
       "      <td>4</td>\n",
       "      <td>Around the Horn</td>\n",
       "      <td>Thomas Hardy</td>\n",
       "      <td>Sales Representative</td>\n",
       "      <td>120 Hanover Sq.</td>\n",
       "      <td>London</td>\n",
       "      <td>No Region</td>\n",
       "      <td>WA1 1DP</td>\n",
       "      <td>UK</td>\n",
       "      <td>(171) 555-7788</td>\n",
       "      <td>(171) 555-6750</td>\n",
       "    </tr>\n",
       "    <tr>\n",
       "      <th>4</th>\n",
       "      <td>5</td>\n",
       "      <td>Berglunds snabbköp</td>\n",
       "      <td>Christina Berglund</td>\n",
       "      <td>Order Administrator</td>\n",
       "      <td>Berguvsvägen  8</td>\n",
       "      <td>Luleå</td>\n",
       "      <td>No Region</td>\n",
       "      <td>S-958 22</td>\n",
       "      <td>Sweden</td>\n",
       "      <td>0921-12 34 65</td>\n",
       "      <td>0921-12 34 67</td>\n",
       "    </tr>\n",
       "    <tr>\n",
       "      <th>...</th>\n",
       "      <td>...</td>\n",
       "      <td>...</td>\n",
       "      <td>...</td>\n",
       "      <td>...</td>\n",
       "      <td>...</td>\n",
       "      <td>...</td>\n",
       "      <td>...</td>\n",
       "      <td>...</td>\n",
       "      <td>...</td>\n",
       "      <td>...</td>\n",
       "      <td>...</td>\n",
       "    </tr>\n",
       "    <tr>\n",
       "      <th>86</th>\n",
       "      <td>87</td>\n",
       "      <td>Wartian Herkku</td>\n",
       "      <td>Pirkko Koskitalo</td>\n",
       "      <td>Accounting Manager</td>\n",
       "      <td>Torikatu 38</td>\n",
       "      <td>Oulu</td>\n",
       "      <td>No Region</td>\n",
       "      <td>90110</td>\n",
       "      <td>Finland</td>\n",
       "      <td>981-443655</td>\n",
       "      <td>981-443655</td>\n",
       "    </tr>\n",
       "    <tr>\n",
       "      <th>87</th>\n",
       "      <td>88</td>\n",
       "      <td>Wellington Importadora</td>\n",
       "      <td>Paula Parente</td>\n",
       "      <td>Sales Manager</td>\n",
       "      <td>Rua do Mercado, 12</td>\n",
       "      <td>Resende</td>\n",
       "      <td>SP</td>\n",
       "      <td>08737-363</td>\n",
       "      <td>Brazil</td>\n",
       "      <td>(14) 555-8122</td>\n",
       "      <td>NaN</td>\n",
       "    </tr>\n",
       "    <tr>\n",
       "      <th>88</th>\n",
       "      <td>89</td>\n",
       "      <td>White Clover Markets</td>\n",
       "      <td>Karl Jablonski</td>\n",
       "      <td>Owner</td>\n",
       "      <td>305 - 14th Ave. S. Suite 3B</td>\n",
       "      <td>Seattle</td>\n",
       "      <td>WA</td>\n",
       "      <td>98128</td>\n",
       "      <td>USA</td>\n",
       "      <td>(206) 555-4112</td>\n",
       "      <td>(206) 555-4115</td>\n",
       "    </tr>\n",
       "    <tr>\n",
       "      <th>89</th>\n",
       "      <td>90</td>\n",
       "      <td>Wilman Kala</td>\n",
       "      <td>Matti Karttunen</td>\n",
       "      <td>Owner/Marketing Assistant</td>\n",
       "      <td>Keskuskatu 45</td>\n",
       "      <td>Helsinki</td>\n",
       "      <td>No Region</td>\n",
       "      <td>21240</td>\n",
       "      <td>Finland</td>\n",
       "      <td>90-224 8858</td>\n",
       "      <td>90-224 8858</td>\n",
       "    </tr>\n",
       "    <tr>\n",
       "      <th>90</th>\n",
       "      <td>91</td>\n",
       "      <td>Wolski  Zajazd</td>\n",
       "      <td>Zbyszek Piestrzeniewicz</td>\n",
       "      <td>Owner</td>\n",
       "      <td>ul. Filtrowa 68</td>\n",
       "      <td>Warszawa</td>\n",
       "      <td>No Region</td>\n",
       "      <td>01-012</td>\n",
       "      <td>Poland</td>\n",
       "      <td>(26) 642-7012</td>\n",
       "      <td>(26) 642-7012</td>\n",
       "    </tr>\n",
       "  </tbody>\n",
       "</table>\n",
       "<p>91 rows × 11 columns</p>\n",
       "</div>"
      ],
      "text/plain": [
       "    CustomerID                         CompanyName              ContactName  \\\n",
       "0            1                 Alfreds Futterkiste             Maria Anders   \n",
       "1            2  Ana Trujillo Emparedados y helados             Ana Trujillo   \n",
       "2            3             Antonio Moreno Taquería           Antonio Moreno   \n",
       "3            4                     Around the Horn             Thomas Hardy   \n",
       "4            5                  Berglunds snabbköp       Christina Berglund   \n",
       "..         ...                                 ...                      ...   \n",
       "86          87                      Wartian Herkku         Pirkko Koskitalo   \n",
       "87          88              Wellington Importadora            Paula Parente   \n",
       "88          89                White Clover Markets           Karl Jablonski   \n",
       "89          90                         Wilman Kala          Matti Karttunen   \n",
       "90          91                      Wolski  Zajazd  Zbyszek Piestrzeniewicz   \n",
       "\n",
       "                 ContactTitle                        Address         City  \\\n",
       "0        Sales Representative                  Obere Str. 57       Berlin   \n",
       "1                       Owner  Avda. de la Constitución 2222  México D.F.   \n",
       "2                       Owner                Mataderos  2312  México D.F.   \n",
       "3        Sales Representative                120 Hanover Sq.       London   \n",
       "4         Order Administrator                Berguvsvägen  8        Luleå   \n",
       "..                        ...                            ...          ...   \n",
       "86         Accounting Manager                    Torikatu 38         Oulu   \n",
       "87              Sales Manager             Rua do Mercado, 12      Resende   \n",
       "88                      Owner    305 - 14th Ave. S. Suite 3B      Seattle   \n",
       "89  Owner/Marketing Assistant                  Keskuskatu 45     Helsinki   \n",
       "90                      Owner                ul. Filtrowa 68     Warszawa   \n",
       "\n",
       "       Region PostalCode  Country           Phone             Fax  \n",
       "0   No Region      12209  Germany     030-0074321     030-0076545  \n",
       "1   No Region       5021   Mexico    (5) 555-4729    (5) 555-3745  \n",
       "2   No Region       5023   Mexico    (5) 555-3932             NaN  \n",
       "3   No Region    WA1 1DP       UK  (171) 555-7788  (171) 555-6750  \n",
       "4   No Region   S-958 22   Sweden   0921-12 34 65   0921-12 34 67  \n",
       "..        ...        ...      ...             ...             ...  \n",
       "86  No Region      90110  Finland      981-443655      981-443655  \n",
       "87         SP  08737-363   Brazil   (14) 555-8122             NaN  \n",
       "88         WA      98128      USA  (206) 555-4112  (206) 555-4115  \n",
       "89  No Region      21240  Finland     90-224 8858     90-224 8858  \n",
       "90  No Region     01-012   Poland   (26) 642-7012   (26) 642-7012  \n",
       "\n",
       "[91 rows x 11 columns]"
      ]
     },
     "execution_count": 196,
     "metadata": {},
     "output_type": "execute_result"
    }
   ],
   "source": [
    "cust"
   ]
  },
  {
   "cell_type": "code",
   "execution_count": 197,
   "id": "d0c57e9f-62b1-4ff4-858c-6cbdc7868481",
   "metadata": {},
   "outputs": [],
   "source": [
    "cust.dropna(subset=['PostalCode'],inplace=True)"
   ]
  },
  {
   "cell_type": "code",
   "execution_count": 198,
   "id": "3e7fe189-5a0d-42b8-88ab-9c4522c11564",
   "metadata": {},
   "outputs": [
    {
     "data": {
      "text/plain": [
       "CustomerID      90\n",
       "CompanyName     90\n",
       "ContactName     90\n",
       "ContactTitle    90\n",
       "Address         90\n",
       "City            90\n",
       "Region          90\n",
       "PostalCode      90\n",
       "Country         90\n",
       "Phone           90\n",
       "Fax             68\n",
       "dtype: int64"
      ]
     },
     "execution_count": 198,
     "metadata": {},
     "output_type": "execute_result"
    }
   ],
   "source": [
    "cust.count()"
   ]
  },
  {
   "cell_type": "code",
   "execution_count": null,
   "id": "3c6ec9d8-4e01-40c8-af3e-4fead37b567d",
   "metadata": {},
   "outputs": [],
   "source": []
  }
 ],
 "metadata": {
  "kernelspec": {
   "display_name": "Python 3 (ipykernel)",
   "language": "python",
   "name": "python3"
  },
  "language_info": {
   "codemirror_mode": {
    "name": "ipython",
    "version": 3
   },
   "file_extension": ".py",
   "mimetype": "text/x-python",
   "name": "python",
   "nbconvert_exporter": "python",
   "pygments_lexer": "ipython3",
   "version": "3.12.6"
  }
 },
 "nbformat": 4,
 "nbformat_minor": 5
}
